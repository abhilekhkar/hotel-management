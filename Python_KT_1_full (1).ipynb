{
 "cells": [
  {
   "cell_type": "markdown",
   "metadata": {
    "id": "_ACBkip-DC9c"
   },
   "source": [
    "#Introduction:\n",
    "\n",
    "### * Python is Object Oriented Programing Language\n",
    "### * At the same time it is Multipurposes Programing Laguage\n",
    "### * Most Python Aplied on Automation, Data Science, and Artificial Inteligence\n",
    "### * In our Project we Work on full stack Development using Python "
   ]
  },
  {
   "cell_type": "markdown",
   "metadata": {
    "id": "b8NkWk9J05J8"
   },
   "source": [
    "#Python Advantages:\n",
    "\n",
    "###* Platform independent\n",
    "###* Using for Multiple developments\n",
    "###* Big Library Support\n",
    "###* Easy to write"
   ]
  },
  {
   "cell_type": "markdown",
   "metadata": {
    "id": "gPHRRpsGw5cn"
   },
   "source": [
    "#Today Agenda:\n",
    "\n",
    "**1.**   **print() function** <br>\n",
    "**2.**  **Variable Decalaration** <br>\n",
    "**3.**   **New Different types Data assigning** <br>\n",
    "**4.**   **Type Casting** <br>\n",
    "**5.**  **Keyboard Input** <br>\n",
    "**6.**   **type() function**\n",
    "\n",
    "\n",
    "\n",
    "\n",
    "\n"
   ]
  },
  {
   "cell_type": "markdown",
   "metadata": {
    "id": "tVOvllA8Ee5a"
   },
   "source": [
    "# Lets Start with \"print()\" function"
   ]
  },
  {
   "cell_type": "code",
   "execution_count": null,
   "metadata": {
    "colab": {
     "base_uri": "https://localhost:8080/"
    },
    "id": "hLyFKNhZEv_K",
    "outputId": "61e29493-43aa-4b66-8a7d-bd48ed8bbf24"
   },
   "outputs": [
    {
     "name": "stdout",
     "output_type": "stream",
     "text": [
      "welcome to Python KT\n",
      "welcome to Python KT\n",
      "welcome to Python KT\n"
     ]
    }
   ],
   "source": [
    "print(\"welcome to Python KT\")\n",
    "\n",
    "print(\"welcome\", \"to\",\"Python\",\"KT\")\n",
    "\n",
    "print(\"welcome \"+\"to \"+ \"Python KT\")\n"
   ]
  },
  {
   "cell_type": "markdown",
   "metadata": {
    "id": "TsqpjnxUH3ZM"
   },
   "source": [
    "#What All Python can do being a Programming Language?"
   ]
  },
  {
   "cell_type": "code",
   "execution_count": null,
   "metadata": {
    "colab": {
     "base_uri": "https://localhost:8080/"
    },
    "id": "35hNnkIvIBY7",
    "outputId": "3c0f16f3-f04f-4a74-9b8b-af022df14144"
   },
   "outputs": [
    {
     "name": "stdout",
     "output_type": "stream",
     "text": [
      "* All Mathematics Operation\n",
      "* Data Fetching on Conditions by using Set opperations\n",
      "* Type Conversion from one data type to another with more simpler ways\n",
      "* Declare variable anywhare and any type of variable without decalring its type Becaue Python have Knowledge to know what type of variable you declare\n"
     ]
    }
   ],
   "source": [
    "print(\"* All Mathematics Operation\")\n",
    "print(\"*\",\"Data Fetching on Conditions by using Set opperations\")\n",
    "print(\"* \"+\"Type Conversion from one data type to another with more simpler ways\")\n",
    "print(\"* Declare variable anywhare and any type of variable without decalring its type \"+ \"Becaue Python have Knowledge to know what type of variable you declare\")"
   ]
  },
  {
   "cell_type": "markdown",
   "metadata": {
    "id": "Bj36mX_2Jrml"
   },
   "source": [
    "#\"print()\" with Arithmatic Operations"
   ]
  },
  {
   "cell_type": "code",
   "execution_count": null,
   "metadata": {
    "colab": {
     "base_uri": "https://localhost:8080/"
    },
    "id": "aqqNF3MBJyLP",
    "outputId": "f78768ed-81e8-456b-c740-854e4b8477f1"
   },
   "outputs": [
    {
     "name": "stdout",
     "output_type": "stream",
     "text": [
      "3\n",
      "addition of 1 and 2: 3\n",
      "Aritnmatic operations of 2 and 2 4 4 0 1.0 0\n"
     ]
    }
   ],
   "source": [
    "print(1+2)\n",
    "print(\"addition of 1 and 2:\",1+2)\n",
    "print(\"Aritnmatic operations of 2 and 2:\",2*2,2+2,2-2,2/2,2%2)"
   ]
  },
  {
   "cell_type": "markdown",
   "metadata": {
    "id": "QRZgU8vRK3Fs"
   },
   "source": [
    "#Variable Declaration"
   ]
  },
  {
   "cell_type": "code",
   "execution_count": null,
   "metadata": {
    "colab": {
     "base_uri": "https://localhost:8080/"
    },
    "id": "rRc0czRdLReF",
    "outputId": "39d1bea4-14ec-4c42-f13c-1076b3200cf2"
   },
   "outputs": [
    {
     "name": "stdout",
     "output_type": "stream",
     "text": [
      "Displaying variables 123 123 123.123 20j\n",
      "Operatiing with Variables 246.123 (123+20j) (123.123+20j)\n",
      "Type of the data for a,b,c,d <class 'int'> <class 'str'> <class 'float'> <class 'complex'>\n"
     ]
    }
   ],
   "source": [
    "a=123\n",
    "b=\"123\"\n",
    "c=123.123\n",
    "d=20j\n",
    "\n",
    "print(\"Displaying variables\",a,b,c,d)\n",
    "print(\"Operatiing with Variables\",a+c,a+d,c+d)\n",
    "print(\"Type of the data for a,b,c,d\",type(a),type(b),type(c),type(d))"
   ]
  },
  {
   "cell_type": "code",
   "execution_count": 1,
   "metadata": {
    "colab": {
     "base_uri": "https://localhost:8080/"
    },
    "id": "aoJGVkU_NL4d",
    "outputId": "16541900-3e4b-46bb-bcb4-77d69762e458"
   },
   "outputs": [
    {
     "name": "stdout",
     "output_type": "stream",
     "text": [
      "IGeeKs\n",
      "IGeeKs Technologies\n",
      "IGeeKs Technologies\n"
     ]
    }
   ],
   "source": [
    "D='I'\n",
    "X='Gee'\n",
    "C='Ks'\n",
    "\n",
    "print(D+X+C)\n",
    "print(D+X+C+\" Technologies\")\n",
    "print(D+X+C,\"Technologies\")"
   ]
  },
  {
   "cell_type": "markdown",
   "metadata": {
    "id": "COZN8cM0O7Pj"
   },
   "source": [
    "# New Different types Data assigning"
   ]
  },
  {
   "cell_type": "code",
   "execution_count": null,
   "metadata": {
    "colab": {
     "base_uri": "https://localhost:8080/"
    },
    "id": "gtAnBNh0OxzU",
    "outputId": "a844c0ff-2d1f-47c1-e080-1dd9a944d4ef"
   },
   "outputs": [
    {
     "name": "stdout",
     "output_type": "stream",
     "text": [
      "DXC\n",
      "5 5 5\n",
      "2 4 6\n"
     ]
    }
   ],
   "source": [
    "D,X,C='I',\"geek\",'s'\n",
    "\n",
    "print(D+X+C)\n",
    "\n",
    "m=n=q=5\n",
    "\n",
    "print(m,n,q)\n",
    "i,j,k=2,4,6\n",
    "print(i,j,k)"
   ]
  },
  {
   "cell_type": "code",
   "execution_count": null,
   "metadata": {
    "colab": {
     "base_uri": "https://localhost:8080/"
    },
    "id": "BayuASkueaC9",
    "outputId": "ebeeba2c-be1a-4de1-a124-af8df558378d"
   },
   "outputs": [
    {
     "name": "stdout",
     "output_type": "stream",
     "text": [
      "<class 'str'> <class 'str'>\n"
     ]
    }
   ],
   "source": [
    "a=\"ig\"\n",
    "b='eeks'\n",
    "\n",
    "print(type(a),type(b))"
   ]
  },
  {
   "cell_type": "markdown",
   "metadata": {
    "id": "l6w9gj_3Of-W"
   },
   "source": [
    "#Type Casting\n",
    "###Means changing one type of variable to another type"
   ]
  },
  {
   "cell_type": "code",
   "execution_count": null,
   "metadata": {
    "colab": {
     "base_uri": "https://localhost:8080/"
    },
    "id": "SjyMYKZyPscU",
    "outputId": "ecbf40ed-dfd7-4ab4-e96d-450a0c5a5826"
   },
   "outputs": [
    {
     "name": "stdout",
     "output_type": "stream",
     "text": [
      "Without type converstion to a,b,c and adding: 123\n",
      "Type converstion of a,b,c to integer and adding: 6\n",
      "Without type converstion to m,n,q and adding: 18\n",
      "Type converstion of m,n,q to integer and adding: 567\n"
     ]
    }
   ],
   "source": [
    "a=\"1\"\n",
    "b=\"2\"\n",
    "c=\"3\"\n",
    "\n",
    "m,n,q=5,6,7\n",
    "\n",
    "print(\"Without type converstion to a,b,c and adding:\" ,a+b+c)\n",
    "\n",
    "print(\"Type converstion of a,b,c to integer and adding:\",int(a)+int(b)+int(c))\n",
    "\n",
    "print(\"Without type converstion to m,n,q and adding:\" ,m+n+q)\n",
    "\n",
    "print(\"Type converstion of m,n,q to integer and adding:\",str(m)+str(n)+str(q))"
   ]
  },
  {
   "cell_type": "markdown",
   "metadata": {
    "id": "3WvMo0Drra1u"
   },
   "source": [
    "# Arithmatic Operations by variables"
   ]
  },
  {
   "cell_type": "code",
   "execution_count": null,
   "metadata": {
    "colab": {
     "base_uri": "https://localhost:8080/"
    },
    "id": "wd47qO4arqk-",
    "outputId": "3bbe1bbe-bd87-4a90-bf4a-aa76ba2c39be"
   },
   "outputs": [
    {
     "name": "stdout",
     "output_type": "stream",
     "text": [
      "Arithmatic opperations of a,b,and c: 60 -40 6000 0.016666666666666666\n"
     ]
    }
   ],
   "source": [
    "a=10\n",
    "b=30\n",
    "c=20\n",
    "\n",
    "add_abc=a+b+c\n",
    "sub_abc=a-b-c\n",
    "mult_abc=a*b*c\n",
    "div_abc=a/b/c\n",
    "\n",
    "print(\"Arithmatic opperations of a,b,and c:\",add_abc,sub_abc,mult_abc,div_abc)"
   ]
  },
  {
   "cell_type": "markdown",
   "metadata": {
    "id": "FCYA4LSisg1F"
   },
   "source": [
    "#Keyboard Input\n",
    "###function used is \"input()\""
   ]
  },
  {
   "cell_type": "code",
   "execution_count": null,
   "metadata": {
    "colab": {
     "base_uri": "https://localhost:8080/"
    },
    "id": "Pf7AzBc6sm0V",
    "outputId": "75f8c036-02d4-429a-cb43-992ff46a58f5"
   },
   "outputs": [
    {
     "name": "stdout",
     "output_type": "stream",
     "text": [
      "42\n",
      "42\n"
     ]
    }
   ],
   "source": [
    "a=input()\n",
    "print(a)"
   ]
  },
  {
   "cell_type": "code",
   "execution_count": null,
   "metadata": {
    "colab": {
     "base_uri": "https://localhost:8080/"
    },
    "id": "9hOihQXbgF5Y",
    "outputId": "574fc4ae-219e-4900-8982-fe99730ce586"
   },
   "outputs": [
    {
     "data": {
      "text/plain": [
       "str"
      ]
     },
     "execution_count": 8,
     "metadata": {},
     "output_type": "execute_result"
    }
   ],
   "source": [
    "type(a)"
   ]
  },
  {
   "cell_type": "code",
   "execution_count": null,
   "metadata": {
    "colab": {
     "base_uri": "https://localhost:8080/"
    },
    "id": "61GkpXz4tEmt",
    "outputId": "6796a843-6624-46b9-9aad-8c9b9495d35d"
   },
   "outputs": [
    {
     "name": "stdout",
     "output_type": "stream",
     "text": [
      "Please give me data:25\n",
      "25\n"
     ]
    }
   ],
   "source": [
    "a=input(\"Please give me data:\")\n",
    "print(a)"
   ]
  },
  {
   "cell_type": "code",
   "execution_count": null,
   "metadata": {
    "colab": {
     "base_uri": "https://localhost:8080/"
    },
    "id": "xCFWgrYRtaEV",
    "outputId": "76aedb05-9ba1-402e-8c18-a7b82fa3be64"
   },
   "outputs": [
    {
     "name": "stdout",
     "output_type": "stream",
     "text": [
      "Arithmatic opeerations with keyboard input\n",
      "a=12\n",
      "b=90\n",
      "Arithmatic opeerations of a and b are add a and b= 102 sub a and b= -78 mult a and b= 1080 div a and b= 0.13333333333333333\n"
     ]
    }
   ],
   "source": [
    "print(\"Arithmatic opeerations with keyboard input\")\n",
    "a=input(\"a=\")\n",
    "b=input(\"b=\")\n",
    "print(\"Arithmatic opeerations of a and b are\",\"add a and b=\",int(a)+int(b),\"sub a and b=\",int(a)-int(b),\"mult a and b=\",int(a)*int(b),\"div a and b=\",int(a)/int(b))"
   ]
  },
  {
   "cell_type": "markdown",
   "metadata": {
    "id": "0F5hdP3EvJrH"
   },
   "source": [
    "#How to check type of variable\n",
    "###function is \"type()\""
   ]
  },
  {
   "cell_type": "code",
   "execution_count": null,
   "metadata": {
    "colab": {
     "base_uri": "https://localhost:8080/"
    },
    "id": "abpjhmXLvYCf",
    "outputId": "7de03bfe-b008-4e65-a2b0-5861a4f269c5"
   },
   "outputs": [
    {
     "name": "stdout",
     "output_type": "stream",
     "text": [
      "<class 'int'>\n",
      "input a=23\n",
      "<class 'str'>\n"
     ]
    }
   ],
   "source": [
    "a=10\n",
    "print(type(a))\n",
    "a=input(\"input a=\")\n",
    "print(type(a))\n"
   ]
  },
  {
   "cell_type": "markdown",
   "metadata": {
    "id": "7xULphKBiicL"
   },
   "source": [
    "#Python Tutorial\n",
    "##Day2"
   ]
  },
  {
   "cell_type": "markdown",
   "metadata": {
    "id": "hlwKPRg7Y0oZ"
   },
   "source": [
    "#Python Comments\n",
    "\n",
    "Single line comment '#' <br>\n",
    "Multipline comment \"\"\" \"\"\" or ''' '''"
   ]
  },
  {
   "cell_type": "code",
   "execution_count": null,
   "metadata": {
    "colab": {
     "base_uri": "https://localhost:8080/"
    },
    "id": "lmpEeGGhZEL2",
    "outputId": "8e8ecec6-adc4-419c-b736-5648a72207e9"
   },
   "outputs": [
    {
     "name": "stdout",
     "output_type": "stream",
     "text": [
      "i am just a coment i will not execute\n"
     ]
    }
   ],
   "source": [
    "# i am just a coment i will not execute\n",
    "print(\"i am just a coment i will not execute\")"
   ]
  },
  {
   "cell_type": "code",
   "execution_count": null,
   "metadata": {
    "colab": {
     "base_uri": "https://localhost:8080/",
     "height": 35
    },
    "id": "v3t2Y8gbZUwN",
    "outputId": "3a268fbd-dad1-4912-e161-e1375c1efba3"
   },
   "outputs": [
    {
     "data": {
      "application/vnd.google.colaboratory.intrinsic+json": {
       "type": "string"
      },
      "text/plain": [
       "' I am Multi line comment\\nused when their is to write more than one line'"
      ]
     },
     "execution_count": 6,
     "metadata": {},
     "output_type": "execute_result"
    }
   ],
   "source": [
    "\n",
    "\n",
    "''' I am Multi line comment\n",
    "used when their is to write more than one line'''\n",
    "\n",
    "\"\"\" \"\"\"\n",
    "\n",
    "#print(\"I am Multi line comment used when their is to write more than one line\")\n",
    "\n"
   ]
  },
  {
   "cell_type": "markdown",
   "metadata": {
    "id": "KLfOa80XiopU"
   },
   "source": [
    "#Data Types\n",
    "\n",
    "**Text Type:\tstr** <br>\n",
    "**Numeric Types:\tint, float, complex**<br>\n",
    "**Sequence Types:\tlist, tuple, range**<br>\n",
    "**Mapping Type:\tdict**<br>\n",
    "**Set Types:\tset, frozenset**<br>\n",
    "**Boolean Type:\tbool**<br>\n",
    "**Binary Types:\tbytes, bytearray, memoryview** <br>"
   ]
  },
  {
   "cell_type": "markdown",
   "metadata": {
    "id": "i0gjWBjglUhj"
   },
   "source": [
    "### String, Integer, Float, and Complex type declaration"
   ]
  },
  {
   "cell_type": "code",
   "execution_count": null,
   "metadata": {
    "colab": {
     "base_uri": "https://localhost:8080/"
    },
    "id": "ycw4a_Gzkwc7",
    "outputId": "17418b9d-29f4-448b-f8b8-cd975d718c6e"
   },
   "outputs": [
    {
     "data": {
      "text/plain": [
       "str"
      ]
     },
     "execution_count": 4,
     "metadata": {},
     "output_type": "execute_result"
    }
   ],
   "source": [
    "a=\"DXC\"\n",
    "type(a)"
   ]
  },
  {
   "cell_type": "code",
   "execution_count": null,
   "metadata": {
    "colab": {
     "base_uri": "https://localhost:8080/"
    },
    "id": "QPUEwoOmie7U",
    "outputId": "e2ef8537-72d4-4f76-ff53-4693ed05d877"
   },
   "outputs": [
    {
     "data": {
      "text/plain": [
       "int"
      ]
     },
     "execution_count": 2,
     "metadata": {},
     "output_type": "execute_result"
    }
   ],
   "source": [
    "a=10\n",
    "type(a)"
   ]
  },
  {
   "cell_type": "code",
   "execution_count": null,
   "metadata": {
    "colab": {
     "base_uri": "https://localhost:8080/"
    },
    "id": "Mj6oc8gokr3F",
    "outputId": "76277050-740c-4140-979c-7401481a8884"
   },
   "outputs": [
    {
     "data": {
      "text/plain": [
       "float"
      ]
     },
     "execution_count": 3,
     "metadata": {},
     "output_type": "execute_result"
    }
   ],
   "source": [
    "a=10.10\n",
    "type(a)"
   ]
  },
  {
   "cell_type": "code",
   "execution_count": null,
   "metadata": {
    "colab": {
     "base_uri": "https://localhost:8080/"
    },
    "id": "FvpnfLQ1k3mj",
    "outputId": "5a9316bf-1bd5-4e22-bb26-69abdd8dc251"
   },
   "outputs": [
    {
     "data": {
      "text/plain": [
       "complex"
      ]
     },
     "execution_count": 5,
     "metadata": {},
     "output_type": "execute_result"
    }
   ],
   "source": [
    "a=10+5j\n",
    "type(a)"
   ]
  },
  {
   "cell_type": "markdown",
   "metadata": {
    "id": "k29WB62Fl1yW"
   },
   "source": [
    "###Strings"
   ]
  },
  {
   "cell_type": "markdown",
   "metadata": {
    "id": "TKYmeEzwnd58"
   },
   "source": [
    "####Basic String Opperations"
   ]
  },
  {
   "cell_type": "code",
   "execution_count": 1,
   "metadata": {
    "colab": {
     "base_uri": "https://localhost:8080/"
    },
    "id": "xPJlYgLnljcS",
    "outputId": "0fc06ba0-46f2-4408-e500-4d20bf9232a0"
   },
   "outputs": [
    {
     "name": "stdout",
     "output_type": "stream",
     "text": [
      "T\n"
     ]
    }
   ],
   "source": [
    "DXC=\"igeeks Technologies\"\n",
    "\n",
    "print(DXC[7])"
   ]
  },
  {
   "cell_type": "code",
   "execution_count": 2,
   "metadata": {
    "colab": {
     "base_uri": "https://localhost:8080/"
    },
    "id": "pb_rK7r8mdMk",
    "outputId": "c94dab91-d99e-47a4-a334-2a7fe099a755"
   },
   "outputs": [
    {
     "name": "stdout",
     "output_type": "stream",
     "text": [
      "19\n"
     ]
    }
   ],
   "source": [
    "print(len(DXC))"
   ]
  },
  {
   "cell_type": "code",
   "execution_count": 3,
   "metadata": {
    "colab": {
     "base_uri": "https://localhost:8080/"
    },
    "id": "-5lf5TpsmxgU",
    "outputId": "19c328e9-f07a-491a-c66f-0faaa42fbde3"
   },
   "outputs": [
    {
     "name": "stdout",
     "output_type": "stream",
     "text": [
      "False\n"
     ]
    }
   ],
   "source": [
    "print(\"DXC\" in DXC)"
   ]
  },
  {
   "cell_type": "code",
   "execution_count": 4,
   "metadata": {
    "colab": {
     "base_uri": "https://localhost:8080/"
    },
    "id": "e1jlKF5bm4nN",
    "outputId": "91f667f6-632c-4e5d-d857-c6a52704c826"
   },
   "outputs": [
    {
     "name": "stdout",
     "output_type": "stream",
     "text": [
      "True\n"
     ]
    }
   ],
   "source": [
    "print(\"DXC\" not in DXC)"
   ]
  },
  {
   "cell_type": "code",
   "execution_count": 5,
   "metadata": {
    "colab": {
     "base_uri": "https://localhost:8080/"
    },
    "id": "3gtUPkbmnAFD",
    "outputId": "8b1aed6c-7f16-4a7b-f81c-f9d2918d7484"
   },
   "outputs": [
    {
     "name": "stdout",
     "output_type": "stream",
     "text": [
      "False\n"
     ]
    }
   ],
   "source": [
    "print(\"Hello\" in DXC)"
   ]
  },
  {
   "cell_type": "code",
   "execution_count": 6,
   "metadata": {
    "colab": {
     "base_uri": "https://localhost:8080/"
    },
    "id": "VQi300JxnFPL",
    "outputId": "d905dfbd-4b7f-4f08-ee1f-84e2ea089cae"
   },
   "outputs": [
    {
     "name": "stdout",
     "output_type": "stream",
     "text": [
      "True\n"
     ]
    }
   ],
   "source": [
    "print(\"Hello\" not in DXC)  #in and not in are known as Membership Operators"
   ]
  },
  {
   "cell_type": "markdown",
   "metadata": {
    "id": "QSf3bTH0npmE"
   },
   "source": [
    "### Slicing the Strings"
   ]
  },
  {
   "cell_type": "markdown",
   "metadata": {
    "id": "R-ubuEVqohC2"
   },
   "source": [
    "#####Slicing position of [a:b] will be accessed from 'a' Position to 'b-1' Position"
   ]
  },
  {
   "cell_type": "code",
   "execution_count": 1,
   "metadata": {
    "colab": {
     "base_uri": "https://localhost:8080/"
    },
    "id": "wLGR_FoSnwSH",
    "outputId": "98f4b58f-1b26-4b25-96e4-1fe177699fa7"
   },
   "outputs": [
    {
     "name": "stdout",
     "output_type": "stream",
     "text": [
      "eeks \n"
     ]
    }
   ],
   "source": [
    "DXC=\"IGeeks Technologies\"\n",
    "\n",
    "print(DXC[2:7])  #c Tec"
   ]
  },
  {
   "cell_type": "code",
   "execution_count": 2,
   "metadata": {
    "colab": {
     "base_uri": "https://localhost:8080/"
    },
    "id": "QX5pJbgQn7xs",
    "outputId": "899c9ea3-d654-43a2-a722-d751eae0acc0"
   },
   "outputs": [
    {
     "name": "stdout",
     "output_type": "stream",
     "text": [
      "ks\n"
     ]
    }
   ],
   "source": [
    "print(DXC[4:6])"
   ]
  },
  {
   "cell_type": "code",
   "execution_count": 3,
   "metadata": {
    "colab": {
     "base_uri": "https://localhost:8080/"
    },
    "id": "CzTrUqktpY7l",
    "outputId": "143ca9b2-ffcc-40fd-f1f5-3b61afd5406b"
   },
   "outputs": [
    {
     "name": "stdout",
     "output_type": "stream",
     "text": [
      "IGeek\n"
     ]
    }
   ],
   "source": [
    "print(DXC[:5])"
   ]
  },
  {
   "cell_type": "code",
   "execution_count": 4,
   "metadata": {
    "colab": {
     "base_uri": "https://localhost:8080/"
    },
    "id": "3SsCVf7spkn0",
    "outputId": "f4990cdd-cbf3-4820-aace-baa44db400d5"
   },
   "outputs": [
    {
     "name": "stdout",
     "output_type": "stream",
     "text": [
      "ks Technologies\n"
     ]
    }
   ],
   "source": [
    "print(DXC[4:])"
   ]
  },
  {
   "cell_type": "markdown",
   "metadata": {
    "id": "VQJ3qpocrOIO"
   },
   "source": [
    "#####Negative Slicing"
   ]
  },
  {
   "cell_type": "code",
   "execution_count": 5,
   "metadata": {
    "colab": {
     "base_uri": "https://localhost:8080/"
    },
    "id": "Pp5MOB2Xp618",
    "outputId": "282f5678-85f7-440b-b488-ae9dea2c67fb"
   },
   "outputs": [
    {
     "name": "stdout",
     "output_type": "stream",
     "text": [
      "ogi\n"
     ]
    }
   ],
   "source": [
    "print(DXC[-5:-2])"
   ]
  },
  {
   "cell_type": "code",
   "execution_count": 6,
   "metadata": {
    "colab": {
     "base_uri": "https://localhost:8080/"
    },
    "id": "cr25XFdeFFk7",
    "outputId": "0b6ce1ba-5b52-4f62-b30a-50474d26af43"
   },
   "outputs": [
    {
     "name": "stdout",
     "output_type": "stream",
     "text": [
      "ologie\n"
     ]
    }
   ],
   "source": [
    "print(DXC[-7:-1])"
   ]
  },
  {
   "cell_type": "code",
   "execution_count": 9,
   "metadata": {
    "colab": {
     "base_uri": "https://localhost:8080/"
    },
    "id": "pBaOAXPfTuBs",
    "outputId": "e5a9b689-702c-47e7-a935-3acd4bc01bc2"
   },
   "outputs": [
    {
     "name": "stdout",
     "output_type": "stream",
     "text": [
      "s\n"
     ]
    }
   ],
   "source": [
    "print(DXC[-1])"
   ]
  },
  {
   "cell_type": "markdown",
   "metadata": {
    "id": "1JrBxS5erq8Z"
   },
   "source": [
    "##Modify Strings"
   ]
  },
  {
   "cell_type": "code",
   "execution_count": null,
   "metadata": {
    "colab": {
     "base_uri": "https://localhost:8080/"
    },
    "id": "GrvyIyLArp2P",
    "outputId": "76e889c1-40f8-4c72-d1cc-efee7b6ab8f6"
   },
   "outputs": [
    {
     "name": "stdout",
     "output_type": "stream",
     "text": [
      "Jython Training\n"
     ]
    }
   ],
   "source": [
    "pt=\"Python Training\"\n",
    "print(pt.replace('P','J'))"
   ]
  },
  {
   "cell_type": "code",
   "execution_count": null,
   "metadata": {
    "colab": {
     "base_uri": "https://localhost:8080/"
    },
    "id": "zKedtkkSsR3O",
    "outputId": "cb2b63aa-01cc-4f47-f9f1-306f3fb0b58d"
   },
   "outputs": [
    {
     "name": "stdout",
     "output_type": "stream",
     "text": [
      "Python  raining\n"
     ]
    }
   ],
   "source": [
    "print(pt.replace('T',\" \"))"
   ]
  },
  {
   "cell_type": "code",
   "execution_count": null,
   "metadata": {
    "colab": {
     "base_uri": "https://localhost:8080/"
    },
    "id": "JkqoL5-Wse7F",
    "outputId": "2abecc99-5991-430e-eff9-36d2d67f2eb6"
   },
   "outputs": [
    {
     "name": "stdout",
     "output_type": "stream",
     "text": [
      "['Python', 'Training']\n"
     ]
    }
   ],
   "source": [
    "print(pt.split(\" \"))"
   ]
  },
  {
   "cell_type": "code",
   "execution_count": null,
   "metadata": {
    "colab": {
     "base_uri": "https://localhost:8080/"
    },
    "id": "6s_PJmq6s49O",
    "outputId": "0a5be0d5-86b6-4c83-9b37-580e13aa86d0"
   },
   "outputs": [
    {
     "name": "stdout",
     "output_type": "stream",
     "text": [
      "['Python ', 'raining']\n"
     ]
    }
   ],
   "source": [
    "print(pt.split(\"T\"))"
   ]
  },
  {
   "cell_type": "code",
   "execution_count": null,
   "metadata": {
    "colab": {
     "base_uri": "https://localhost:8080/"
    },
    "id": "JfSU-DIMtK3V",
    "outputId": "48b1f133-6f3a-47bd-9dd1-03b1f4fa5a8e"
   },
   "outputs": [
    {
     "name": "stdout",
     "output_type": "stream",
     "text": [
      "PYTHON TRAINING\n"
     ]
    }
   ],
   "source": [
    "print(pt.upper())"
   ]
  },
  {
   "cell_type": "code",
   "execution_count": null,
   "metadata": {
    "colab": {
     "base_uri": "https://localhost:8080/"
    },
    "id": "Lb0nrfpkth6e",
    "outputId": "2b9f6d66-2c39-4085-9d4a-8182d343467f"
   },
   "outputs": [
    {
     "name": "stdout",
     "output_type": "stream",
     "text": [
      "python training\n"
     ]
    }
   ],
   "source": [
    "print(pt.lower())"
   ]
  },
  {
   "cell_type": "code",
   "execution_count": null,
   "metadata": {
    "id": "3j_SCyL4o-wW"
   },
   "outputs": [],
   "source": [
    "pt='python'"
   ]
  },
  {
   "cell_type": "code",
   "execution_count": null,
   "metadata": {
    "colab": {
     "base_uri": "https://localhost:8080/"
    },
    "id": "_QsUJY2ttlT2",
    "outputId": "2e41fcf0-558e-4690-a8b8-dd3755aa1caf"
   },
   "outputs": [
    {
     "name": "stdout",
     "output_type": "stream",
     "text": [
      "True\n"
     ]
    }
   ],
   "source": [
    "print(pt.isupper())"
   ]
  },
  {
   "cell_type": "code",
   "execution_count": null,
   "metadata": {
    "colab": {
     "base_uri": "https://localhost:8080/"
    },
    "id": "ZbFn8typtyd-",
    "outputId": "8f6cf883-970c-40c2-e98a-fa85801de455"
   },
   "outputs": [
    {
     "name": "stdout",
     "output_type": "stream",
     "text": [
      "True\n"
     ]
    }
   ],
   "source": [
    "\n",
    "print(pt.islower())"
   ]
  },
  {
   "cell_type": "markdown",
   "metadata": {
    "id": "xi_8acuJHNfa"
   },
   "source": [
    "###Escape Charector\n",
    "\n",
    "\\\\\"\\\\\" double Quote <br>\n",
    "\\\\'\tSingle Quote\t <br>\n",
    "\\\\\\\tBackslash\t <br>\n",
    "\\n\tNew Line\t<br>\n",
    "\\t\tTab\t<br>\n",
    "\\b\tBackspace<br>\n",
    "\\f\tForm Feed\t <br>\n"
   ]
  },
  {
   "cell_type": "code",
   "execution_count": null,
   "metadata": {
    "colab": {
     "base_uri": "https://localhost:8080/"
    },
    "id": "6ZPdACbJHMkE",
    "outputId": "287f5848-b884-4051-d5c4-97f642d482ce"
   },
   "outputs": [
    {
     "name": "stdout",
     "output_type": "stream",
     "text": [
      "python said they call me as a \"Snake\"\n"
     ]
    }
   ],
   "source": [
    "text=\"python said they call me as a \\\"Snake\\\"\"\n",
    "print(text)"
   ]
  },
  {
   "cell_type": "code",
   "execution_count": null,
   "metadata": {
    "colab": {
     "base_uri": "https://localhost:8080/"
    },
    "id": "kB1uRr4gK14T",
    "outputId": "ed5c8dba-0e2d-4c4a-90c7-07b247d996b5"
   },
   "outputs": [
    {
     "name": "stdout",
     "output_type": "stream",
     "text": [
      "python said i am not from a Snake's Family\n"
     ]
    }
   ],
   "source": [
    "text=\"python said i am not from a Snake\\'s Family\"\n",
    "print(text)"
   ]
  },
  {
   "cell_type": "code",
   "execution_count": null,
   "metadata": {
    "colab": {
     "base_uri": "https://localhost:8080/"
    },
    "id": "wGjrIXptLO3k",
    "outputId": "aede3c93-1431-4a80-903c-9917feb8b343"
   },
   "outputs": [
    {
     "name": "stdout",
     "output_type": "stream",
     "text": [
      "python derived from c \\ c++ \n"
     ]
    }
   ],
   "source": [
    "text=\"python derived from c \\\\ c++ \"\n",
    "print(text)"
   ]
  },
  {
   "cell_type": "code",
   "execution_count": null,
   "metadata": {
    "colab": {
     "base_uri": "https://localhost:8080/"
    },
    "id": "K0iHuTcQL3Vk",
    "outputId": "03182211-76b1-4ec8-c26f-8486330ef597"
   },
   "outputs": [
    {
     "name": "stdout",
     "output_type": "stream",
     "text": [
      "python derived from \n",
      " c c++ \n"
     ]
    }
   ],
   "source": [
    "text=\"python derived from \\n c c++ \"\n",
    "print(text)"
   ]
  },
  {
   "cell_type": "code",
   "execution_count": null,
   "metadata": {
    "colab": {
     "base_uri": "https://localhost:8080/"
    },
    "id": "kkdX7ciyL-iI",
    "outputId": "0d92b715-4410-4cb9-dca0-b10732f18781"
   },
   "outputs": [
    {
     "name": "stdout",
     "output_type": "stream",
     "text": [
      "python derived from \t c c++ \n"
     ]
    }
   ],
   "source": [
    "text=\"python derived from \\t c c++ \"\n",
    "print(text)"
   ]
  },
  {
   "cell_type": "code",
   "execution_count": null,
   "metadata": {
    "colab": {
     "base_uri": "https://localhost:8080/"
    },
    "id": "Oq0XFA1gMxW2",
    "outputId": "3f28469f-d456-4e57-e5c8-ed6ef07a53a2"
   },
   "outputs": [
    {
     "name": "stdout",
     "output_type": "stream",
     "text": [
      "python derived from \b c c++ \n"
     ]
    }
   ],
   "source": [
    "text=\"python derived from \\b c c++ \"\n",
    "print(text)"
   ]
  },
  {
   "cell_type": "code",
   "execution_count": null,
   "metadata": {
    "colab": {
     "base_uri": "https://localhost:8080/"
    },
    "id": "zUK4_idBNHdW",
    "outputId": "213c02dd-186b-4210-de8d-389400b17024"
   },
   "outputs": [
    {
     "name": "stdout",
     "output_type": "stream",
     "text": [
      "python derived from \f",
      " c c++ \n"
     ]
    }
   ],
   "source": [
    "text=\"python derived from \\f c c++ \"\n",
    "print(text)"
   ]
  },
  {
   "cell_type": "markdown",
   "metadata": {
    "id": "hm9I3vXmQO8g"
   },
   "source": [
    "###Advance Method of using escape charectors for\n",
    "\\\\\"\\\\\" double Quote : We can use sigle quot of string to enclose and double quotes inside   <br>\n",
    "\\\\'\tSingle Quote: We can use double quots of string to enclose and single quote inside \t <br>\n",
    "\\\\\\\tBackslash : We can directly use backslash\t <br>"
   ]
  },
  {
   "cell_type": "code",
   "execution_count": null,
   "metadata": {
    "colab": {
     "base_uri": "https://localhost:8080/"
    },
    "id": "y1yjF-kzQd5x",
    "outputId": "369e518d-0014-41b1-a581-9098fd118669"
   },
   "outputs": [
    {
     "name": "stdout",
     "output_type": "stream",
     "text": [
      "python said they call me as a \"Snake\"\n"
     ]
    }
   ],
   "source": [
    "text='python said they call me as a \"Snake\"'\n",
    "print(text)"
   ]
  },
  {
   "cell_type": "code",
   "execution_count": null,
   "metadata": {
    "colab": {
     "base_uri": "https://localhost:8080/"
    },
    "id": "Q4Fc2TVdRbhj",
    "outputId": "0fdfdedc-2080-4e6f-88b2-0c644ab7723c"
   },
   "outputs": [
    {
     "name": "stdout",
     "output_type": "stream",
     "text": [
      "python said i am not from a Snake's Family\n"
     ]
    }
   ],
   "source": [
    "text=\"python said i am not from a Snake's Family\"\n",
    "print(text)"
   ]
  },
  {
   "cell_type": "code",
   "execution_count": null,
   "metadata": {
    "colab": {
     "base_uri": "https://localhost:8080/"
    },
    "id": "RY5Goly_Rsgs",
    "outputId": "dc94be48-ef3b-46cb-d586-5dc5d015a4db"
   },
   "outputs": [
    {
     "name": "stdout",
     "output_type": "stream",
     "text": [
      "python derived from c \\ c++ \n"
     ]
    }
   ],
   "source": [
    "text=\"python derived from c \\ c++ \"\n",
    "print(text)"
   ]
  },
  {
   "cell_type": "markdown",
   "metadata": {
    "id": "bww-a2vWN5_u"
   },
   "source": [
    "###int, float, complex"
   ]
  },
  {
   "cell_type": "code",
   "execution_count": null,
   "metadata": {
    "colab": {
     "base_uri": "https://localhost:8080/"
    },
    "id": "fD--cn51N5Zx",
    "outputId": "67fb7550-24a5-4352-abfa-f86d75ed196d"
   },
   "outputs": [
    {
     "name": "stdout",
     "output_type": "stream",
     "text": [
      "10 + 20 = 30\n",
      "Type of a= <class 'int'> b= <class 'int'> c= <class 'int'>\n"
     ]
    }
   ],
   "source": [
    "a=10\n",
    "b=20\n",
    "c=a+b\n",
    "print(a,\"+\",b,\"=\",c)\n",
    "print(\"Type of\",\"a=\",type(a),\"b=\",type(b),\"c=\",type(c))"
   ]
  },
  {
   "cell_type": "code",
   "execution_count": null,
   "metadata": {
    "colab": {
     "base_uri": "https://localhost:8080/"
    },
    "id": "SZT3dBKrOlSr",
    "outputId": "143fc415-f20f-4f3e-82a8-df97a55bb21b"
   },
   "outputs": [
    {
     "name": "stdout",
     "output_type": "stream",
     "text": [
      "10.1 + 20.14 = 30.240000000000002\n",
      "Type of a= <class 'float'> b= <class 'float'> c= <class 'float'>\n"
     ]
    }
   ],
   "source": [
    "a=10.1\n",
    "b=20.14\n",
    "c=a+b\n",
    "print(a,\"+\",b,\"=\",c)\n",
    "print(\"Type of\",\"a=\",type(a),\"b=\",type(b),\"c=\",type(c))"
   ]
  },
  {
   "cell_type": "code",
   "execution_count": null,
   "metadata": {
    "colab": {
     "base_uri": "https://localhost:8080/"
    },
    "id": "cwlfbABuO0qk",
    "outputId": "17f4c45b-416e-4b11-dba8-213c11b3261f"
   },
   "outputs": [
    {
     "name": "stdout",
     "output_type": "stream",
     "text": [
      "(25+10j) + (14+20j) = (39+30j)\n",
      "Type of a= <class 'complex'> b= <class 'complex'> c= <class 'complex'>\n",
      "\n",
      " The evaluation of above complex variable is shown below\n",
      "25.0 + 14.0 = 39.0\n",
      "10.0 + 20.0 = 30.0\n"
     ]
    }
   ],
   "source": [
    "a=25+10j\n",
    "b=14+20j\n",
    "c=a+b\n",
    "\n",
    "print(a,\"+\",b,\"=\",c)\n",
    "print(\"Type of\",\"a=\",type(a),\"b=\",type(b),\"c=\",type(c))\n",
    "print(\"\\n\", \"The evaluation of above complex variable is shown below\")\n",
    "print(a.real,\"+\",b.real,\"=\",c.real)\n",
    "print(a.imag,\"+\",b.imag,\"=\",c.imag)"
   ]
  },
  {
   "cell_type": "markdown",
   "metadata": {
    "id": "ODCUCQXZwDmD"
   },
   "source": [
    "##Bool"
   ]
  },
  {
   "cell_type": "code",
   "execution_count": null,
   "metadata": {
    "colab": {
     "base_uri": "https://localhost:8080/"
    },
    "id": "gKKIkr_JwDJM",
    "outputId": "99181598-f5e4-44c4-b94d-5f8a615b2001"
   },
   "outputs": [
    {
     "name": "stdout",
     "output_type": "stream",
     "text": [
      "False\n"
     ]
    }
   ],
   "source": [
    "print(10>25)"
   ]
  },
  {
   "cell_type": "code",
   "execution_count": null,
   "metadata": {
    "colab": {
     "base_uri": "https://localhost:8080/"
    },
    "id": "WJepYbLowaCq",
    "outputId": "fe73136c-e141-410b-c085-35866993dfcf"
   },
   "outputs": [
    {
     "name": "stdout",
     "output_type": "stream",
     "text": [
      "True\n"
     ]
    }
   ],
   "source": [
    "print(25>10)"
   ]
  },
  {
   "cell_type": "code",
   "execution_count": null,
   "metadata": {
    "colab": {
     "base_uri": "https://localhost:8080/"
    },
    "id": "BN-F42X5weIa",
    "outputId": "0635339d-01dc-4c06-9c82-bb6e59478083"
   },
   "outputs": [
    {
     "name": "stdout",
     "output_type": "stream",
     "text": [
      "False\n"
     ]
    }
   ],
   "source": [
    "print(5==1)"
   ]
  },
  {
   "cell_type": "code",
   "execution_count": null,
   "metadata": {
    "colab": {
     "base_uri": "https://localhost:8080/"
    },
    "id": "vInVfxW6wn1O",
    "outputId": "88d1c478-9825-4500-d692-7cda2f7e43eb"
   },
   "outputs": [
    {
     "name": "stdout",
     "output_type": "stream",
     "text": [
      "True\n"
     ]
    }
   ],
   "source": [
    "print(bool(25))"
   ]
  },
  {
   "cell_type": "code",
   "execution_count": null,
   "metadata": {
    "colab": {
     "base_uri": "https://localhost:8080/"
    },
    "id": "qjCYdd1Pw8Qq",
    "outputId": "40555ca0-d8cd-4218-92d5-c29e67505a4f"
   },
   "outputs": [
    {
     "name": "stdout",
     "output_type": "stream",
     "text": [
      "True\n"
     ]
    }
   ],
   "source": [
    "print(bool(\"Hi\"))"
   ]
  },
  {
   "cell_type": "code",
   "execution_count": null,
   "metadata": {
    "colab": {
     "base_uri": "https://localhost:8080/"
    },
    "id": "-au8T2lBxSvH",
    "outputId": "e8e881b2-ca17-46ae-86c8-40a85563b151"
   },
   "outputs": [
    {
     "name": "stdout",
     "output_type": "stream",
     "text": [
      "True\n"
     ]
    }
   ],
   "source": [
    "print(bool(\" \"))"
   ]
  },
  {
   "cell_type": "code",
   "execution_count": null,
   "metadata": {
    "colab": {
     "base_uri": "https://localhost:8080/"
    },
    "id": "w1NXYWY6xWGH",
    "outputId": "90d3b93a-ffaa-44c8-fb3b-dfa33e88e55f"
   },
   "outputs": [
    {
     "name": "stdout",
     "output_type": "stream",
     "text": [
      "False\n"
     ]
    }
   ],
   "source": [
    "print(bool())"
   ]
  },
  {
   "cell_type": "markdown",
   "metadata": {
    "id": "qXWGkt4GyEqh"
   },
   "source": [
    "#Operators"
   ]
  },
  {
   "cell_type": "markdown",
   "metadata": {
    "id": "p62IT_OI0hhg"
   },
   "source": [
    "####Aritmatic"
   ]
  },
  {
   "cell_type": "code",
   "execution_count": null,
   "metadata": {
    "id": "Xsci8MC_zKgI"
   },
   "outputs": [],
   "source": [
    "a=10\n",
    "b=20"
   ]
  },
  {
   "cell_type": "code",
   "execution_count": null,
   "metadata": {
    "colab": {
     "base_uri": "https://localhost:8080/"
    },
    "id": "mm5C2jHxzOB_",
    "outputId": "d0fd3270-531c-4f8d-efd0-2a48957a8978"
   },
   "outputs": [
    {
     "name": "stdout",
     "output_type": "stream",
     "text": [
      "Addition:a+b= 30 \n",
      " Subtraction:a-b= -10 \n",
      " Multiplication:a*b= 200 \n",
      " Division:a/b= 0.5 \n",
      " Modulus:a%b= 10 \n",
      " Power:a**b= 100000000000000000000 \n",
      " Remider:a//b= 0 \n",
      "\n"
     ]
    }
   ],
   "source": [
    "print(\"Addition:a+b=\",a+b,\"\\n\",\n",
    "      \"Subtraction:a-b=\",a-b,\"\\n\",\n",
    "      \"Multiplication:a*b=\",a*b,\"\\n\",\n",
    "      \"Division:a/b=\",a/b,\"\\n\",\n",
    "      \"Modulus:a%b=\",a%b,\"\\n\",\n",
    "      \"Power:a**b=\",a**b,\"\\n\",\n",
    "      \"Remider:a//b=\",a//b,\"\\n\")"
   ]
  },
  {
   "cell_type": "markdown",
   "metadata": {
    "id": "w49VzcwW0mqo"
   },
   "source": [
    "####Comparition"
   ]
  },
  {
   "cell_type": "code",
   "execution_count": null,
   "metadata": {
    "colab": {
     "base_uri": "https://localhost:8080/"
    },
    "id": "5S6sv4ae0fBU",
    "outputId": "4ddb9d85-e11f-4bf6-bbff-1bddbed9dff1"
   },
   "outputs": [
    {
     "name": "stdout",
     "output_type": "stream",
     "text": [
      "Equal:a==b: False \n",
      " Not equal:a!=b: True \n",
      " Greater than:a>b: False \n",
      " Less than:a<b: True \n",
      " Greater than or equal to:a>=b: False \n",
      " Less than or equal to:a<=b: True \n",
      "\n"
     ]
    }
   ],
   "source": [
    "print(\"Equal:a==b:\",a==b,\"\\n\",\n",
    "      \"Not equal:a!=b:\",a!=b,\"\\n\",\n",
    "      \"Greater than:a>b:\",a>b,\"\\n\",\n",
    "      \"Less than:a<b:\",a<b,\"\\n\",\n",
    "      \"Greater than or equal to:a>=b:\",a>=b,\"\\n\",\n",
    "      \"Less than or equal to:a<=b:\",a<=b,\"\\n\",)"
   ]
  },
  {
   "cell_type": "markdown",
   "metadata": {
    "id": "i5E6QKA91p94"
   },
   "source": [
    "####Logical Operators"
   ]
  },
  {
   "cell_type": "code",
   "execution_count": null,
   "metadata": {
    "colab": {
     "base_uri": "https://localhost:8080/"
    },
    "id": "Qaear7951xSQ",
    "outputId": "76932aaf-4a16-4bb9-f80f-e038b8769503"
   },
   "outputs": [
    {
     "name": "stdout",
     "output_type": "stream",
     "text": [
      "and:a>5 and b>5: True \n",
      " or:a>5 or b>5: True \n",
      " not:not(a>5 and b<5): True \n",
      "\n"
     ]
    }
   ],
   "source": [
    "print(\"and:a>5 and b>5:\",a>5 and b>5,\"\\n\",\n",
    "      \"or:a>5 or b>5:\",a>5 or b<5,\"\\n\",\n",
    "      \"not:not(a>5 and b<5):\",not(a>5 and b<5),\"\\n\")"
   ]
  },
  {
   "cell_type": "markdown",
   "metadata": {
    "id": "ZfG0pfYrFssc"
   },
   "source": [
    "#if, elif, if--else"
   ]
  },
  {
   "cell_type": "code",
   "execution_count": null,
   "metadata": {
    "colab": {
     "base_uri": "https://localhost:8080/"
    },
    "id": "1ZF6i90wFrZN",
    "outputId": "1e855f12-4c62-4107-973c-b18c539b38a0"
   },
   "outputs": [
    {
     "name": "stdout",
     "output_type": "stream",
     "text": [
      " 'a' is equal 10\n"
     ]
    }
   ],
   "source": [
    "a=10\n",
    "b=20\n",
    "\n",
    "if(a==10):\n",
    "  print(\" 'a' is equal\", a)\n"
   ]
  },
  {
   "cell_type": "code",
   "execution_count": null,
   "metadata": {
    "colab": {
     "base_uri": "https://localhost:8080/"
    },
    "id": "b8bxp3fDSnsY",
    "outputId": "293bd60f-f6ea-42bb-9dee-6983f8259cd3"
   },
   "outputs": [
    {
     "name": "stdout",
     "output_type": "stream",
     "text": [
      "20 is greater than 10\n"
     ]
    }
   ],
   "source": [
    "if(a>b):\n",
    "  print(a,\"is greater than\", b)\n",
    "else:\n",
    "  print(b,\"is greater than\", a)"
   ]
  },
  {
   "cell_type": "code",
   "execution_count": null,
   "metadata": {
    "colab": {
     "base_uri": "https://localhost:8080/"
    },
    "id": "bde0ZXrnQBLN",
    "outputId": "1c8fd843-2395-4037-ad19-a18e9a8676df"
   },
   "outputs": [
    {
     "name": "stdout",
     "output_type": "stream",
     "text": [
      "20 is greater than 10\n"
     ]
    }
   ],
   "source": [
    "if(a>b):\n",
    "  print(a,\"is greater than\", b)\n",
    "elif(b>a):\n",
    "  print(b,\"is greater than\", a)"
   ]
  },
  {
   "cell_type": "code",
   "execution_count": null,
   "metadata": {
    "colab": {
     "base_uri": "https://localhost:8080/"
    },
    "id": "wWZNaqFyTZkQ",
    "outputId": "241ed9f4-1555-446b-a847-a84e37d58ac2"
   },
   "outputs": [
    {
     "name": "stdout",
     "output_type": "stream",
     "text": [
      "11 is greater than 10\n"
     ]
    }
   ],
   "source": [
    "a=10\n",
    "b=11\n",
    "\n",
    "if(a>b):\n",
    "  print(a,\"is greater than\", b)\n",
    "elif(b>11):\n",
    "  print(a,\"is greater than\", 10)\n",
    "else:\n",
    "  print(b,\"is greater than\", a)"
   ]
  },
  {
   "cell_type": "markdown",
   "metadata": {
    "id": "P2lblkDzUaNr"
   },
   "source": [
    "#Nested if, if-else, elif"
   ]
  },
  {
   "cell_type": "code",
   "execution_count": null,
   "metadata": {
    "colab": {
     "base_uri": "https://localhost:8080/"
    },
    "id": "PatwifiBUmU7",
    "outputId": "99e81cd0-0b10-42fd-b1cd-cc9bb76c2a2e"
   },
   "outputs": [
    {
     "name": "stdout",
     "output_type": "stream",
     "text": [
      "40 is greater than 20\n"
     ]
    }
   ],
   "source": [
    "a=10\n",
    "b=20\n",
    "c=40\n",
    "\n",
    "if(b>a):\n",
    "  if(b<c):\n",
    "    print(c,\"is greater than\", b)\n"
   ]
  },
  {
   "cell_type": "code",
   "execution_count": null,
   "metadata": {
    "colab": {
     "base_uri": "https://localhost:8080/"
    },
    "id": "aAnAx107VD36",
    "outputId": "ed4d6471-ba73-413b-8947-22700cea4a46"
   },
   "outputs": [
    {
     "name": "stdout",
     "output_type": "stream",
     "text": [
      "40 is greater than 20\n"
     ]
    }
   ],
   "source": [
    "if(b>a):\n",
    "  if(b>c):\n",
    "    print(b,\"is greater than\", c)\n",
    "  else:\n",
    "    print(c,\"is greater than\",b)\n",
    "else:\n",
    "  if(b<a):\n",
    "    print(a,\"is greater than\", b)\n",
    "  else:\n",
    "    print(b,\"is greater than\", a)"
   ]
  },
  {
   "cell_type": "code",
   "execution_count": null,
   "metadata": {
    "colab": {
     "base_uri": "https://localhost:8080/"
    },
    "id": "pu0biTWuWjpL",
    "outputId": "9a3fb3ae-771f-42c4-c462-4ce8fa24cf33"
   },
   "outputs": [
    {
     "name": "stdout",
     "output_type": "stream",
     "text": [
      "40 is greater than 10 20\n"
     ]
    }
   ],
   "source": [
    "if(a>b):\n",
    "  print(a,\"is greater than\", b)\n",
    "elif(b<c):\n",
    "  if(b<a):\n",
    "    print(b,\"is greater than\", a)\n",
    "  elif(b>c):\n",
    "    print(b,\"is greater than\", c)\n",
    "  else:\n",
    "    print(c,\"is greater than\", a,b)\n",
    "else:\n",
    "  print(c,\"is greater than\", a)"
   ]
  },
  {
   "cell_type": "markdown",
   "metadata": {
    "id": "40u5kMcU52iy"
   },
   "source": [
    "#Loops\n",
    "###For loop"
   ]
  },
  {
   "cell_type": "code",
   "execution_count": null,
   "metadata": {
    "colab": {
     "base_uri": "https://localhost:8080/"
    },
    "id": "LDOEnE5g513r",
    "outputId": "44fcf02a-b59a-4433-9726-f1f6aafdca88"
   },
   "outputs": [
    {
     "name": "stdout",
     "output_type": "stream",
     "text": [
      "30\n",
      "40\n",
      "70\n",
      "110\n",
      "180\n",
      "290\n",
      "470\n",
      "760\n",
      "1230\n",
      "1990\n"
     ]
    }
   ],
   "source": [
    "a=10\n",
    "b=20\n",
    "for i in range(10):\n",
    "  c=a+b\n",
    "  b=a\n",
    "  a=c\n",
    "  print(c)"
   ]
  },
  {
   "cell_type": "markdown",
   "metadata": {
    "id": "FRTcgtnx6KsJ"
   },
   "source": [
    "###Nested For loop"
   ]
  },
  {
   "cell_type": "code",
   "execution_count": null,
   "metadata": {
    "colab": {
     "base_uri": "https://localhost:8080/"
    },
    "id": "MWs61fhZ6JrJ",
    "outputId": "7c1bc379-cb4e-4807-a33f-7b569d817e99"
   },
   "outputs": [
    {
     "name": "stdout",
     "output_type": "stream",
     "text": [
      "for loop values: 30\n",
      "Nested for loop values: -20\n",
      "Nested for loop values: 50\n",
      "Nested for loop values: -70\n",
      "Nested for loop values: 120\n",
      "Nested for loop values: -190\n",
      "Nested for loop values: 310\n",
      "Nested for loop values: -500\n",
      "Nested for loop values: 810\n",
      "Nested for loop values: -1310\n",
      "Nested for loop values: 2120\n",
      "for loop values: 810\n",
      "Nested for loop values: 1310\n",
      "Nested for loop values: -500\n",
      "Nested for loop values: 1810\n",
      "Nested for loop values: -2310\n",
      "Nested for loop values: 4120\n",
      "Nested for loop values: -6430\n",
      "Nested for loop values: 10550\n",
      "Nested for loop values: -16980\n",
      "Nested for loop values: 27530\n",
      "Nested for loop values: -44510\n",
      "for loop values: -16980\n",
      "Nested for loop values: -27530\n",
      "Nested for loop values: 10550\n",
      "Nested for loop values: -38080\n",
      "Nested for loop values: 48630\n",
      "Nested for loop values: -86710\n",
      "Nested for loop values: 135340\n",
      "Nested for loop values: -222050\n",
      "Nested for loop values: 357390\n",
      "Nested for loop values: -579440\n",
      "Nested for loop values: 936830\n",
      "for loop values: 357390\n",
      "Nested for loop values: 579440\n",
      "Nested for loop values: -222050\n",
      "Nested for loop values: 801490\n",
      "Nested for loop values: -1023540\n",
      "Nested for loop values: 1825030\n",
      "Nested for loop values: -2848570\n",
      "Nested for loop values: 4673600\n",
      "Nested for loop values: -7522170\n",
      "Nested for loop values: 12195770\n",
      "Nested for loop values: -19717940\n",
      "for loop values: -7522170\n",
      "Nested for loop values: -12195770\n",
      "Nested for loop values: 4673600\n",
      "Nested for loop values: -16869370\n",
      "Nested for loop values: 21542970\n",
      "Nested for loop values: -38412340\n",
      "Nested for loop values: 59955310\n",
      "Nested for loop values: -98367650\n",
      "Nested for loop values: 158322960\n",
      "Nested for loop values: -256690610\n",
      "Nested for loop values: 415013570\n",
      "for loop values: 158322960\n",
      "Nested for loop values: 256690610\n",
      "Nested for loop values: -98367650\n",
      "Nested for loop values: 355058260\n",
      "Nested for loop values: -453425910\n",
      "Nested for loop values: 808484170\n",
      "Nested for loop values: -1261910080\n",
      "Nested for loop values: 2070394250\n",
      "Nested for loop values: -3332304330\n",
      "Nested for loop values: 5402698580\n",
      "Nested for loop values: -8735002910\n",
      "for loop values: -3332304330\n",
      "Nested for loop values: -5402698580\n",
      "Nested for loop values: 2070394250\n",
      "Nested for loop values: -7473092830\n",
      "Nested for loop values: 9543487080\n",
      "Nested for loop values: -17016579910\n",
      "Nested for loop values: 26560066990\n",
      "Nested for loop values: -43576646900\n",
      "Nested for loop values: 70136713890\n",
      "Nested for loop values: -113713360790\n",
      "Nested for loop values: 183850074680\n",
      "for loop values: 70136713890\n",
      "Nested for loop values: 113713360790\n",
      "Nested for loop values: -43576646900\n",
      "Nested for loop values: 157290007690\n",
      "Nested for loop values: -200866654590\n",
      "Nested for loop values: 358156662280\n",
      "Nested for loop values: -559023316870\n",
      "Nested for loop values: 917179979150\n",
      "Nested for loop values: -1476203296020\n",
      "Nested for loop values: 2393383275170\n",
      "Nested for loop values: -3869586571190\n",
      "for loop values: -1476203296020\n",
      "Nested for loop values: -2393383275170\n",
      "Nested for loop values: 917179979150\n",
      "Nested for loop values: -3310563254320\n",
      "Nested for loop values: 4227743233470\n",
      "Nested for loop values: -7538306487790\n",
      "Nested for loop values: 11766049721260\n",
      "Nested for loop values: -19304356209050\n",
      "Nested for loop values: 31070405930310\n",
      "Nested for loop values: -50374762139360\n",
      "Nested for loop values: 81445168069670\n",
      "for loop values: 31070405930310\n",
      "Nested for loop values: 50374762139360\n",
      "Nested for loop values: -19304356209050\n",
      "Nested for loop values: 69679118348410\n",
      "Nested for loop values: -88983474557460\n",
      "Nested for loop values: 158662592905870\n",
      "Nested for loop values: -247646067463330\n",
      "Nested for loop values: 406308660369200\n",
      "Nested for loop values: -653954727832530\n",
      "Nested for loop values: 1060263388201730\n",
      "Nested for loop values: -1714218116034260\n"
     ]
    }
   ],
   "source": [
    "a=10\n",
    "b=20\n",
    "for i in range(10):\n",
    "  c=a+b\n",
    "  b=a\n",
    "  a=c\n",
    "  print(\"for loop values:\",c)\n",
    "  for i in range(10):\n",
    "     c=b-a\n",
    "     b=a\n",
    "     a=c\n",
    "     print(\"Nested for loop values:\",c)"
   ]
  },
  {
   "cell_type": "markdown",
   "metadata": {
    "id": "yIJAml7u66E2"
   },
   "source": [
    "###While Loop"
   ]
  },
  {
   "cell_type": "code",
   "execution_count": null,
   "metadata": {
    "colab": {
     "base_uri": "https://localhost:8080/"
    },
    "id": "zLkl_5KA7DLG",
    "outputId": "b4760601-2fb7-413d-bd1b-517419034091"
   },
   "outputs": [
    {
     "name": "stdout",
     "output_type": "stream",
     "text": [
      "1\n",
      "2\n",
      "3\n",
      "4\n",
      "5\n",
      "6\n",
      "7\n",
      "8\n",
      "9\n",
      "10\n"
     ]
    }
   ],
   "source": [
    "a=10\n",
    "b=20\n",
    "c=0\n",
    "while(c<10):\n",
    "  c=c+1\n",
    "  print(c)"
   ]
  },
  {
   "cell_type": "markdown",
   "metadata": {
    "id": "VX4HAlXM9ziD"
   },
   "source": [
    "###Nested while loop"
   ]
  },
  {
   "cell_type": "code",
   "execution_count": null,
   "metadata": {
    "colab": {
     "base_uri": "https://localhost:8080/"
    },
    "id": "3kRGgPP998pI",
    "outputId": "187584f6-92fd-4848-f325-62dbdb1b36f6"
   },
   "outputs": [
    {
     "name": "stdout",
     "output_type": "stream",
     "text": [
      "While: 1\n",
      "Nested While: 3\n",
      "Nested While: 5\n",
      "Nested While: 7\n",
      "Nested While: 9\n",
      "Nested While: 11\n"
     ]
    }
   ],
   "source": [
    "a=10\n",
    "b=20\n",
    "c=0\n",
    "while(c<5):\n",
    "  c=c+1\n",
    "  print(\"While:\",c)\n",
    "  while(c<10):\n",
    "    c=c+2\n",
    "    print(\"Nested While:\",c)"
   ]
  },
  {
   "cell_type": "markdown",
   "metadata": {
    "id": "SUhnMAyAfHna"
   },
   "source": [
    "#List\n",
    "\n",
    "declared in between [   ]"
   ]
  },
  {
   "cell_type": "code",
   "execution_count": null,
   "metadata": {
    "colab": {
     "base_uri": "https://localhost:8080/"
    },
    "id": "Srkry6VCe8oL",
    "outputId": "5b70a051-b794-4e48-ddc3-7b8a2a751015"
   },
   "outputs": [
    {
     "name": "stdout",
     "output_type": "stream",
     "text": [
      "['a', 'b', 'c', 'd', 'e']\n"
     ]
    }
   ],
   "source": [
    "a=['a','b','c','d','e']\n",
    "print(a)"
   ]
  },
  {
   "cell_type": "markdown",
   "metadata": {
    "id": "6085j-kTgReh"
   },
   "source": [
    "#Accessing the list"
   ]
  },
  {
   "cell_type": "code",
   "execution_count": 1,
   "metadata": {
    "id": "YUDPXvPZgL3h"
   },
   "outputs": [],
   "source": [
    "breakfast=['Idli','Poha','Dosa','Chapathi','Dhokla','Vermicelli','Parota','Upma','Pongal']"
   ]
  },
  {
   "cell_type": "code",
   "execution_count": 2,
   "metadata": {
    "colab": {
     "base_uri": "https://localhost:8080/"
    },
    "id": "1z7bghWliluo",
    "outputId": "ed9c7ea2-a018-47b4-ef9e-222010b1be87"
   },
   "outputs": [
    {
     "name": "stdout",
     "output_type": "stream",
     "text": [
      "Vermicelli\n"
     ]
    }
   ],
   "source": [
    "print(breakfast[5])"
   ]
  },
  {
   "cell_type": "code",
   "execution_count": 3,
   "metadata": {
    "colab": {
     "base_uri": "https://localhost:8080/"
    },
    "id": "cCsgRobEiyb3",
    "outputId": "ce95082a-18b1-4a4e-b551-ca96d872cfc1"
   },
   "outputs": [
    {
     "name": "stdout",
     "output_type": "stream",
     "text": [
      "Chapathi\n"
     ]
    }
   ],
   "source": [
    "print(breakfast[3])"
   ]
  },
  {
   "cell_type": "code",
   "execution_count": 4,
   "metadata": {
    "colab": {
     "base_uri": "https://localhost:8080/"
    },
    "id": "DoCbh3RBjSNb",
    "outputId": "acb0f4c5-dc3b-4e10-bba0-80cab2a7a5da"
   },
   "outputs": [
    {
     "name": "stdout",
     "output_type": "stream",
     "text": [
      "['Dosa', 'Chapathi', 'Dhokla']\n"
     ]
    }
   ],
   "source": [
    "print(breakfast[2:5])"
   ]
  },
  {
   "cell_type": "code",
   "execution_count": 5,
   "metadata": {
    "colab": {
     "base_uri": "https://localhost:8080/"
    },
    "id": "KZarRT7rja9J",
    "outputId": "82cb00a9-c2f1-4377-c8d3-20afa0fcaaf2"
   },
   "outputs": [
    {
     "name": "stdout",
     "output_type": "stream",
     "text": [
      "['Dosa', 'Chapathi', 'Dhokla', 'Vermicelli', 'Parota']\n"
     ]
    }
   ],
   "source": [
    "print(breakfast[2:7])"
   ]
  },
  {
   "cell_type": "code",
   "execution_count": 6,
   "metadata": {
    "colab": {
     "base_uri": "https://localhost:8080/"
    },
    "id": "RZHCTZknjyw_",
    "outputId": "1d2decb0-e2e9-444e-8944-24aed5523e96"
   },
   "outputs": [
    {
     "name": "stdout",
     "output_type": "stream",
     "text": [
      "Pongal\n"
     ]
    }
   ],
   "source": [
    "print(breakfast[-1])"
   ]
  },
  {
   "cell_type": "code",
   "execution_count": 7,
   "metadata": {
    "colab": {
     "base_uri": "https://localhost:8080/"
    },
    "id": "VAqC6keZkIBZ",
    "outputId": "ad9f4809-60ae-4e95-e793-459fd427dfbf"
   },
   "outputs": [
    {
     "name": "stdout",
     "output_type": "stream",
     "text": [
      "['Vermicelli', 'Parota', 'Upma']\n"
     ]
    }
   ],
   "source": [
    "print(breakfast[-4:-1])"
   ]
  },
  {
   "cell_type": "markdown",
   "metadata": {
    "id": "sTgkUtNLkd9w"
   },
   "source": [
    "#Changing items on List"
   ]
  },
  {
   "cell_type": "code",
   "execution_count": 8,
   "metadata": {
    "colab": {
     "base_uri": "https://localhost:8080/"
    },
    "id": "WLsetLIkkheA",
    "outputId": "d14434fe-d01a-45ec-c494-73f5458befda"
   },
   "outputs": [
    {
     "name": "stdout",
     "output_type": "stream",
     "text": [
      "['Idli', 'Maggi', 'Dosa', 'Chapathi', 'Dhokla', 'Vermicelli', 'Parota', 'Upma', 'Pongal']\n"
     ]
    }
   ],
   "source": [
    "breakfast[1]=\"Maggi\"\n",
    "print(breakfast)"
   ]
  },
  {
   "cell_type": "code",
   "execution_count": 9,
   "metadata": {
    "colab": {
     "base_uri": "https://localhost:8080/"
    },
    "id": "DChfxgVzRF9r",
    "outputId": "8e6badd0-0715-42ed-c49b-ad31858b4e0d"
   },
   "outputs": [
    {
     "name": "stdout",
     "output_type": "stream",
     "text": [
      "['Idli', 'Masala Maggi', 'Noodles', 'Sandwitch', 'Dhokla', 'Vermicelli', 'Parota', 'Upma', 'Pongal']\n"
     ]
    }
   ],
   "source": [
    "breakfast[1:4]=[\"Masala Maggi\",\"Noodles\",\"Sandwitch\"]\n",
    "print(breakfast)"
   ]
  },
  {
   "cell_type": "markdown",
   "metadata": {
    "id": "ftiB5prwR1p3"
   },
   "source": [
    "# Adding items to List"
   ]
  },
  {
   "cell_type": "code",
   "execution_count": null,
   "metadata": {
    "colab": {
     "base_uri": "https://localhost:8080/"
    },
    "id": "9-jttEdjRmsy",
    "outputId": "d713bcec-e224-4a60-85b5-440e643ef4d6"
   },
   "outputs": [
    {
     "name": "stdout",
     "output_type": "stream",
     "text": [
      "['Idli', 'Masala Maggi', 'Noodles', 'Sandwitch', 'Dhokla', 'Vermicelli', 'Parota', 'Upma', 'Pongal', 'Onion Dosa']\n"
     ]
    }
   ],
   "source": [
    "breakfast.append(\"Onion Dosa\")\n",
    "print(breakfast)"
   ]
  },
  {
   "cell_type": "code",
   "execution_count": null,
   "metadata": {
    "colab": {
     "base_uri": "https://localhost:8080/"
    },
    "id": "xlQZ2_FOSxg6",
    "outputId": "2a6bed38-2d87-4411-ac00-19ada8f0d9a1"
   },
   "outputs": [
    {
     "name": "stdout",
     "output_type": "stream",
     "text": [
      "['Idli', 'Masala Maggi', 'Noodles', 'Sandwitch', 'Dhokla', 'Vermicelli', 'Parota', 'Upma', 'Pongal', 'Onion Dosa', 'Set Dosa']\n"
     ]
    }
   ],
   "source": [
    "breakfast.append(\"Set Dosa\")\n",
    "print(breakfast)"
   ]
  },
  {
   "cell_type": "code",
   "execution_count": null,
   "metadata": {
    "colab": {
     "base_uri": "https://localhost:8080/"
    },
    "id": "ekObuQXpSV3b",
    "outputId": "bce6cfeb-76b1-423f-ea98-b2afd161e3fd"
   },
   "outputs": [
    {
     "name": "stdout",
     "output_type": "stream",
     "text": [
      "['Idli', 'Masala Maggi', 'Noodles', 'Sandwitch', 'Dhokla', 'Rava idli', 'Vermicelli', 'Parota', 'Upma', 'Pongal', 'Onion Dosa', 'Set Dosa']\n"
     ]
    }
   ],
   "source": [
    "breakfast.insert(5,\"Rava idli\")\n",
    "print(breakfast)"
   ]
  },
  {
   "cell_type": "code",
   "execution_count": null,
   "metadata": {
    "colab": {
     "base_uri": "https://localhost:8080/"
    },
    "id": "AiWcwVZvSqRK",
    "outputId": "ff2591da-8be8-46a4-d3e9-9df94ba21c5a"
   },
   "outputs": [
    {
     "name": "stdout",
     "output_type": "stream",
     "text": [
      "['Idli', 'Masala Maggi', 'Rava Dosa', 'Noodles', 'Sandwitch', 'Dhokla', 'Rava idli', 'Vermicelli', 'Parota', 'Upma', 'Pongal', 'Onion Dosa', 'Set Dosa']\n"
     ]
    }
   ],
   "source": [
    "breakfast.insert(2,\"Rava Dosa\")\n",
    "print(breakfast)"
   ]
  },
  {
   "cell_type": "markdown",
   "metadata": {
    "id": "aeUvXBhoTgoB"
   },
   "source": [
    "#Removing Items in list"
   ]
  },
  {
   "cell_type": "code",
   "execution_count": null,
   "metadata": {
    "colab": {
     "base_uri": "https://localhost:8080/"
    },
    "id": "07aA5tqiTmdi",
    "outputId": "86f023f1-6bdf-4457-e0ac-293fc80526dc"
   },
   "outputs": [
    {
     "name": "stdout",
     "output_type": "stream",
     "text": [
      "['Idli', 'Masala Maggi', 'Noodles', 'Sandwitch', 'Dhokla', 'Rava idli', 'Vermicelli', 'Parota', 'Upma', 'Pongal', 'Onion Dosa', 'Set Dosa']\n"
     ]
    }
   ],
   "source": [
    "breakfast.remove(\"Rava Dosa\")\n",
    "print(breakfast)"
   ]
  },
  {
   "cell_type": "code",
   "execution_count": null,
   "metadata": {
    "colab": {
     "base_uri": "https://localhost:8080/"
    },
    "id": "vSd6DKdTUuny",
    "outputId": "890fe0e3-8926-4f69-e38f-daa5991c0e96"
   },
   "outputs": [
    {
     "name": "stdout",
     "output_type": "stream",
     "text": [
      "['Idli', 'Masala Maggi', 'Noodles', 'Sandwitch', 'Dhokla', 'Rava idli', 'Vermicelli', 'Parota', 'Pongal', 'Onion Dosa', 'Set Dosa']\n"
     ]
    }
   ],
   "source": [
    "breakfast.remove(\"Upma\")\n",
    "print(breakfast)"
   ]
  },
  {
   "cell_type": "code",
   "execution_count": null,
   "metadata": {
    "colab": {
     "base_uri": "https://localhost:8080/"
    },
    "id": "TAeLb9xeU08x",
    "outputId": "8ddcb1c7-00cd-41cb-9494-671edaea450c"
   },
   "outputs": [
    {
     "name": "stdout",
     "output_type": "stream",
     "text": [
      "['Idli', 'Masala Maggi', 'Noodles', 'Sandwitch', 'Dhokla', 'Rava idli', 'Vermicelli', 'Parota', 'Pongal', 'Onion Dosa']\n"
     ]
    }
   ],
   "source": [
    "breakfast.pop()\n",
    "print(breakfast)"
   ]
  },
  {
   "cell_type": "code",
   "execution_count": null,
   "metadata": {
    "colab": {
     "base_uri": "https://localhost:8080/"
    },
    "id": "Ol-zIyYbU61-",
    "outputId": "8fdfb89b-fafc-4d52-9c3b-fe568ce48d5a"
   },
   "outputs": [
    {
     "name": "stdout",
     "output_type": "stream",
     "text": [
      "['Idli', 'Noodles', 'Sandwitch', 'Dhokla', 'Rava idli', 'Vermicelli', 'Parota', 'Pongal', 'Onion Dosa']\n"
     ]
    }
   ],
   "source": [
    "breakfast.pop(1)\n",
    "print(breakfast)"
   ]
  },
  {
   "cell_type": "code",
   "execution_count": null,
   "metadata": {
    "colab": {
     "base_uri": "https://localhost:8080/"
    },
    "id": "Rktu32CMVDsH",
    "outputId": "ad68fae3-9c1c-4389-bcc7-149cc0f5e775"
   },
   "outputs": [
    {
     "name": "stdout",
     "output_type": "stream",
     "text": [
      "['Idli', 'Noodles', 'Sandwitch', 'Dhokla', 'Rava idli', 'Vermicelli', 'Parota', 'Pongal', 'Onion Dosa']\n",
      "['Idli', 'Noodles', 'Sandwitch', 'Dhokla', 'Rava idli', 'Vermicelli', 'Parota', 'Pongal', 'Onion Dosa']\n"
     ]
    }
   ],
   "source": [
    "breakfast_r=breakfast  #Cloning\n",
    "print(breakfast_r)\n",
    "print(breakfast)"
   ]
  },
  {
   "cell_type": "code",
   "execution_count": null,
   "metadata": {
    "colab": {
     "base_uri": "https://localhost:8080/",
     "height": 183
    },
    "id": "kkIE5zJmVS_o",
    "outputId": "f49992e9-c2b4-4f45-a240-f7b8dc791af6"
   },
   "outputs": [
    {
     "ename": "NameError",
     "evalue": "ignored",
     "output_type": "error",
     "traceback": [
      "\u001b[0;31m---------------------------------------------------------------------------\u001b[0m",
      "\u001b[0;31mNameError\u001b[0m                                 Traceback (most recent call last)",
      "\u001b[0;32m<ipython-input-47-29cf145a8392>\u001b[0m in \u001b[0;36m<module>\u001b[0;34m()\u001b[0m\n\u001b[1;32m      1\u001b[0m \u001b[0;32mdel\u001b[0m \u001b[0mbreakfast_r\u001b[0m\u001b[0;34m\u001b[0m\u001b[0;34m\u001b[0m\u001b[0m\n\u001b[0;32m----> 2\u001b[0;31m \u001b[0mprint\u001b[0m\u001b[0;34m(\u001b[0m\u001b[0mbreakfast_r\u001b[0m\u001b[0;34m)\u001b[0m\u001b[0;34m\u001b[0m\u001b[0;34m\u001b[0m\u001b[0m\n\u001b[0m",
      "\u001b[0;31mNameError\u001b[0m: name 'breakfast_r' is not defined"
     ]
    }
   ],
   "source": [
    "del breakfast_r\n",
    "print(breakfast_r)"
   ]
  },
  {
   "cell_type": "markdown",
   "metadata": {
    "id": "FhVz0Sc3Vh5O"
   },
   "source": [
    "#Looping the list"
   ]
  },
  {
   "cell_type": "code",
   "execution_count": null,
   "metadata": {
    "id": "HjgJHEG0Vmcg"
   },
   "outputs": [],
   "source": [
    "chats=['Samosa','Kachori','Masala Puri','Bhel Puri','Dahi Puri','Raj Kachori','Dahi Vada']"
   ]
  },
  {
   "cell_type": "code",
   "execution_count": null,
   "metadata": {
    "colab": {
     "base_uri": "https://localhost:8080/"
    },
    "id": "fnTAhQxwWTrx",
    "outputId": "be27f64f-bb2d-4fbf-b398-33fa6a60d0b2"
   },
   "outputs": [
    {
     "name": "stdout",
     "output_type": "stream",
     "text": [
      "Samosa\n",
      "Kachori\n",
      "Masala Puri\n",
      "Bhel Puri\n",
      "Dahi Puri\n",
      "Raj Kachori\n",
      "Dahi Vada\n"
     ]
    }
   ],
   "source": [
    "for i in chats:\n",
    "  print(i)"
   ]
  },
  {
   "cell_type": "code",
   "execution_count": null,
   "metadata": {
    "colab": {
     "base_uri": "https://localhost:8080/"
    },
    "id": "1jPBLfgLWbwp",
    "outputId": "9e7252af-d807-45a5-bd43-26d75f4439b8"
   },
   "outputs": [
    {
     "name": "stdout",
     "output_type": "stream",
     "text": [
      "Samosa\n",
      "Kachori\n",
      "Masala Puri\n",
      "Bhel Puri\n",
      "Dahi Puri\n",
      "Raj Kachori\n",
      "Dahi Vada\n"
     ]
    }
   ],
   "source": [
    "for i in range(len(chats)):\n",
    "  print(chats[i])"
   ]
  },
  {
   "cell_type": "code",
   "execution_count": null,
   "metadata": {
    "id": "5oEtd7B-XH3i"
   },
   "outputs": [],
   "source": [
    "while i in chats:\n",
    "  print(i)"
   ]
  },
  {
   "cell_type": "markdown",
   "metadata": {
    "id": "u89ndQ0PYuf9"
   },
   "source": [
    "**for** is **fetch** iteration <br>\n",
    "**while** is **condition** iteration <br>"
   ]
  },
  {
   "cell_type": "code",
   "execution_count": null,
   "metadata": {
    "colab": {
     "base_uri": "https://localhost:8080/"
    },
    "id": "LU4nx1DeZmaf",
    "outputId": "58a204e7-9735-4c5b-e259-96a47bcdb8b8"
   },
   "outputs": [
    {
     "name": "stdout",
     "output_type": "stream",
     "text": [
      "Samosa\n",
      "Kachori\n",
      "Masala Puri\n",
      "Bhel Puri\n",
      "Dahi Puri\n",
      "Raj Kachori\n",
      "Dahi Vada\n"
     ]
    }
   ],
   "source": [
    "i=0\n",
    "while i<len(chats):\n",
    "  print(chats[i])\n",
    "  i=i+1"
   ]
  },
  {
   "cell_type": "markdown",
   "metadata": {
    "id": "mE8l1LbebxUU"
   },
   "source": [
    "#Creating new List with respect to another List"
   ]
  },
  {
   "cell_type": "code",
   "execution_count": null,
   "metadata": {
    "id": "uSqPG1AQbB0u"
   },
   "outputs": [],
   "source": [
    "breakfast=['Idli','Poha','Dosa','Chapathi','Dhokla','Vermicelli','Parota','Upma','Pongal']"
   ]
  },
  {
   "cell_type": "code",
   "execution_count": null,
   "metadata": {
    "colab": {
     "base_uri": "https://localhost:8080/"
    },
    "id": "f8opgBXocGvh",
    "outputId": "702148b4-f7d7-496c-ed3e-965300396336"
   },
   "outputs": [
    {
     "name": "stdout",
     "output_type": "stream",
     "text": [
      "['Sagu and Chatni', 'Dry Chatni', 'Sagu']\n"
     ]
    }
   ],
   "source": [
    "new_list=[]\n",
    "\n",
    "for i in breakfast:\n",
    "  if \"Idli\" in i:\n",
    "    new_list.append(\"Sagu and Chatni\")\n",
    "  if \"Poha\" in i:\n",
    "    new_list.append(\"Dry Chatni\")\n",
    "  if \"Parota\" in i:\n",
    "    new_list.append(\"Sagu\")\n",
    "print(new_list)"
   ]
  },
  {
   "cell_type": "code",
   "execution_count": null,
   "metadata": {
    "colab": {
     "base_uri": "https://localhost:8080/"
    },
    "id": "LEN4TbQQe1MQ",
    "outputId": "b70326ff-3b0d-4856-d928-0a94eb1e14f8"
   },
   "outputs": [
    {
     "name": "stdout",
     "output_type": "stream",
     "text": [
      "['Sagu and Chatni', 'Dry Chatni', '0', '0', '0', '0', 'Sagu', '0', '0']\n"
     ]
    }
   ],
   "source": [
    "sides=[]\n",
    "for i in range(len(breakfast)):\n",
    "  sides.append('0')\n",
    "  if \"Idli\" in breakfast[i]:\n",
    "    sides[i]=\"Sagu and Chatni\"\n",
    "  if \"Poha\" in breakfast[i]:\n",
    "    sides[i]=\"Dry Chatni\"\n",
    "  if \"Parota\" in breakfast[i]:\n",
    "    sides[i]=\"Sagu\"\n",
    "print(sides)"
   ]
  },
  {
   "cell_type": "code",
   "execution_count": null,
   "metadata": {
    "colab": {
     "base_uri": "https://localhost:8080/"
    },
    "id": "3yA9oxF0hRvG",
    "outputId": "d42f67e9-0c0e-406a-fb5d-3843ef69f31d"
   },
   "outputs": [
    {
     "name": "stdout",
     "output_type": "stream",
     "text": [
      "['Idli', 'Poha', 'Chapathi', 'Dhokla', 'Vermicelli', 'Parota', 'Upma', 'Pongal']\n"
     ]
    }
   ],
   "source": [
    "new_list = [x for x in breakfast if x != \"Dosa\"]\n",
    "print(new_list)"
   ]
  },
  {
   "cell_type": "markdown",
   "metadata": {
    "id": "m_t9YIgGj3Ku"
   },
   "source": [
    "#Sorting the List"
   ]
  },
  {
   "cell_type": "code",
   "execution_count": null,
   "metadata": {
    "id": "nvfB3QXhkAeC"
   },
   "outputs": [],
   "source": [
    "list_alpa=[\"a\",\"c\",\"b\",\"d\"]\n",
    "list_num=[2,4,1,3,6,5]"
   ]
  },
  {
   "cell_type": "code",
   "execution_count": null,
   "metadata": {
    "colab": {
     "base_uri": "https://localhost:8080/"
    },
    "id": "M4_NYTr_kVN6",
    "outputId": "b2d316bd-d60d-47cc-d077-d80a532b7f95"
   },
   "outputs": [
    {
     "name": "stdout",
     "output_type": "stream",
     "text": [
      "['a', 'b', 'c', 'd']\n"
     ]
    }
   ],
   "source": [
    "list_alpa.sort()\n",
    "print(list_alpa)"
   ]
  },
  {
   "cell_type": "code",
   "execution_count": null,
   "metadata": {
    "colab": {
     "base_uri": "https://localhost:8080/"
    },
    "id": "rEcLriV-k0yX",
    "outputId": "a67a50d6-b33c-4506-a066-96786aeef55b"
   },
   "outputs": [
    {
     "name": "stdout",
     "output_type": "stream",
     "text": [
      "[1, 2, 3, 4, 5, 6]\n"
     ]
    }
   ],
   "source": [
    "list_num.sort()\n",
    "print(list_num)"
   ]
  },
  {
   "cell_type": "code",
   "execution_count": null,
   "metadata": {
    "colab": {
     "base_uri": "https://localhost:8080/"
    },
    "id": "fe2niRsXp5_t",
    "outputId": "56f42dfa-3a39-4809-b8e4-73823e4573ad"
   },
   "outputs": [
    {
     "name": "stdout",
     "output_type": "stream",
     "text": [
      "['d', 'c', 'b', 'a']\n"
     ]
    }
   ],
   "source": [
    "list_alpa.sort(reverse=True)\n",
    "print(list_alpa)"
   ]
  },
  {
   "cell_type": "code",
   "execution_count": null,
   "metadata": {
    "colab": {
     "base_uri": "https://localhost:8080/"
    },
    "id": "4UGPTzQbqCL_",
    "outputId": "b792e6df-d6dc-4418-d6a2-6e3f7a27c8a9"
   },
   "outputs": [
    {
     "name": "stdout",
     "output_type": "stream",
     "text": [
      "[6, 5, 4, 3, 2, 1]\n"
     ]
    }
   ],
   "source": [
    "list_num.sort(reverse=True)\n",
    "print(list_num)"
   ]
  },
  {
   "cell_type": "markdown",
   "metadata": {
    "id": "azB1zi6XorZu"
   },
   "source": [
    "#Joining the list"
   ]
  },
  {
   "cell_type": "code",
   "execution_count": null,
   "metadata": {
    "colab": {
     "base_uri": "https://localhost:8080/"
    },
    "id": "FQsgcmb3oq_1",
    "outputId": "1e048904-fd54-4623-eaa0-f6d83907c20a"
   },
   "outputs": [
    {
     "name": "stdout",
     "output_type": "stream",
     "text": [
      "['a', 'b', 'c', 'd', 1, 2, 3, 4, 5, 6]\n"
     ]
    }
   ],
   "source": [
    "list_all=list_alpa+list_num\n",
    "print(list_all)"
   ]
  },
  {
   "cell_type": "markdown",
   "metadata": {
    "id": "TSt8XUJSpHik"
   },
   "source": [
    "#Copying the list"
   ]
  },
  {
   "cell_type": "code",
   "execution_count": null,
   "metadata": {
    "colab": {
     "base_uri": "https://localhost:8080/"
    },
    "id": "-KTc-KlgpKLE",
    "outputId": "89422f47-7571-40e2-9b0e-9049f11463c1"
   },
   "outputs": [
    {
     "name": "stdout",
     "output_type": "stream",
     "text": [
      "['a', 'b', 'c', 'd']\n"
     ]
    }
   ],
   "source": [
    "list_copy1=list_alpa.copy()\n",
    "print(list_copy1)"
   ]
  },
  {
   "cell_type": "code",
   "execution_count": null,
   "metadata": {
    "colab": {
     "base_uri": "https://localhost:8080/"
    },
    "id": "Mo9UqxPOpW8a",
    "outputId": "8966a6cf-b8d4-418f-c15e-f2eefb335f5b"
   },
   "outputs": [
    {
     "name": "stdout",
     "output_type": "stream",
     "text": [
      "['a', 'b', 'c', 'd']\n"
     ]
    }
   ],
   "source": [
    "list_copy2=list(list_alpa)\n",
    "print(list_copy1)"
   ]
  },
  {
   "cell_type": "code",
   "execution_count": null,
   "metadata": {
    "colab": {
     "base_uri": "https://localhost:8080/"
    },
    "id": "97GX51jFpeZ6",
    "outputId": "351af109-4e1b-4da6-9fa7-3859da99f06f"
   },
   "outputs": [
    {
     "name": "stdout",
     "output_type": "stream",
     "text": [
      "['a', 'b', 'c', 'd']\n"
     ]
    }
   ],
   "source": [
    "list_copy3=list_alpa\n",
    "print(list_copy1)"
   ]
  },
  {
   "cell_type": "markdown",
   "metadata": {
    "id": "c7A7Chz1-bRy"
   },
   "source": [
    "#Tuples\n",
    "\n",
    "Declared as (  )"
   ]
  },
  {
   "cell_type": "code",
   "execution_count": null,
   "metadata": {
    "colab": {
     "base_uri": "https://localhost:8080/"
    },
    "id": "757IESnZ-f97",
    "outputId": "5113322f-45a7-4c22-efbb-49e7c7737aad"
   },
   "outputs": [
    {
     "name": "stdout",
     "output_type": "stream",
     "text": [
      "('a', 'b', 'c', 'd', 'e')\n"
     ]
    }
   ],
   "source": [
    "a=('a','b','c','d','e')\n",
    "print(a)"
   ]
  },
  {
   "cell_type": "markdown",
   "metadata": {
    "id": "jHRGa5gi-5Ga"
   },
   "source": [
    "# Accessing the Tuples"
   ]
  },
  {
   "cell_type": "code",
   "execution_count": null,
   "metadata": {
    "id": "kC5zn_iV-zG3"
   },
   "outputs": [],
   "source": [
    "sides=('Chatni','Dry Chatni','Sagu','Kadai Paneer','Paneer Masala','Kaju Masala')"
   ]
  },
  {
   "cell_type": "code",
   "execution_count": null,
   "metadata": {
    "colab": {
     "base_uri": "https://localhost:8080/"
    },
    "id": "i1Ds6Z-T-9op",
    "outputId": "561c1997-15f7-409a-b3f7-199ac333bcda"
   },
   "outputs": [
    {
     "name": "stdout",
     "output_type": "stream",
     "text": [
      "Sagu\n"
     ]
    }
   ],
   "source": [
    "print(sides[2])"
   ]
  },
  {
   "cell_type": "code",
   "execution_count": null,
   "metadata": {
    "colab": {
     "base_uri": "https://localhost:8080/"
    },
    "id": "K0MNBBiQ_ivy",
    "outputId": "3805628e-531d-485d-f6f8-61195884ff7d"
   },
   "outputs": [
    {
     "name": "stdout",
     "output_type": "stream",
     "text": [
      "Kadai Paneer\n"
     ]
    }
   ],
   "source": [
    "print(sides[3])"
   ]
  },
  {
   "cell_type": "code",
   "execution_count": null,
   "metadata": {
    "colab": {
     "base_uri": "https://localhost:8080/"
    },
    "id": "7_ueRAck_nOh",
    "outputId": "a95961bf-de8e-46d1-c8ff-1254df31c701"
   },
   "outputs": [
    {
     "name": "stdout",
     "output_type": "stream",
     "text": [
      "('Dry Chatni', 'Sagu', 'Kadai Paneer')\n"
     ]
    }
   ],
   "source": [
    "print(sides[1:4])"
   ]
  },
  {
   "cell_type": "code",
   "execution_count": null,
   "metadata": {
    "colab": {
     "base_uri": "https://localhost:8080/"
    },
    "id": "tajrv70k_rOg",
    "outputId": "22c6a829-0df4-4eef-e628-8e4a8931e9ac"
   },
   "outputs": [
    {
     "name": "stdout",
     "output_type": "stream",
     "text": [
      "('Sagu', 'Kadai Paneer', 'Paneer Masala')\n"
     ]
    }
   ],
   "source": [
    "print(sides[2:5])"
   ]
  },
  {
   "cell_type": "code",
   "execution_count": null,
   "metadata": {
    "colab": {
     "base_uri": "https://localhost:8080/"
    },
    "id": "4M3HPgJN_xf_",
    "outputId": "87f26229-669b-42a2-84d2-1d8ec33ba315"
   },
   "outputs": [
    {
     "name": "stdout",
     "output_type": "stream",
     "text": [
      "('Chatni', 'Dry Chatni', 'Sagu', 'Kadai Paneer', 'Paneer Masala')\n"
     ]
    }
   ],
   "source": [
    "print(sides[:5])"
   ]
  },
  {
   "cell_type": "code",
   "execution_count": null,
   "metadata": {
    "colab": {
     "base_uri": "https://localhost:8080/"
    },
    "id": "Oftluzyf_85A",
    "outputId": "14626460-5030-4004-911f-41be95270ea3"
   },
   "outputs": [
    {
     "name": "stdout",
     "output_type": "stream",
     "text": [
      "('Dry Chatni', 'Sagu', 'Kadai Paneer', 'Paneer Masala', 'Kaju Masala')\n"
     ]
    }
   ],
   "source": [
    "print(sides[1:])"
   ]
  },
  {
   "cell_type": "code",
   "execution_count": null,
   "metadata": {
    "colab": {
     "base_uri": "https://localhost:8080/"
    },
    "id": "JioGS5oJAJ84",
    "outputId": "c8e79ad0-8971-47de-b4cb-8fe4149ce4b5"
   },
   "outputs": [
    {
     "name": "stdout",
     "output_type": "stream",
     "text": [
      "('Dry Chatni', 'Sagu', 'Kadai Paneer')\n"
     ]
    }
   ],
   "source": [
    "print(sides[-5:-2])"
   ]
  },
  {
   "cell_type": "code",
   "execution_count": null,
   "metadata": {
    "colab": {
     "base_uri": "https://localhost:8080/"
    },
    "id": "Ea29PGQxATmK",
    "outputId": "3b6d4981-5938-4602-d636-39d54b40910d"
   },
   "outputs": [
    {
     "name": "stdout",
     "output_type": "stream",
     "text": [
      "Paneer Masala\n"
     ]
    }
   ],
   "source": [
    "print(sides[-2])"
   ]
  },
  {
   "cell_type": "markdown",
   "metadata": {
    "id": "LvGZaU5oAjGZ"
   },
   "source": [
    "#Unpacking Tuple"
   ]
  },
  {
   "cell_type": "code",
   "execution_count": null,
   "metadata": {
    "colab": {
     "base_uri": "https://localhost:8080/"
    },
    "id": "5BoY8Re2AicE",
    "outputId": "d135bc6c-59a8-4e45-9b71-fd62b2c6c40d"
   },
   "outputs": [
    {
     "name": "stdout",
     "output_type": "stream",
     "text": [
      "Chatni\n",
      "Dry Chatni\n",
      "Sagu\n",
      "Kadai Paneer\n",
      "Kaaju Paneer Masala\n",
      "Kaju Masala\n"
     ]
    }
   ],
   "source": [
    "(green,red,light_green,white_brown,brown,golden_brown)=sides\n",
    "print(green)\n",
    "print(red)\n",
    "print(light_green)\n",
    "print(white_brown)\n",
    "print(brown)\n",
    "print(golden_brown)"
   ]
  },
  {
   "cell_type": "markdown",
   "metadata": {
    "id": "6glVKYv3BXn4"
   },
   "source": [
    "# For Loop with Tuple"
   ]
  },
  {
   "cell_type": "code",
   "execution_count": null,
   "metadata": {
    "colab": {
     "base_uri": "https://localhost:8080/"
    },
    "id": "ZMIhji0TCwOQ",
    "outputId": "3e968aae-e541-4986-8a5b-29d0d10f0dc7"
   },
   "outputs": [
    {
     "name": "stdout",
     "output_type": "stream",
     "text": [
      "Chatni\n",
      "Dry Chatni\n",
      "Sagu\n",
      "Kadai Paneer\n",
      "Kaaju Paneer Masala\n",
      "Kaju Masala\n"
     ]
    }
   ],
   "source": [
    "for i in sides:\n",
    "  print(i)"
   ]
  },
  {
   "cell_type": "code",
   "execution_count": null,
   "metadata": {
    "colab": {
     "base_uri": "https://localhost:8080/"
    },
    "id": "ESOxetKzC-mo",
    "outputId": "aef41495-e146-43a1-a0a9-c8f0fb9cc5bb"
   },
   "outputs": [
    {
     "name": "stdout",
     "output_type": "stream",
     "text": [
      "Chatni\n",
      "Dry Chatni\n",
      "Sagu\n",
      "Kadai Paneer\n",
      "Kaaju Paneer Masala\n",
      "Kaju Masala\n"
     ]
    }
   ],
   "source": [
    "for i in range(len(sides)):\n",
    "  print(sides[i])"
   ]
  },
  {
   "cell_type": "markdown",
   "metadata": {
    "id": "mfjRGRzDDVHI"
   },
   "source": [
    "#While Loop with Tuple"
   ]
  },
  {
   "cell_type": "code",
   "execution_count": null,
   "metadata": {
    "colab": {
     "base_uri": "https://localhost:8080/"
    },
    "id": "dILzpTxUDU3Y",
    "outputId": "9020c5de-9d38-443b-f32f-16084bcf56e2"
   },
   "outputs": [
    {
     "name": "stdout",
     "output_type": "stream",
     "text": [
      "Chatni\n",
      "Dry Chatni\n",
      "Sagu\n",
      "Kadai Paneer\n",
      "Kaaju Paneer Masala\n",
      "Kaju Masala\n"
     ]
    }
   ],
   "source": [
    "i=0\n",
    "while i<len(sides):\n",
    "  print(sides[i])\n",
    "  i=i+1"
   ]
  },
  {
   "cell_type": "markdown",
   "metadata": {
    "id": "NS4UOZMLDx7R"
   },
   "source": [
    "#Joining Tuples"
   ]
  },
  {
   "cell_type": "code",
   "execution_count": null,
   "metadata": {
    "colab": {
     "base_uri": "https://localhost:8080/"
    },
    "id": "cl4pSn29DwXY",
    "outputId": "fd97d9f9-716d-4f4e-a814-a5f746efe4da"
   },
   "outputs": [
    {
     "name": "stdout",
     "output_type": "stream",
     "text": [
      "('a', 'b', 'c', 1, 2, 3)\n"
     ]
    }
   ],
   "source": [
    "tuple1 = (\"a\", \"b\" , \"c\")\n",
    "tuple2 = (1, 2, 3)\n",
    "\n",
    "tuple3 = tuple1 + tuple2\n",
    "print(tuple3)"
   ]
  },
  {
   "cell_type": "markdown",
   "metadata": {
    "id": "czypuHufD8Eo"
   },
   "source": [
    "#Updating,adding items to the Tuple"
   ]
  },
  {
   "cell_type": "code",
   "execution_count": null,
   "metadata": {
    "colab": {
     "base_uri": "https://localhost:8080/"
    },
    "id": "XrQojbX247zO",
    "outputId": "d7e4debf-69e1-4e9b-8473-df51d9699e6c"
   },
   "outputs": [
    {
     "name": "stdout",
     "output_type": "stream",
     "text": [
      "['Idli', 'Poha', 'Dosa', 'Chapathi', 'Dhokla', 'Vermicelli', 'Parota', 'Upma', 'Pongal']\n"
     ]
    }
   ],
   "source": [
    "print(breakfast)"
   ]
  },
  {
   "cell_type": "code",
   "execution_count": null,
   "metadata": {
    "colab": {
     "base_uri": "https://localhost:8080/"
    },
    "id": "Zro7RckU5CQ2",
    "outputId": "8f992ad1-c2f6-4209-bf86-dc5d8da6af6e"
   },
   "outputs": [
    {
     "name": "stdout",
     "output_type": "stream",
     "text": [
      "('Chatni', 'Dry Chatni', 'Sagu', 'Kadai Paneer', 'Paneer Masala', 'Kaju Masala')\n"
     ]
    }
   ],
   "source": [
    "print(sides)"
   ]
  },
  {
   "cell_type": "code",
   "execution_count": null,
   "metadata": {
    "colab": {
     "base_uri": "https://localhost:8080/"
    },
    "id": "YNQ6M-Ti5GA1",
    "outputId": "de08c339-de08-4ec7-cb78-ea15d887e68b"
   },
   "outputs": [
    {
     "name": "stdout",
     "output_type": "stream",
     "text": [
      "['Idli', 'Poha', 'rava idli', 'Chapathi', 'Dhokla', 'Vermicelli', 'Parota', 'Upma', 'Pongal']\n"
     ]
    }
   ],
   "source": [
    "breakfast[2]='rava idli'\n",
    "print(breakfast)"
   ]
  },
  {
   "cell_type": "code",
   "execution_count": null,
   "metadata": {
    "colab": {
     "base_uri": "https://localhost:8080/",
     "height": 183
    },
    "id": "hBcnW-EY5VY-",
    "outputId": "edf4a225-099f-4e4e-9071-f148362e3a86"
   },
   "outputs": [
    {
     "ename": "TypeError",
     "evalue": "ignored",
     "output_type": "error",
     "traceback": [
      "\u001b[0;31m---------------------------------------------------------------------------\u001b[0m",
      "\u001b[0;31mTypeError\u001b[0m                                 Traceback (most recent call last)",
      "\u001b[0;32m<ipython-input-22-662406c69f43>\u001b[0m in \u001b[0;36m<module>\u001b[0;34m()\u001b[0m\n\u001b[0;32m----> 1\u001b[0;31m \u001b[0msides\u001b[0m\u001b[0;34m[\u001b[0m\u001b[0;36m2\u001b[0m\u001b[0;34m]\u001b[0m\u001b[0;34m=\u001b[0m\u001b[0;34m'Sambar'\u001b[0m\u001b[0;34m\u001b[0m\u001b[0;34m\u001b[0m\u001b[0m\n\u001b[0m\u001b[1;32m      2\u001b[0m \u001b[0mprint\u001b[0m\u001b[0;34m(\u001b[0m\u001b[0msides\u001b[0m\u001b[0;34m)\u001b[0m\u001b[0;34m\u001b[0m\u001b[0;34m\u001b[0m\u001b[0m\n",
      "\u001b[0;31mTypeError\u001b[0m: 'tuple' object does not support item assignment"
     ]
    }
   ],
   "source": [
    "sides[2]='Sambar'\n",
    "print(sides)"
   ]
  },
  {
   "cell_type": "code",
   "execution_count": null,
   "metadata": {
    "colab": {
     "base_uri": "https://localhost:8080/",
     "height": 183
    },
    "id": "xa9k8dWV5-3m",
    "outputId": "3c9faf90-7a56-4895-dc35-ae64bbab4779"
   },
   "outputs": [
    {
     "ename": "AttributeError",
     "evalue": "ignored",
     "output_type": "error",
     "traceback": [
      "\u001b[0;31m---------------------------------------------------------------------------\u001b[0m",
      "\u001b[0;31mAttributeError\u001b[0m                            Traceback (most recent call last)",
      "\u001b[0;32m<ipython-input-24-c775014e7c01>\u001b[0m in \u001b[0;36m<module>\u001b[0;34m()\u001b[0m\n\u001b[1;32m      1\u001b[0m \u001b[0mnum\u001b[0m\u001b[0;34m=\u001b[0m\u001b[0;34m(\u001b[0m\u001b[0;36m1\u001b[0m\u001b[0;34m,\u001b[0m\u001b[0;36m3\u001b[0m\u001b[0;34m,\u001b[0m\u001b[0;36m4\u001b[0m\u001b[0;34m,\u001b[0m\u001b[0;36m2\u001b[0m\u001b[0;34m)\u001b[0m\u001b[0;34m\u001b[0m\u001b[0;34m\u001b[0m\u001b[0m\n\u001b[0;32m----> 2\u001b[0;31m \u001b[0mnum\u001b[0m\u001b[0;34m.\u001b[0m\u001b[0mappend\u001b[0m\u001b[0;34m(\u001b[0m\u001b[0;36m7\u001b[0m\u001b[0;34m)\u001b[0m\u001b[0;34m\u001b[0m\u001b[0;34m\u001b[0m\u001b[0m\n\u001b[0m",
      "\u001b[0;31mAttributeError\u001b[0m: 'tuple' object has no attribute 'append'"
     ]
    }
   ],
   "source": [
    "num=(1,3,4,2)\n",
    "num.append(7)"
   ]
  },
  {
   "cell_type": "code",
   "execution_count": null,
   "metadata": {
    "colab": {
     "base_uri": "https://localhost:8080/"
    },
    "id": "3vD72zNPD1Jv",
    "outputId": "a73728f4-2b82-4b0d-bb0d-dba895666493"
   },
   "outputs": [
    {
     "name": "stdout",
     "output_type": "stream",
     "text": [
      "('Chatni', 'Dry Chatni', 'Sagu', 'Kadai Paneer', 'Kaaju Paneer Masala', 'Kaju Masala')\n",
      "('Chatni', 'Dry Chatni', 'Sambar', 'Kadai Paneer', 'Kaaju Paneer Masala', 'Kaju Masala')\n"
     ]
    }
   ],
   "source": [
    "print(sides)\n",
    "sides=list(sides)\n",
    "sides[2]='Sambar'\n",
    "sides=tuple(sides)\n",
    "print(sides)"
   ]
  },
  {
   "cell_type": "code",
   "execution_count": 1,
   "metadata": {},
   "outputs": [],
   "source": [
    "a={'a':[1,2,3],'b':[4,5,6]}"
   ]
  },
  {
   "cell_type": "code",
   "execution_count": 2,
   "metadata": {},
   "outputs": [
    {
     "name": "stdout",
     "output_type": "stream",
     "text": [
      "a\n",
      "b\n"
     ]
    }
   ],
   "source": [
    "for i in a:\n",
    "    print(i)"
   ]
  },
  {
   "cell_type": "code",
   "execution_count": 5,
   "metadata": {},
   "outputs": [
    {
     "name": "stdout",
     "output_type": "stream",
     "text": [
      "1\n",
      "2\n",
      "3\n"
     ]
    }
   ],
   "source": [
    "for i in a['a']:\n",
    "    print(i)"
   ]
  },
  {
   "cell_type": "code",
   "execution_count": null,
   "metadata": {},
   "outputs": [],
   "source": []
  }
 ],
 "metadata": {
  "colab": {
   "provenance": []
  },
  "kernelspec": {
   "display_name": "Python 3 (ipykernel)",
   "language": "python",
   "name": "python3"
  },
  "language_info": {
   "codemirror_mode": {
    "name": "ipython",
    "version": 3
   },
   "file_extension": ".py",
   "mimetype": "text/x-python",
   "name": "python",
   "nbconvert_exporter": "python",
   "pygments_lexer": "ipython3",
   "version": "3.11.4"
  }
 },
 "nbformat": 4,
 "nbformat_minor": 4
}

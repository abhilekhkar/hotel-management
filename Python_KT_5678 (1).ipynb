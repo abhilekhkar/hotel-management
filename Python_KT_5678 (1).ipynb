{
 "cells": [
  {
   "cell_type": "markdown",
   "metadata": {
    "id": "DYu04yo5ocMd"
   },
   "source": [
    "#Python Tutorial  \n",
    "##Day 5"
   ]
  },
  {
   "cell_type": "markdown",
   "metadata": {
    "id": "RBJC6kW5odtg"
   },
   "source": [
    "#Sets\n",
    "### Decalred as {  }"
   ]
  },
  {
   "cell_type": "code",
   "execution_count": null,
   "metadata": {
    "id": "pl3s-8fSmZWO"
   },
   "outputs": [],
   "source": [
    "a={1,2,3,4,5}\n",
    "b={2,4,6}\n",
    "c={1,3,5,7,9}"
   ]
  },
  {
   "cell_type": "code",
   "execution_count": null,
   "metadata": {
    "id": "qB2h9MyZpBIn"
   },
   "outputs": [],
   "source": [
    "d={'a',\"b\",'c','d',\"e\"}\n",
    "e={'a','e','i','o','u'}"
   ]
  },
  {
   "cell_type": "code",
   "execution_count": null,
   "metadata": {
    "id": "l86IhYRXpg6n"
   },
   "outputs": [],
   "source": [
    "f={'a',1,'b',2,'c','d',3}"
   ]
  },
  {
   "cell_type": "code",
   "execution_count": null,
   "metadata": {
    "colab": {
     "base_uri": "https://localhost:8080/"
    },
    "id": "zQMkttVrpvHP",
    "outputId": "223e6459-3b66-46be-8411-b8559932507b"
   },
   "outputs": [
    {
     "name": "stdout",
     "output_type": "stream",
     "text": [
      "<class 'set'> <class 'set'> <class 'set'> <class 'set'> <class 'set'> <class 'set'>\n"
     ]
    }
   ],
   "source": [
    "\n",
    "print(type(a),type(b),type(c),type(d),type(e),type(f))"
   ]
  },
  {
   "cell_type": "markdown",
   "metadata": {
    "id": "N-iBJSFpqSDB"
   },
   "source": [
    "#Accessing the Set Items"
   ]
  },
  {
   "cell_type": "code",
   "execution_count": null,
   "metadata": {
    "colab": {
     "base_uri": "https://localhost:8080/"
    },
    "id": "ztKkhR7rp2Ow",
    "outputId": "289df2d8-0b7a-463d-a7e8-ee966929a8ec"
   },
   "outputs": [
    {
     "name": "stdout",
     "output_type": "stream",
     "text": [
      "2\n",
      "4\n",
      "6\n"
     ]
    }
   ],
   "source": [
    "for i in b:\n",
    "  print(i)"
   ]
  },
  {
   "cell_type": "code",
   "execution_count": null,
   "metadata": {
    "colab": {
     "base_uri": "https://localhost:8080/",
     "height": 217
    },
    "id": "loCuTuS7q49I",
    "outputId": "77633319-dab4-4ea8-9d89-b1de6f68976f"
   },
   "outputs": [
    {
     "ename": "TypeError",
     "evalue": "ignored",
     "output_type": "error",
     "traceback": [
      "\u001b[0;31m---------------------------------------------------------------------------\u001b[0m",
      "\u001b[0;31mTypeError\u001b[0m                                 Traceback (most recent call last)",
      "\u001b[0;32m<ipython-input-3-5f14adbc9fed>\u001b[0m in \u001b[0;36m<module>\u001b[0;34m()\u001b[0m\n\u001b[1;32m      1\u001b[0m \u001b[0mi\u001b[0m\u001b[0;34m=\u001b[0m\u001b[0;36m0\u001b[0m\u001b[0;34m\u001b[0m\u001b[0;34m\u001b[0m\u001b[0m\n\u001b[1;32m      2\u001b[0m \u001b[0;32mwhile\u001b[0m \u001b[0mi\u001b[0m\u001b[0;34m<\u001b[0m\u001b[0mlen\u001b[0m\u001b[0;34m(\u001b[0m\u001b[0ma\u001b[0m\u001b[0;34m)\u001b[0m\u001b[0;34m:\u001b[0m\u001b[0;34m\u001b[0m\u001b[0;34m\u001b[0m\u001b[0m\n\u001b[0;32m----> 3\u001b[0;31m   \u001b[0mprint\u001b[0m\u001b[0;34m(\u001b[0m\u001b[0ma\u001b[0m\u001b[0;34m[\u001b[0m\u001b[0mi\u001b[0m\u001b[0;34m]\u001b[0m\u001b[0;34m)\u001b[0m\u001b[0;34m\u001b[0m\u001b[0;34m\u001b[0m\u001b[0m\n\u001b[0m\u001b[1;32m      4\u001b[0m   \u001b[0mi\u001b[0m\u001b[0;34m=\u001b[0m\u001b[0mi\u001b[0m\u001b[0;34m+\u001b[0m\u001b[0;36m1\u001b[0m\u001b[0;34m\u001b[0m\u001b[0;34m\u001b[0m\u001b[0m\n",
      "\u001b[0;31mTypeError\u001b[0m: 'set' object is not subscriptable"
     ]
    }
   ],
   "source": [
    "i=0\n",
    "while i<len(a):\n",
    "  print(a[i])\n",
    "  i=i+1"
   ]
  },
  {
   "cell_type": "markdown",
   "metadata": {
    "id": "-d8DUZ-oriXf"
   },
   "source": [
    "#Adding Item to Set"
   ]
  },
  {
   "cell_type": "code",
   "execution_count": null,
   "metadata": {
    "colab": {
     "base_uri": "https://localhost:8080/"
    },
    "id": "zOCrrryjrhoy",
    "outputId": "0a0ae3b1-5ff6-4e17-9423-7241c5885d30"
   },
   "outputs": [
    {
     "name": "stdout",
     "output_type": "stream",
     "text": [
      "Before adding \n",
      " a= {1, 2, 3, 4, 5} \n",
      " e= {'e', 'u', 'o', 'i', 'a'} \n",
      "\n",
      "After adding \n",
      " a= {1, 2, 3, 4, 5, 10} \n",
      " e= {'e', 'u', 'm', 'o', 'i', 'a'} \n",
      "\n"
     ]
    }
   ],
   "source": [
    "print(\"Before adding \\n a=\",a,\"\\n e=\",e,\"\\n\")\n",
    "a.add(10)\n",
    "e.add(\"m\")\n",
    "print(\"After adding \\n a=\",a,\"\\n e=\",e,\"\\n\")"
   ]
  },
  {
   "cell_type": "code",
   "execution_count": null,
   "metadata": {
    "colab": {
     "base_uri": "https://localhost:8080/"
    },
    "id": "j5kbMtsJsJCh",
    "outputId": "72d15708-9580-46be-d564-d344198ea844"
   },
   "outputs": [
    {
     "name": "stdout",
     "output_type": "stream",
     "text": [
      "Before us= {'i', 'a', 'p'}\n",
      "After us= {1, 2, 3, 'b', 'p', 'd', 'i', 'a', 'c'}\n"
     ]
    }
   ],
   "source": [
    "us={\"a\",'p','i'}\n",
    "print(\"Before us=\",us)\n",
    "us.update(f)\n",
    "print(\"After us=\",us)"
   ]
  },
  {
   "cell_type": "code",
   "execution_count": null,
   "metadata": {
    "colab": {
     "base_uri": "https://localhost:8080/"
    },
    "id": "nbSlkl34tGcy",
    "outputId": "d9d15c6c-f59f-4190-fbc6-1fca84852651"
   },
   "outputs": [
    {
     "name": "stdout",
     "output_type": "stream",
     "text": [
      "Before a_set= {1, 2, 3, 4, 5, 6, 7, 8}\n",
      "After a_set= {1, 2, 3, 4, 5, 6, 7, 8, 40, 12, '34', 'a'}\n"
     ]
    }
   ],
   "source": [
    "a_set={1,2,3,4,5,6,7,8}\n",
    "\n",
    "a_list=['a',12,'34',40]\n",
    "\n",
    "print(\"Before a_set=\",a_set)\n",
    "a_set.update(a_list)\n",
    "print(\"After a_set=\",a_set)"
   ]
  },
  {
   "cell_type": "markdown",
   "metadata": {
    "id": "UxbZsCueuAJS"
   },
   "source": [
    "#Remove Set Items"
   ]
  },
  {
   "cell_type": "code",
   "execution_count": null,
   "metadata": {
    "colab": {
     "base_uri": "https://localhost:8080/"
    },
    "id": "vCRVtJ8ruCWQ",
    "outputId": "dfed534d-807c-43d3-c938-1cea41a08cf0"
   },
   "outputs": [
    {
     "name": "stdout",
     "output_type": "stream",
     "text": [
      "Before a= {1, 2, 3, 4, 5, 10}\n",
      "After a= {1, 3, 4, 5, 10}\n"
     ]
    }
   ],
   "source": [
    "print(\"Before a=\",a)\n",
    "a.remove(2)\n",
    "print(\"After a=\",a)"
   ]
  },
  {
   "cell_type": "code",
   "execution_count": null,
   "metadata": {
    "colab": {
     "base_uri": "https://localhost:8080/"
    },
    "id": "SPzTi8NiukkR",
    "outputId": "6b61ba7c-d422-4cb6-db96-e2e620e254d9"
   },
   "outputs": [
    {
     "name": "stdout",
     "output_type": "stream",
     "text": [
      "Before a= {1, 3, 4, 5, 10}\n",
      "After a= {1, 3, 4, 10}\n"
     ]
    }
   ],
   "source": [
    "print(\"Before a=\",a)\n",
    "a.discard(5)\n",
    "print(\"After a=\",a)"
   ]
  },
  {
   "cell_type": "code",
   "execution_count": null,
   "metadata": {
    "colab": {
     "base_uri": "https://localhost:8080/"
    },
    "id": "3Fq1sXaGur1H",
    "outputId": "056832aa-9eda-471a-d532-4d8feb65de81"
   },
   "outputs": [
    {
     "name": "stdout",
     "output_type": "stream",
     "text": [
      "Before a= {1, 3, 4, 10}\n",
      "After a= {3, 4, 10}\n"
     ]
    }
   ],
   "source": [
    "print(\"Before a=\",a)\n",
    "a.pop()\n",
    "print(\"After a=\",a)"
   ]
  },
  {
   "cell_type": "code",
   "execution_count": null,
   "metadata": {
    "colab": {
     "base_uri": "https://localhost:8080/"
    },
    "id": "pF8Jeihmu55Z",
    "outputId": "5fbb9e9a-7246-40e5-aeb3-90a762d42643"
   },
   "outputs": [
    {
     "name": "stdout",
     "output_type": "stream",
     "text": [
      "Before a= {3, 4, 10}\n",
      "After a= set()\n"
     ]
    }
   ],
   "source": [
    "print(\"Before a=\",a)\n",
    "a.clear()\n",
    "print(\"After a=\",a)"
   ]
  },
  {
   "cell_type": "markdown",
   "metadata": {
    "id": "2mw17t3hvOXi"
   },
   "source": [
    "#Set Operations\n",
    "\n",
    "1. Intersection\n",
    "2. Union\n",
    "3. Difference\n"
   ]
  },
  {
   "cell_type": "markdown",
   "metadata": {
    "id": "u6TyNI33vxVo"
   },
   "source": [
    "###Intersection"
   ]
  },
  {
   "cell_type": "code",
   "execution_count": null,
   "metadata": {
    "id": "gZPactICu-fQ"
   },
   "outputs": [],
   "source": [
    "a={1,2,3,4,5}\n",
    "b={2,4,6}\n",
    "c={1,3,5,7,9}\n",
    "d={'a',\"b\",'c','d',\"e\"}\n",
    "e={'a','e','i','o','u'}\n",
    "f={'a',1,'b',2,'c','d',3}"
   ]
  },
  {
   "cell_type": "code",
   "execution_count": null,
   "metadata": {
    "colab": {
     "base_uri": "https://localhost:8080/"
    },
    "id": "yFZcVknhwAoR",
    "outputId": "1b29f863-3e20-4851-855c-0db6d1d16de2"
   },
   "outputs": [
    {
     "name": "stdout",
     "output_type": "stream",
     "text": [
      "'a' Intersection 'b'= {2, 4}\n"
     ]
    }
   ],
   "source": [
    "a_int_b=a.intersection(b)\n",
    "print(\"'a' Intersection 'b'=\",a_int_b)"
   ]
  },
  {
   "cell_type": "code",
   "execution_count": null,
   "metadata": {
    "colab": {
     "base_uri": "https://localhost:8080/"
    },
    "id": "mLkkzEuRwTkB",
    "outputId": "3596e872-69e1-4688-f708-b99084550c70"
   },
   "outputs": [
    {
     "name": "stdout",
     "output_type": "stream",
     "text": [
      "Before 'a'= {1, 2, 3, 4, 5}\n",
      "After 'a'= {2, 4}\n",
      "'a' Intersection 'b' = {2, 4}\n"
     ]
    }
   ],
   "source": [
    "print(\"Before 'a'=\",a)\n",
    "a.intersection_update(b)\n",
    "print(\"After 'a'=\",a)\n",
    "print(\"'a' Intersection 'b' =\",a)"
   ]
  },
  {
   "cell_type": "code",
   "execution_count": null,
   "metadata": {
    "colab": {
     "base_uri": "https://localhost:8080/"
    },
    "id": "mzGguAFoxAfx",
    "outputId": "40d5bd8f-e404-4c8f-a978-c34442899fea"
   },
   "outputs": [
    {
     "name": "stdout",
     "output_type": "stream",
     "text": [
      "'d' Intersection 'f'= {'a', 'd', 'c', 'b'}\n"
     ]
    }
   ],
   "source": [
    "d_int_f=d.intersection(f)\n",
    "print(\"'d' Intersection 'f'=\",d_int_f)"
   ]
  },
  {
   "cell_type": "code",
   "execution_count": null,
   "metadata": {
    "colab": {
     "base_uri": "https://localhost:8080/"
    },
    "id": "j5U2EWaCzOT4",
    "outputId": "5b9e1e90-4915-4272-df6b-4e4b102bbfb5"
   },
   "outputs": [
    {
     "name": "stdout",
     "output_type": "stream",
     "text": [
      "'d' Intersection 'e'= {'a', 'e'}\n"
     ]
    }
   ],
   "source": [
    "d_int_e=d.intersection(e)\n",
    "print(\"'d' Intersection 'e'=\",d_int_e)"
   ]
  },
  {
   "cell_type": "code",
   "execution_count": null,
   "metadata": {
    "colab": {
     "base_uri": "https://localhost:8080/"
    },
    "id": "PL-n4AEMzVZg",
    "outputId": "8ad39d53-ba30-4a7d-f7ea-a6e641b2d4aa"
   },
   "outputs": [
    {
     "name": "stdout",
     "output_type": "stream",
     "text": [
      "'c' Intersection 'f'= {1, 3}\n"
     ]
    }
   ],
   "source": [
    "c_int_f=c.intersection(f)\n",
    "print(\"'c' Intersection 'f'=\",c_int_f)"
   ]
  },
  {
   "cell_type": "markdown",
   "metadata": {
    "id": "1FlGuGuLzlEn"
   },
   "source": [
    "###Union"
   ]
  },
  {
   "cell_type": "code",
   "execution_count": null,
   "metadata": {
    "colab": {
     "base_uri": "https://localhost:8080/"
    },
    "id": "qd1QgKxe0QEI",
    "outputId": "1b89dbfe-d6de-40b8-c35c-97b96281cffe"
   },
   "outputs": [
    {
     "name": "stdout",
     "output_type": "stream",
     "text": [
      "a= {2, 4} \n",
      "b= {2, 4, 6}\n"
     ]
    }
   ],
   "source": [
    "print(\"a=\",a,'\\nb=',b)"
   ]
  },
  {
   "cell_type": "code",
   "execution_count": null,
   "metadata": {
    "colab": {
     "base_uri": "https://localhost:8080/"
    },
    "id": "cDfVHeCnnJ52",
    "outputId": "fc0fd38d-f1bf-4e3b-812d-7594acc6ca86"
   },
   "outputs": [
    {
     "name": "stdout",
     "output_type": "stream",
     "text": [
      "'a' Union 'k'= {1, 2, 3, 4, 5, 6, 'r', 'a', 'c'}\n"
     ]
    }
   ],
   "source": [
    "a={1,2,3,4,5,6}\n",
    "k={'a','c',2,\"r\"}\n",
    "\n",
    "a_un_k=a.union(k)\n",
    "print(\"'a' Union 'k'=\",a_un_k)"
   ]
  },
  {
   "cell_type": "code",
   "execution_count": null,
   "metadata": {
    "colab": {
     "base_uri": "https://localhost:8080/"
    },
    "id": "gFFZNaqzzpfz",
    "outputId": "20b49def-2507-4d0e-efdc-e8820ae64555"
   },
   "outputs": [
    {
     "name": "stdout",
     "output_type": "stream",
     "text": [
      "'a' Union 'b'= {2, 4, 6}\n"
     ]
    }
   ],
   "source": [
    "a_un_b=a.union(b)\n",
    "print(\"'a' Union 'b'=\",a_un_b)"
   ]
  },
  {
   "cell_type": "markdown",
   "metadata": {
    "id": "1d3HsQf_0nO3"
   },
   "source": [
    "###Difference"
   ]
  },
  {
   "cell_type": "code",
   "execution_count": null,
   "metadata": {
    "colab": {
     "base_uri": "https://localhost:8080/"
    },
    "id": "ZmUuJWfJ0x_j",
    "outputId": "987c0f6b-bfbf-4de3-a836-a3a7cea14986"
   },
   "outputs": [
    {
     "name": "stdout",
     "output_type": "stream",
     "text": [
      "a= {2, 4} \n",
      "b= {2, 4, 6}\n"
     ]
    }
   ],
   "source": [
    "print(\"a=\",a,'\\nb=',b)"
   ]
  },
  {
   "cell_type": "code",
   "execution_count": null,
   "metadata": {
    "colab": {
     "base_uri": "https://localhost:8080/"
    },
    "id": "GI5Fotr9z41w",
    "outputId": "07bb80d3-a283-446f-d789-78d10b59bf68"
   },
   "outputs": [
    {
     "name": "stdout",
     "output_type": "stream",
     "text": [
      "'a' Difference 'b'= set()\n"
     ]
    }
   ],
   "source": [
    "a_diff_b=a.difference(b)\n",
    "print(\"'a' Difference 'b'=\",a_diff_b)"
   ]
  },
  {
   "cell_type": "code",
   "execution_count": null,
   "metadata": {
    "colab": {
     "base_uri": "https://localhost:8080/"
    },
    "id": "TH897NyOo9A2",
    "outputId": "70672069-08fc-49e1-d2ac-ebfb787faaab"
   },
   "outputs": [
    {
     "name": "stdout",
     "output_type": "stream",
     "text": [
      "{2, 4, 6} {1, 2, 3, 4, 5, 6}\n"
     ]
    }
   ],
   "source": [
    "print(b,a)"
   ]
  },
  {
   "cell_type": "code",
   "execution_count": null,
   "metadata": {
    "colab": {
     "base_uri": "https://localhost:8080/"
    },
    "id": "JiuPdK8q1BgP",
    "outputId": "3bd75fc4-5b32-470a-bfab-f88fb91156d3"
   },
   "outputs": [
    {
     "name": "stdout",
     "output_type": "stream",
     "text": [
      "'b' Difference 'a'= {6}\n"
     ]
    }
   ],
   "source": [
    "b_diff_a=b.difference(a)\n",
    "print(\"'b' Difference 'a'=\",b_diff_a)"
   ]
  },
  {
   "cell_type": "code",
   "execution_count": null,
   "metadata": {
    "colab": {
     "base_uri": "https://localhost:8080/"
    },
    "id": "ai1THYzDpHlD",
    "outputId": "71b0a681-8f49-49ab-ccc2-40e71b6475ab"
   },
   "outputs": [
    {
     "name": "stdout",
     "output_type": "stream",
     "text": [
      "{2, 4, 6} {1, 2, 3, 'b', 'd', 'a', 'c'}\n"
     ]
    }
   ],
   "source": [
    "print(b,f)"
   ]
  },
  {
   "cell_type": "code",
   "execution_count": null,
   "metadata": {
    "colab": {
     "base_uri": "https://localhost:8080/"
    },
    "id": "kSv7jhOZpPUr",
    "outputId": "6b511bae-f4d6-4893-d28c-a3cd08ed209f"
   },
   "outputs": [
    {
     "name": "stdout",
     "output_type": "stream",
     "text": [
      "{4, 6}\n"
     ]
    }
   ],
   "source": [
    "b_diff_f=b.difference(f)\n",
    "print(b_diff_f)"
   ]
  },
  {
   "cell_type": "code",
   "execution_count": null,
   "metadata": {
    "colab": {
     "base_uri": "https://localhost:8080/"
    },
    "id": "LR1-RIs-2NSr",
    "outputId": "2b98bb86-c647-4e55-b7b8-e1e785df919a"
   },
   "outputs": [
    {
     "name": "stdout",
     "output_type": "stream",
     "text": [
      "'b' Difference 'f'= {1, 3, 4, 6, 'd', 'a', 'c', 'b'}\n"
     ]
    }
   ],
   "source": [
    "b_diff_f=b.symmetric_difference(f)\n",
    "print(\"'b' Difference 'f'=\",b_diff_f)"
   ]
  },
  {
   "cell_type": "markdown",
   "metadata": {
    "id": "OPFXjpRZ1Xkk"
   },
   "source": [
    "###Subset"
   ]
  },
  {
   "cell_type": "code",
   "execution_count": null,
   "metadata": {
    "colab": {
     "base_uri": "https://localhost:8080/"
    },
    "id": "J80P4cCm1c_g",
    "outputId": "ae9926f0-d6f3-4cd4-c6c4-3f847eb93173"
   },
   "outputs": [
    {
     "name": "stdout",
     "output_type": "stream",
     "text": [
      "True\n"
     ]
    }
   ],
   "source": [
    "a={1,2,3,4}\n",
    "b={1,2,3,4,5,6,7}\n",
    "c=a.issubset(b)\n",
    "print(c)"
   ]
  },
  {
   "cell_type": "code",
   "execution_count": null,
   "metadata": {
    "colab": {
     "base_uri": "https://localhost:8080/"
    },
    "id": "Dmx8dm4h1vtE",
    "outputId": "dc191ecf-dd79-4364-85ed-e05900846214"
   },
   "outputs": [
    {
     "name": "stdout",
     "output_type": "stream",
     "text": [
      "False\n"
     ]
    }
   ],
   "source": [
    "a={1,2,3,4}\n",
    "b={3,4,5,6,7}\n",
    "c=a.issubset(b)\n",
    "print(c)"
   ]
  },
  {
   "cell_type": "markdown",
   "metadata": {
    "id": "qx1H_AOpU59P"
   },
   "source": [
    "# Python Tutorial\n",
    "##Day 6"
   ]
  },
  {
   "cell_type": "markdown",
   "metadata": {
    "id": "nTyTHZZIi2Z8"
   },
   "source": [
    "#Dictionaries\n",
    "\n",
    "Declared as { }"
   ]
  },
  {
   "cell_type": "code",
   "execution_count": null,
   "metadata": {
    "id": "evJmmY2ki7Ki"
   },
   "outputs": [],
   "source": [
    "a={\"a\":1,\"b\":2,\"c\":3,'d':4,'e':5}\n",
    "b={\"Fruit\":\"Orange\",\"Color\":\"Orange\",\"Taste\":\"Sour Sweet\"}\n",
    "c={\"Furniture\":\"Chair\",'Price':\"500 rs\",\"Total Orders\":25}"
   ]
  },
  {
   "cell_type": "code",
   "execution_count": null,
   "metadata": {
    "colab": {
     "base_uri": "https://localhost:8080/"
    },
    "id": "2jykMCr9jANS",
    "outputId": "3b709bac-c668-4552-db6d-b350ad2b4d32"
   },
   "outputs": [
    {
     "name": "stdout",
     "output_type": "stream",
     "text": [
      "{'a': 1, 'b': 2, 'c': 3, 'd': 4, 'e': 5}\n",
      "{'Fruit': 'Orange', 'Color': 'Orange', 'Taste': 'Sour Sweet'}\n"
     ]
    }
   ],
   "source": [
    "print(a)\n",
    "print(b)"
   ]
  },
  {
   "cell_type": "code",
   "execution_count": null,
   "metadata": {
    "colab": {
     "base_uri": "https://localhost:8080/"
    },
    "id": "7bknsmwAjGAd",
    "outputId": "05492e52-fb68-4e80-e431-0e04fb2e3e57"
   },
   "outputs": [
    {
     "name": "stdout",
     "output_type": "stream",
     "text": [
      "dict_keys(['a', 'b', 'c', 'd', 'e'])\n",
      "dict_keys(['Fruit', 'Color', 'Taste'])\n"
     ]
    }
   ],
   "source": [
    "print(a.keys())\n",
    "print(b.keys())"
   ]
  },
  {
   "cell_type": "code",
   "execution_count": null,
   "metadata": {
    "colab": {
     "base_uri": "https://localhost:8080/"
    },
    "id": "74o6jDk4jMBL",
    "outputId": "e033f90c-d97e-46f9-abc5-c759ea93c7ae"
   },
   "outputs": [
    {
     "name": "stdout",
     "output_type": "stream",
     "text": [
      "dict_values([1, 2, 3, 4, 5])\n",
      "dict_values(['Orange', 'Orange', 'Sour Sweet'])\n"
     ]
    }
   ],
   "source": [
    "print(a.values())\n",
    "print(b.values())"
   ]
  },
  {
   "cell_type": "markdown",
   "metadata": {
    "id": "V3-TySYTjQc3"
   },
   "source": [
    "#Accessing the Dictionaries"
   ]
  },
  {
   "cell_type": "code",
   "execution_count": null,
   "metadata": {
    "colab": {
     "base_uri": "https://localhost:8080/"
    },
    "id": "BAwWeGcvjPCq",
    "outputId": "d34220cc-891c-4117-ae99-6fd3c078862f"
   },
   "outputs": [
    {
     "name": "stdout",
     "output_type": "stream",
     "text": [
      "2\n",
      "Orange\n"
     ]
    }
   ],
   "source": [
    "print(a[\"b\"])\n",
    "print(b[\"Fruit\"])"
   ]
  },
  {
   "cell_type": "code",
   "execution_count": null,
   "metadata": {
    "colab": {
     "base_uri": "https://localhost:8080/"
    },
    "id": "HKYM2cgnja77",
    "outputId": "5395ef2f-fd99-43f7-f76d-5957ff934ae7"
   },
   "outputs": [
    {
     "name": "stdout",
     "output_type": "stream",
     "text": [
      "2\n",
      "Orange\n"
     ]
    }
   ],
   "source": [
    "print(a.get(\"b\"))\n",
    "print(b.get(\"Fruit\"))"
   ]
  },
  {
   "cell_type": "markdown",
   "metadata": {
    "id": "U5pMl6lhjifD"
   },
   "source": [
    "#Change Items in Dictionaries"
   ]
  },
  {
   "cell_type": "code",
   "execution_count": null,
   "metadata": {
    "colab": {
     "base_uri": "https://localhost:8080/"
    },
    "id": "V3-2EvY1jjcK",
    "outputId": "5f9b8cc8-be37-4b29-9a9a-99b1a614ecc1"
   },
   "outputs": [
    {
     "name": "stdout",
     "output_type": "stream",
     "text": [
      "{'a': 1, 'b': 2, 'c': 3, 'd': 4, 'e': 5}\n",
      "{'Fruit': 'Orange', 'Color': 'Orange', 'Taste': 'Sour Sweet'}\n",
      "{'a': 1, 'b': 10, 'c': 3, 'd': 4, 'e': 5}\n",
      "{'Fruit': 'Sweet Lime', 'Color': 'Orange', 'Taste': 'Sour Sweet'}\n"
     ]
    }
   ],
   "source": [
    "print(a)\n",
    "print(b)\n",
    "a['b']=10\n",
    "print(a)\n",
    "b['Fruit']=\"Sweet Lime\"\n",
    "print(b)"
   ]
  },
  {
   "cell_type": "code",
   "execution_count": null,
   "metadata": {
    "colab": {
     "base_uri": "https://localhost:8080/"
    },
    "id": "INxeFU52j4GK",
    "outputId": "24ed2e5d-dd63-42d2-f969-cdb54c3495ef"
   },
   "outputs": [
    {
     "name": "stdout",
     "output_type": "stream",
     "text": [
      "{'Fruit': 'Sweet Lime', 'Color': 'Orange', 'Taste': 'Sour Sweet'}\n",
      "{'a': 1, 'b': 10, 'c': 3, 'd': 4, 'e': 5}\n",
      "{'Fruit': 'Orange', 'Color': 'Orange', 'Taste': 'Sour Sweet'}\n",
      "{'a': 1, 'b': 2, 'c': 3, 'd': 4, 'e': 5}\n"
     ]
    }
   ],
   "source": [
    "print(b)\n",
    "print(a)\n",
    "b.update({\"Fruit\":\"Orange\"})\n",
    "print(b)\n",
    "a.update({\"b\":2})\n",
    "print(a)"
   ]
  },
  {
   "cell_type": "markdown",
   "metadata": {
    "id": "Lk4CMqENkQ3l"
   },
   "source": [
    "#Add New Items to Dictionaries"
   ]
  },
  {
   "cell_type": "code",
   "execution_count": null,
   "metadata": {
    "colab": {
     "base_uri": "https://localhost:8080/"
    },
    "id": "bdVxft5KkSF3",
    "outputId": "0624eae5-7715-43a5-cdbc-213d54fe2ea2"
   },
   "outputs": [
    {
     "name": "stdout",
     "output_type": "stream",
     "text": [
      "Before a= {'a': 1, 'b': 2, 'c': 3, 'd': 4, 'e': 5}\n",
      "After a= {'a': 1, 'b': 2, 'c': 3, 'd': 4, 'e': 5, 'new': 1}\n"
     ]
    }
   ],
   "source": [
    "print(\"Before a=\",a)\n",
    "a[\"new\"]=1\n",
    "print(\"After a=\",a)"
   ]
  },
  {
   "cell_type": "code",
   "execution_count": null,
   "metadata": {
    "colab": {
     "base_uri": "https://localhost:8080/"
    },
    "id": "HdNI4HQMkaX6",
    "outputId": "f03a6f8c-08b6-48e5-b2a1-c63ffd66b7dc"
   },
   "outputs": [
    {
     "name": "stdout",
     "output_type": "stream",
     "text": [
      "Before c= {'Furniture': 'Chair', 'Price': '500 rs', 'Total Orders': 25}\n",
      "After c= {'Furniture': 'Chair', 'Price': '500 rs', 'Total Orders': 25, 'Color': 'Blue'}\n"
     ]
    }
   ],
   "source": [
    "print(\"Before c=\",c)\n",
    "c[\"Color\"]=\"Blue\"\n",
    "print(\"After c=\",c)"
   ]
  },
  {
   "cell_type": "code",
   "execution_count": null,
   "metadata": {
    "colab": {
     "base_uri": "https://localhost:8080/"
    },
    "id": "ijQ9ySUeki2i",
    "outputId": "80d9af53-6171-4271-ad4f-6bd941a186cd"
   },
   "outputs": [
    {
     "name": "stdout",
     "output_type": "stream",
     "text": [
      "Before a= {'a': 1, 'b': 2, 'c': 3, 'd': 4, 'e': 5, 'new': 1}\n",
      "After a= {'a': 1, 'b': 2, 'c': 3, 'd': 4, 'e': 5, 'new': 1, 'new_update': 'dict'}\n"
     ]
    }
   ],
   "source": [
    "print(\"Before a=\",a)\n",
    "a.update({'new_update':'dict'})\n",
    "print(\"After a=\",a)"
   ]
  },
  {
   "cell_type": "code",
   "execution_count": null,
   "metadata": {
    "colab": {
     "base_uri": "https://localhost:8080/"
    },
    "id": "Rc2Br3gYkko7",
    "outputId": "cd1f05eb-c812-4bc7-af78-44868781f915"
   },
   "outputs": [
    {
     "name": "stdout",
     "output_type": "stream",
     "text": [
      "Before c= {'Furniture': 'Chair', 'Price': '500 rs', 'Total Orders': 25, 'Color': 'Blue'}\n",
      "After c= {'Furniture': 'Chair', 'Price': '500 rs', 'Total Orders': 25, 'Color': 'Blue', 'Type': 'Computer Chair'}\n"
     ]
    }
   ],
   "source": [
    "print(\"Before c=\",c)\n",
    "c.update({'Type':'Computer Chair'})\n",
    "print(\"After c=\",c)"
   ]
  },
  {
   "cell_type": "markdown",
   "metadata": {
    "id": "RAHUr1YJk-Fz"
   },
   "source": [
    "#Removing the items from the Dictionaries"
   ]
  },
  {
   "cell_type": "code",
   "execution_count": null,
   "metadata": {
    "colab": {
     "base_uri": "https://localhost:8080/"
    },
    "id": "Sem7BMtxk-2a",
    "outputId": "46e0a367-7d62-4425-a021-31881b286551"
   },
   "outputs": [
    {
     "name": "stdout",
     "output_type": "stream",
     "text": [
      "Before c= {'Furniture': 'Chair', 'Price': '500 rs', 'Total Orders': 25, 'Color': 'Blue', 'Type': 'Computer Chair'}\n",
      "After c= {'Furniture': 'Chair', 'Price': '500 rs', 'Total Orders': 25, 'Color': 'Blue'}\n"
     ]
    }
   ],
   "source": [
    "print(\"Before c=\",c)\n",
    "c.pop(\"Type\")\n",
    "print(\"After c=\",c)"
   ]
  },
  {
   "cell_type": "code",
   "execution_count": null,
   "metadata": {
    "colab": {
     "base_uri": "https://localhost:8080/"
    },
    "id": "_He0w8i3lC7L",
    "outputId": "2083200b-2ec4-48b0-f860-5048a50d6b88"
   },
   "outputs": [
    {
     "name": "stdout",
     "output_type": "stream",
     "text": [
      "Before c= {'a': 1, 'b': 2, 'c': 3, 'd': 4, 'e': 5, 'new': 1, 'new_update': 'dict'}\n",
      "After c= {'a': 1, 'b': 2, 'c': 3, 'd': 4, 'e': 5, 'new': 1}\n"
     ]
    }
   ],
   "source": [
    "print(\"Before c=\",a)\n",
    "a.pop('new_update')\n",
    "print(\"After c=\",a)"
   ]
  },
  {
   "cell_type": "code",
   "execution_count": null,
   "metadata": {
    "colab": {
     "base_uri": "https://localhost:8080/"
    },
    "id": "WjdiGYCBlFyi",
    "outputId": "634b4c55-19f4-4d1b-84bd-520303e2e15e"
   },
   "outputs": [
    {
     "name": "stdout",
     "output_type": "stream",
     "text": [
      "Before c= {'Furniture': 'Chair', 'Price': '500 rs', 'Total Orders': 25, 'Color': 'Blue'}\n",
      "After c= {'Furniture': 'Chair', 'Price': '500 rs', 'Total Orders': 25}\n"
     ]
    }
   ],
   "source": [
    "print(\"Before c=\",c)\n",
    "c.popitem()\n",
    "print(\"After c=\",c)"
   ]
  },
  {
   "cell_type": "code",
   "execution_count": null,
   "metadata": {
    "colab": {
     "base_uri": "https://localhost:8080/"
    },
    "id": "3pGb-sjYlL2D",
    "outputId": "e7621a4c-dca9-4f4a-f54e-2ce22938cbf2"
   },
   "outputs": [
    {
     "name": "stdout",
     "output_type": "stream",
     "text": [
      "Before c= {'Furniture': 'Chair', 'Price': '500 rs', 'Total Orders': 25}\n",
      "After c= {'Furniture': 'Chair', 'Price': '500 rs'}\n"
     ]
    }
   ],
   "source": [
    "print(\"Before c=\",c)\n",
    "del c['Total Orders']\n",
    "print(\"After c=\",c)"
   ]
  },
  {
   "cell_type": "code",
   "execution_count": null,
   "metadata": {
    "colab": {
     "base_uri": "https://localhost:8080/"
    },
    "id": "72ADA--7lO9a",
    "outputId": "bbdf41fd-108c-4b5d-9707-9867d9cb2553"
   },
   "outputs": [
    {
     "name": "stdout",
     "output_type": "stream",
     "text": [
      "Before c= {'Furniture': 'Chair', 'Price': '500 rs'}\n",
      "After c= {}\n"
     ]
    }
   ],
   "source": [
    "print(\"Before c=\",c)\n",
    "c.clear()\n",
    "print(\"After c=\",c)"
   ]
  },
  {
   "cell_type": "code",
   "execution_count": null,
   "metadata": {
    "colab": {
     "base_uri": "https://localhost:8080/",
     "height": 217
    },
    "id": "w6LLnMQ2lSxi",
    "outputId": "da392342-1c0e-44c4-ddb3-e3518eedddff"
   },
   "outputs": [
    {
     "name": "stdout",
     "output_type": "stream",
     "text": [
      "Before c= {}\n"
     ]
    },
    {
     "ename": "NameError",
     "evalue": "ignored",
     "output_type": "error",
     "traceback": [
      "\u001b[0;31m---------------------------------------------------------------------------\u001b[0m",
      "\u001b[0;31mNameError\u001b[0m                                 Traceback (most recent call last)",
      "\u001b[0;32m<ipython-input-23-2afe3e4bfdb1>\u001b[0m in \u001b[0;36m<module>\u001b[0;34m()\u001b[0m\n\u001b[1;32m      1\u001b[0m \u001b[0mprint\u001b[0m\u001b[0;34m(\u001b[0m\u001b[0;34m\"Before c=\"\u001b[0m\u001b[0;34m,\u001b[0m\u001b[0mc\u001b[0m\u001b[0;34m)\u001b[0m\u001b[0;34m\u001b[0m\u001b[0;34m\u001b[0m\u001b[0m\n\u001b[1;32m      2\u001b[0m \u001b[0;32mdel\u001b[0m \u001b[0mc\u001b[0m\u001b[0;34m\u001b[0m\u001b[0;34m\u001b[0m\u001b[0m\n\u001b[0;32m----> 3\u001b[0;31m \u001b[0mprint\u001b[0m\u001b[0;34m(\u001b[0m\u001b[0;34m\"After c=\"\u001b[0m\u001b[0;34m,\u001b[0m\u001b[0mc\u001b[0m\u001b[0;34m)\u001b[0m\u001b[0;34m\u001b[0m\u001b[0;34m\u001b[0m\u001b[0m\n\u001b[0m",
      "\u001b[0;31mNameError\u001b[0m: name 'c' is not defined"
     ]
    }
   ],
   "source": [
    "print(\"Before c=\",c)\n",
    "del c\n",
    "print(\"After c=\",c)"
   ]
  },
  {
   "cell_type": "markdown",
   "metadata": {
    "id": "7sjkSm5nlXKB"
   },
   "source": [
    "#Looping the Dictionaries"
   ]
  },
  {
   "cell_type": "code",
   "execution_count": null,
   "metadata": {
    "colab": {
     "base_uri": "https://localhost:8080/"
    },
    "id": "WpAKIziplZmz",
    "outputId": "6db417ec-da12-4ceb-ae5b-972603d16522"
   },
   "outputs": [
    {
     "name": "stdout",
     "output_type": "stream",
     "text": [
      "a\n",
      "b\n",
      "c\n",
      "d\n",
      "e\n",
      "new\n"
     ]
    }
   ],
   "source": [
    "for i in a:\n",
    "  print(i)"
   ]
  },
  {
   "cell_type": "code",
   "execution_count": null,
   "metadata": {
    "colab": {
     "base_uri": "https://localhost:8080/"
    },
    "id": "kHBL7kctlfXD",
    "outputId": "d55d3254-06e7-4797-f38d-3633a8c620e6"
   },
   "outputs": [
    {
     "name": "stdout",
     "output_type": "stream",
     "text": [
      "a\n",
      "b\n",
      "c\n",
      "d\n",
      "e\n",
      "new\n"
     ]
    }
   ],
   "source": [
    "for i in a.keys():\n",
    "  print(i)"
   ]
  },
  {
   "cell_type": "code",
   "execution_count": null,
   "metadata": {
    "colab": {
     "base_uri": "https://localhost:8080/"
    },
    "id": "olmhvITrllmi",
    "outputId": "ea80aae8-f5a0-4e98-d6d1-9f10b6a35bca"
   },
   "outputs": [
    {
     "name": "stdout",
     "output_type": "stream",
     "text": [
      "1\n",
      "2\n",
      "3\n",
      "4\n",
      "5\n",
      "1\n"
     ]
    }
   ],
   "source": [
    "for i in a.values():\n",
    "  print(i)"
   ]
  },
  {
   "cell_type": "code",
   "execution_count": null,
   "metadata": {
    "colab": {
     "base_uri": "https://localhost:8080/"
    },
    "id": "4r80F6LLltgS",
    "outputId": "5c6e926b-f02f-4503-e315-5becffab4352"
   },
   "outputs": [
    {
     "name": "stdout",
     "output_type": "stream",
     "text": [
      "1\n",
      "2\n",
      "3\n",
      "4\n",
      "5\n",
      "1\n"
     ]
    }
   ],
   "source": [
    "for i in a:\n",
    "  print(a[i])"
   ]
  },
  {
   "cell_type": "code",
   "execution_count": null,
   "metadata": {
    "colab": {
     "base_uri": "https://localhost:8080/"
    },
    "id": "623p4pwBlw47",
    "outputId": "889fc083-3392-4451-be64-f7e41e2e0fee"
   },
   "outputs": [
    {
     "name": "stdout",
     "output_type": "stream",
     "text": [
      "a 1\n",
      "b 2\n",
      "c 3\n",
      "d 4\n",
      "e 5\n",
      "new 1\n"
     ]
    }
   ],
   "source": [
    "for i,j in a.items():\n",
    "  print(i,j)"
   ]
  },
  {
   "cell_type": "markdown",
   "metadata": {
    "id": "FwPktumdl5od"
   },
   "source": [
    "#Copy Dictionaries"
   ]
  },
  {
   "cell_type": "code",
   "execution_count": null,
   "metadata": {
    "colab": {
     "base_uri": "https://localhost:8080/"
    },
    "id": "_PvN6lSMl6iK",
    "outputId": "90489cc1-1701-483b-806e-ffd2c04f2720"
   },
   "outputs": [
    {
     "name": "stdout",
     "output_type": "stream",
     "text": [
      "{'a': 1, 'b': 2, 'c': 3, 'd': 4, 'e': 5, 'new': 1}\n"
     ]
    }
   ],
   "source": [
    "cpy_dict1=a.copy()\n",
    "print(cpy_dict1)"
   ]
  },
  {
   "cell_type": "code",
   "execution_count": null,
   "metadata": {
    "colab": {
     "base_uri": "https://localhost:8080/"
    },
    "id": "FcYFLGXQl_Jz",
    "outputId": "89db8d5d-9537-4b90-fffa-4f83ae572e32"
   },
   "outputs": [
    {
     "name": "stdout",
     "output_type": "stream",
     "text": [
      "{'a': 1, 'b': 2, 'c': 3, 'd': 4, 'e': 5, 'new': 1}\n"
     ]
    }
   ],
   "source": [
    "cpy_dict2=dict(a)\n",
    "print(cpy_dict2)"
   ]
  },
  {
   "cell_type": "markdown",
   "metadata": {
    "id": "ZJonpzj_mB_B"
   },
   "source": [
    "#Nested Dictionaries"
   ]
  },
  {
   "cell_type": "code",
   "execution_count": null,
   "metadata": {
    "id": "njAtslZ1mHiB"
   },
   "outputs": [],
   "source": [
    "a={'name':{'fname':'DXC','lname':'Technologies'},'headquartered':{'Place':'Ashburn','Country':'United States'}}"
   ]
  },
  {
   "cell_type": "code",
   "execution_count": null,
   "metadata": {
    "colab": {
     "base_uri": "https://localhost:8080/"
    },
    "id": "2UsgkyoDmMt0",
    "outputId": "d6a26669-596d-42e9-b189-fbcbeca45cfb"
   },
   "outputs": [
    {
     "name": "stdout",
     "output_type": "stream",
     "text": [
      "{'name': {'fname': 'DXC', 'lname': 'Technologies'}, 'headquartered': {'Place': 'Ashburn', 'Country': 'United States'}}\n"
     ]
    }
   ],
   "source": [
    "print(a)"
   ]
  },
  {
   "cell_type": "code",
   "execution_count": null,
   "metadata": {
    "colab": {
     "base_uri": "https://localhost:8080/"
    },
    "id": "vD1Ww_urmULJ",
    "outputId": "c71145e2-ebe2-4c1f-9cea-cd8c6253be3e"
   },
   "outputs": [
    {
     "name": "stdout",
     "output_type": "stream",
     "text": [
      "{'fname': 'DXC', 'lname': 'Technologies'}\n"
     ]
    }
   ],
   "source": [
    "print(a['name'])"
   ]
  },
  {
   "cell_type": "code",
   "execution_count": null,
   "metadata": {
    "colab": {
     "base_uri": "https://localhost:8080/"
    },
    "id": "c_FNQBf1malp",
    "outputId": "8c1dd499-3854-4ab4-930d-98341d739a27"
   },
   "outputs": [
    {
     "name": "stdout",
     "output_type": "stream",
     "text": [
      "DXC\n"
     ]
    }
   ],
   "source": [
    "print(a['name']['fname'])"
   ]
  },
  {
   "cell_type": "code",
   "execution_count": null,
   "metadata": {
    "colab": {
     "base_uri": "https://localhost:8080/"
    },
    "id": "aMMI6MLImZXa",
    "outputId": "3a3d3aac-55ed-42b8-b054-4044e9941ef9"
   },
   "outputs": [
    {
     "name": "stdout",
     "output_type": "stream",
     "text": [
      "Technologies\n"
     ]
    }
   ],
   "source": [
    "print(a['name']['lname'])"
   ]
  },
  {
   "cell_type": "code",
   "execution_count": null,
   "metadata": {
    "colab": {
     "base_uri": "https://localhost:8080/"
    },
    "id": "mQ3nyCjfmhOL",
    "outputId": "41ec9e5f-6834-4d40-81b1-49215cd15b16"
   },
   "outputs": [
    {
     "name": "stdout",
     "output_type": "stream",
     "text": [
      "DXC Technologies\n"
     ]
    }
   ],
   "source": [
    "print(a['name']['fname'],a['name']['lname'])"
   ]
  },
  {
   "cell_type": "code",
   "execution_count": null,
   "metadata": {
    "colab": {
     "base_uri": "https://localhost:8080/"
    },
    "id": "keyfzgHXmosk",
    "outputId": "9a0832bf-09d5-4cb5-fc30-512cd82ecd5a"
   },
   "outputs": [
    {
     "name": "stdout",
     "output_type": "stream",
     "text": [
      "{'Place': 'Ashburn', 'Country': 'United States'}\n"
     ]
    }
   ],
   "source": [
    "print(a['headquartered'])"
   ]
  },
  {
   "cell_type": "code",
   "execution_count": null,
   "metadata": {
    "colab": {
     "base_uri": "https://localhost:8080/"
    },
    "id": "HDcGDS0hmsEL",
    "outputId": "2982804f-abca-4f3a-9663-a0215b83ec90"
   },
   "outputs": [
    {
     "name": "stdout",
     "output_type": "stream",
     "text": [
      "Ashburn\n"
     ]
    }
   ],
   "source": [
    "print(a['headquartered']['Place'])"
   ]
  },
  {
   "cell_type": "code",
   "execution_count": null,
   "metadata": {
    "colab": {
     "base_uri": "https://localhost:8080/"
    },
    "id": "ryASqZlVmu9a",
    "outputId": "96169664-e1c5-422c-a2ea-f869a6cedadf"
   },
   "outputs": [
    {
     "name": "stdout",
     "output_type": "stream",
     "text": [
      "United States\n"
     ]
    }
   ],
   "source": [
    "print(a['headquartered']['Country'])"
   ]
  },
  {
   "cell_type": "code",
   "execution_count": null,
   "metadata": {
    "colab": {
     "base_uri": "https://localhost:8080/"
    },
    "id": "aTzQEvEkm44T",
    "outputId": "58b45d15-0f0a-4ed5-a7a8-63e5410d095a"
   },
   "outputs": [
    {
     "name": "stdout",
     "output_type": "stream",
     "text": [
      "name\n",
      "headquartered\n"
     ]
    }
   ],
   "source": [
    "for i in a:\n",
    "  print(i)"
   ]
  },
  {
   "cell_type": "code",
   "execution_count": null,
   "metadata": {
    "colab": {
     "base_uri": "https://localhost:8080/"
    },
    "id": "hq-nic6rnAFq",
    "outputId": "e4243353-0d7e-4dd4-b3e4-c81d0daf44e8"
   },
   "outputs": [
    {
     "name": "stdout",
     "output_type": "stream",
     "text": [
      "name\n",
      "headquartered\n"
     ]
    }
   ],
   "source": [
    "for i in a.keys():\n",
    "  print(i)"
   ]
  },
  {
   "cell_type": "code",
   "execution_count": null,
   "metadata": {
    "colab": {
     "base_uri": "https://localhost:8080/"
    },
    "id": "5FdEa4ITnDST",
    "outputId": "ba5b99ab-0b3e-42ae-d196-2974e650b859"
   },
   "outputs": [
    {
     "name": "stdout",
     "output_type": "stream",
     "text": [
      "{'fname': 'DXC', 'lname': 'Technologies'}\n",
      "{'Place': 'Ashburn', 'Country': 'United States'}\n"
     ]
    }
   ],
   "source": [
    "for i in a.values():\n",
    "  print(i)"
   ]
  },
  {
   "cell_type": "code",
   "execution_count": null,
   "metadata": {
    "colab": {
     "base_uri": "https://localhost:8080/"
    },
    "id": "brDg7nxooI46",
    "outputId": "8a412216-62b9-45e9-9054-937e6e5313ff"
   },
   "outputs": [
    {
     "name": "stdout",
     "output_type": "stream",
     "text": [
      "fname\n",
      "lname\n",
      "Place\n",
      "Country\n"
     ]
    }
   ],
   "source": [
    "for i in a:\n",
    "  for j in a[i]:\n",
    "    print(j)"
   ]
  },
  {
   "cell_type": "code",
   "execution_count": null,
   "metadata": {
    "colab": {
     "base_uri": "https://localhost:8080/"
    },
    "id": "wWaBrHcznIqi",
    "outputId": "bf81067f-d19b-4120-ce13-d41726de56a2"
   },
   "outputs": [
    {
     "name": "stdout",
     "output_type": "stream",
     "text": [
      "fname\n",
      "lname\n",
      "Place\n",
      "Country\n"
     ]
    }
   ],
   "source": [
    "for i in a.values():\n",
    "  for j in i.keys():\n",
    "    print(j)"
   ]
  },
  {
   "cell_type": "code",
   "execution_count": null,
   "metadata": {
    "colab": {
     "base_uri": "https://localhost:8080/"
    },
    "id": "B2DzS2QInhZi",
    "outputId": "1eda755a-23fd-44bc-fd34-bed6a2ed2e4c"
   },
   "outputs": [
    {
     "name": "stdout",
     "output_type": "stream",
     "text": [
      "DXC\n",
      "Technologies\n",
      "Ashburn\n",
      "United States\n"
     ]
    }
   ],
   "source": [
    "for i in a.values():\n",
    "  for j in i.values():\n",
    "    print(j)"
   ]
  },
  {
   "cell_type": "code",
   "execution_count": null,
   "metadata": {
    "colab": {
     "base_uri": "https://localhost:8080/"
    },
    "id": "SuCUi8LqnwQy",
    "outputId": "b9e36efa-a468-4847-fdc6-a237c62493e9"
   },
   "outputs": [
    {
     "name": "stdout",
     "output_type": "stream",
     "text": [
      "fname DXC\n",
      "lname Technologies\n",
      "Place Ashburn\n",
      "Country United States\n"
     ]
    }
   ],
   "source": [
    "for i in a.values():\n",
    "  for j,k in i.items():\n",
    "    print(j,k)"
   ]
  },
  {
   "cell_type": "code",
   "execution_count": null,
   "metadata": {
    "colab": {
     "base_uri": "https://localhost:8080/"
    },
    "id": "5xO89-I3oEOy",
    "outputId": "f5f732ef-25e4-487a-efe6-24a1dcf1e576"
   },
   "outputs": [
    {
     "name": "stdout",
     "output_type": "stream",
     "text": [
      "name {'fname': 'DXC', 'lname': 'Technologies'}\n",
      "headquartered {'Place': 'Ashburn', 'Country': 'United States'}\n"
     ]
    }
   ],
   "source": [
    "for i,j in a.items():\n",
    "    print(i,j)"
   ]
  },
  {
   "cell_type": "markdown",
   "metadata": {
    "id": "d7vT6bXPsuKz"
   },
   "source": [
    "# Python Tutorial\n",
    "\n",
    "##Day 7"
   ]
  },
  {
   "cell_type": "markdown",
   "metadata": {
    "id": "ywoM6tuDsn5r"
   },
   "source": [
    "#Functions\n",
    "\n",
    "def"
   ]
  },
  {
   "cell_type": "code",
   "execution_count": null,
   "metadata": {
    "colab": {
     "base_uri": "https://localhost:8080/"
    },
    "id": "LoMBE8fJskp8",
    "outputId": "a1348b0c-039a-4340-b0bd-a904955371af"
   },
   "outputs": [
    {
     "name": "stdout",
     "output_type": "stream",
     "text": [
      "Welcome to Functions in Python\n"
     ]
    }
   ],
   "source": [
    "def print_func():\n",
    "  print(\"Welcome to Functions in Python\")\n",
    "\n",
    "print_func()"
   ]
  },
  {
   "cell_type": "code",
   "execution_count": null,
   "metadata": {
    "colab": {
     "base_uri": "https://localhost:8080/"
    },
    "id": "yGyD9Oxc0Lzb",
    "outputId": "2ca9352c-0d2b-4058-ec47-ff621419a65a"
   },
   "outputs": [
    {
     "name": "stdout",
     "output_type": "stream",
     "text": [
      "Welcome to Functions in Python\n"
     ]
    }
   ],
   "source": [
    "print_func()"
   ]
  },
  {
   "cell_type": "markdown",
   "metadata": {
    "id": "2iGUrl7LtKBL"
   },
   "source": [
    "#Types of Function\n",
    "\n",
    "1. Function Without Arguments\n",
    "2. Function With Arguments\n",
    "3. Function With Arguments With Default Values\n",
    "4. Function With Variable Number of Arguments"
   ]
  },
  {
   "cell_type": "markdown",
   "metadata": {
    "id": "kIi3iaKRtO44"
   },
   "source": [
    "#Function Without Arguments"
   ]
  },
  {
   "cell_type": "code",
   "execution_count": null,
   "metadata": {
    "colab": {
     "base_uri": "https://localhost:8080/"
    },
    "id": "VIf0zBoStK6h",
    "outputId": "1e63de73-4c1b-46a2-d9f9-a57dbc97c907"
   },
   "outputs": [
    {
     "name": "stdout",
     "output_type": "stream",
     "text": [
      "a=25\n",
      "b=60\n",
      "Addition of 25 and 60 is 85\n"
     ]
    }
   ],
   "source": [
    "def fwa_add():\n",
    "  a=input(\"a=\")\n",
    "  b=input(\"b=\")\n",
    "  print(\"Addition of\",a,\"and\",b,\"is\",int(a)+int(b))\n",
    "\n",
    "fwa_add()"
   ]
  },
  {
   "cell_type": "code",
   "execution_count": null,
   "metadata": {
    "colab": {
     "base_uri": "https://localhost:8080/"
    },
    "id": "9GpcE_QgtTog",
    "outputId": "cb68f7f5-e62d-4735-f930-7cb51d5e2a08"
   },
   "outputs": [
    {
     "name": "stdout",
     "output_type": "stream",
     "text": [
      "a=40\n",
      "b=60\n"
     ]
    },
    {
     "data": {
      "text/plain": [
       "100"
      ]
     },
     "execution_count": 4,
     "metadata": {},
     "output_type": "execute_result"
    }
   ],
   "source": [
    "def fwa_add_ret():\n",
    "  a=input(\"a=\")\n",
    "  b=input(\"b=\")\n",
    "  return int(a)+int(b)\n",
    "\n",
    "fwa_add_ret()"
   ]
  },
  {
   "cell_type": "code",
   "execution_count": null,
   "metadata": {
    "colab": {
     "base_uri": "https://localhost:8080/"
    },
    "id": "EUkbSmMftX2Z",
    "outputId": "290a1ea8-f818-4db0-d66e-a779516000e2"
   },
   "outputs": [
    {
     "name": "stdout",
     "output_type": "stream",
     "text": [
      "a=40\n",
      "b=60\n",
      "Addition of 40 and 60 is 100\n"
     ]
    }
   ],
   "source": [
    "a=fwa_add()"
   ]
  },
  {
   "cell_type": "code",
   "execution_count": null,
   "metadata": {
    "colab": {
     "base_uri": "https://localhost:8080/"
    },
    "id": "tHVrISEKtYvj",
    "outputId": "4a055bb2-5f21-497a-b4dc-7cdd80d9fd86"
   },
   "outputs": [
    {
     "name": "stdout",
     "output_type": "stream",
     "text": [
      "None\n"
     ]
    }
   ],
   "source": [
    "print(a)"
   ]
  },
  {
   "cell_type": "code",
   "execution_count": null,
   "metadata": {
    "colab": {
     "base_uri": "https://localhost:8080/"
    },
    "id": "2gUIW-O4ta4R",
    "outputId": "ee0432ef-d94e-41bc-a26b-8b6914f7992b"
   },
   "outputs": [
    {
     "name": "stdout",
     "output_type": "stream",
     "text": [
      "a=60\n",
      "b=40\n"
     ]
    }
   ],
   "source": [
    "a=fwa_add_ret()"
   ]
  },
  {
   "cell_type": "code",
   "execution_count": null,
   "metadata": {
    "colab": {
     "base_uri": "https://localhost:8080/"
    },
    "id": "mkwQdUO9tfLJ",
    "outputId": "c670a43f-1f00-4936-e7d8-da37c0e44fd0"
   },
   "outputs": [
    {
     "name": "stdout",
     "output_type": "stream",
     "text": [
      "100\n"
     ]
    }
   ],
   "source": [
    "print(a)"
   ]
  },
  {
   "cell_type": "markdown",
   "metadata": {
    "id": "t9XkLsXltj2c"
   },
   "source": [
    "#Function With Arguments"
   ]
  },
  {
   "cell_type": "code",
   "execution_count": null,
   "metadata": {
    "colab": {
     "base_uri": "https://localhost:8080/"
    },
    "id": "yXfS5_JhthBq",
    "outputId": "682de177-b0a5-4caf-a511-bea4e4098c29"
   },
   "outputs": [
    {
     "name": "stdout",
     "output_type": "stream",
     "text": [
      "Hi\n",
      "21\n",
      "3\n",
      "HiAll\n"
     ]
    }
   ],
   "source": [
    "def fw(a):\n",
    "  print(a)\n",
    "\n",
    "fw(\"Hi\")\n",
    "fw(21)\n",
    "fw(2+1)\n",
    "fw(\"Hi\"+\"All\")"
   ]
  },
  {
   "cell_type": "code",
   "execution_count": null,
   "metadata": {
    "colab": {
     "base_uri": "https://localhost:8080/"
    },
    "id": "SfbhYTsltnJz",
    "outputId": "2a77f770-6913-4788-d692-3fa470d938df"
   },
   "outputs": [
    {
     "data": {
      "text/plain": [
       "3"
      ]
     },
     "execution_count": 9,
     "metadata": {},
     "output_type": "execute_result"
    }
   ],
   "source": [
    "def fw_add(a,b):\n",
    "  return a+b\n",
    "\n",
    "fw_add(1,2)"
   ]
  },
  {
   "cell_type": "code",
   "execution_count": null,
   "metadata": {
    "colab": {
     "base_uri": "https://localhost:8080/"
    },
    "id": "nAJRO_nXtsAR",
    "outputId": "be01c2a8-dad5-4a41-b52c-c859634ffd6e"
   },
   "outputs": [
    {
     "name": "stdout",
     "output_type": "stream",
     "text": [
      "5\n"
     ]
    }
   ],
   "source": [
    "c=fw_add(2,3)\n",
    "print(c)"
   ]
  },
  {
   "cell_type": "markdown",
   "metadata": {
    "id": "UywXdhlqtyP6"
   },
   "source": [
    "#Function With Arguments With Default Values"
   ]
  },
  {
   "cell_type": "code",
   "execution_count": null,
   "metadata": {
    "colab": {
     "base_uri": "https://localhost:8080/"
    },
    "id": "Hz0F5otRtu2B",
    "outputId": "585601d7-6c1e-42de-bc81-1dba8effcad4"
   },
   "outputs": [
    {
     "data": {
      "text/plain": [
       "7"
      ]
     },
     "execution_count": 10,
     "metadata": {},
     "output_type": "execute_result"
    }
   ],
   "source": [
    "def dwaw_add(a,b=5):\n",
    "  return a+b\n",
    "\n",
    "dwaw_add(2)"
   ]
  },
  {
   "cell_type": "code",
   "execution_count": null,
   "metadata": {
    "colab": {
     "base_uri": "https://localhost:8080/"
    },
    "id": "8eay_HfI14kL",
    "outputId": "a597e2da-caa8-42ba-ed6e-991ff9b5c851"
   },
   "outputs": [
    {
     "data": {
      "text/plain": [
       "10"
      ]
     },
     "execution_count": 11,
     "metadata": {},
     "output_type": "execute_result"
    }
   ],
   "source": [
    "dwaw_add(2,8)"
   ]
  },
  {
   "cell_type": "code",
   "execution_count": null,
   "metadata": {
    "colab": {
     "base_uri": "https://localhost:8080/",
     "height": 165
    },
    "id": "m_DviDZm2x7z",
    "outputId": "428aad0c-4d07-4dcd-8f85-5d585ce6d66a"
   },
   "outputs": [
    {
     "ename": "TypeError",
     "evalue": "ignored",
     "output_type": "error",
     "traceback": [
      "\u001b[0;31m---------------------------------------------------------------------------\u001b[0m",
      "\u001b[0;31mTypeError\u001b[0m                                 Traceback (most recent call last)",
      "\u001b[0;32m<ipython-input-14-7aa949dfa662>\u001b[0m in \u001b[0;36m<module>\u001b[0;34m()\u001b[0m\n\u001b[0;32m----> 1\u001b[0;31m \u001b[0mdwaw_add\u001b[0m\u001b[0;34m(\u001b[0m\u001b[0;36m2\u001b[0m\u001b[0;34m,\u001b[0m\u001b[0;36m8\u001b[0m\u001b[0;34m,\u001b[0m\u001b[0;36m9\u001b[0m\u001b[0;34m,\u001b[0m\u001b[0;36m10\u001b[0m\u001b[0;34m)\u001b[0m\u001b[0;34m\u001b[0m\u001b[0;34m\u001b[0m\u001b[0m\n\u001b[0m",
      "\u001b[0;31mTypeError\u001b[0m: dwaw_add() takes from 1 to 2 positional arguments but 4 were given"
     ]
    }
   ],
   "source": [
    "dwaw_add(2,8,9,10)"
   ]
  },
  {
   "cell_type": "markdown",
   "metadata": {
    "id": "rMtbD9FRt1zh"
   },
   "source": [
    "#Function With Variable Number of Arguments"
   ]
  },
  {
   "cell_type": "code",
   "execution_count": null,
   "metadata": {
    "colab": {
     "base_uri": "https://localhost:8080/",
     "height": 35
    },
    "id": "h38jKwvet6Tq",
    "outputId": "eae87db9-a8e1-4b80-f2dd-5edca9467ed7"
   },
   "outputs": [
    {
     "data": {
      "application/vnd.google.colaboratory.intrinsic+json": {
       "type": "string"
      },
      "text/plain": [
       "'Cat'"
      ]
     },
     "execution_count": 12,
     "metadata": {},
     "output_type": "execute_result"
    }
   ],
   "source": [
    "def multi(*variable):\n",
    "  return(variable[2])\n",
    "\n",
    "multi(\"Apple\",\"Ball\",\"Cat\")"
   ]
  },
  {
   "cell_type": "code",
   "execution_count": null,
   "metadata": {
    "colab": {
     "base_uri": "https://localhost:8080/",
     "height": 35
    },
    "id": "91RFfp1dt897",
    "outputId": "f6bcd3e0-d3f5-4a4b-9ef3-09efe8699037"
   },
   "outputs": [
    {
     "data": {
      "application/vnd.google.colaboratory.intrinsic+json": {
       "type": "string"
      },
      "text/plain": [
       "'mnopqrst'"
      ]
     },
     "execution_count": 13,
     "metadata": {},
     "output_type": "execute_result"
    }
   ],
   "source": [
    "def multi_var(**variable):\n",
    "  return(variable[\"lname\"])\n",
    "\n",
    "multi_var(fname=\"xyz\",lname=\"mnopqrst\", mid_name=\"opq\")"
   ]
  },
  {
   "cell_type": "markdown",
   "metadata": {
    "id": "qnBJ1ETEuBDh"
   },
   "source": [
    "#Function with List"
   ]
  },
  {
   "cell_type": "code",
   "execution_count": null,
   "metadata": {
    "colab": {
     "base_uri": "https://localhost:8080/"
    },
    "id": "AI-H_I9kuE75",
    "outputId": "e4240012-fba4-4a9d-f50d-f4e86550f5b6"
   },
   "outputs": [
    {
     "name": "stdout",
     "output_type": "stream",
     "text": [
      "Dairy Milk\n",
      "5 star\n",
      "Bournville\n",
      "Kit Kat\n",
      "Choco Eclair\n",
      "Munch\n",
      "Snikers\n",
      "Fuse\n"
     ]
    }
   ],
   "source": [
    "def display_list(data):\n",
    "  for i in data:\n",
    "    print(i)\n",
    "\n",
    "\n",
    "chocolate=['Dairy Milk',\"5 star\",\"Bournville\",\"Kit Kat\",\"Choco Eclair\",\"Munch\",\"Snikers\",\"Fuse\"]\n",
    "display_list(chocolate)"
   ]
  },
  {
   "cell_type": "code",
   "execution_count": null,
   "metadata": {
    "colab": {
     "base_uri": "https://localhost:8080/"
    },
    "id": "VPn_024P3XKT",
    "outputId": "83d4fa83-3831-43c8-906a-eb19aa4fb4fd"
   },
   "outputs": [
    {
     "name": "stdout",
     "output_type": "stream",
     "text": [
      "idly\n",
      "dosa\n",
      "vada\n"
     ]
    }
   ],
   "source": [
    "breakfast=['idly','dosa','vada']\n",
    "\n",
    "for i in breakfast:\n",
    "    print(i)"
   ]
  },
  {
   "cell_type": "code",
   "execution_count": null,
   "metadata": {
    "colab": {
     "base_uri": "https://localhost:8080/"
    },
    "id": "bnbZhA3X3kHN",
    "outputId": "b9097fdd-6617-4f99-8a92-e3750d3eb464"
   },
   "outputs": [
    {
     "name": "stdout",
     "output_type": "stream",
     "text": [
      "idly\n",
      "dosa\n",
      "vada\n"
     ]
    }
   ],
   "source": [
    "display_list(breakfast)"
   ]
  },
  {
   "cell_type": "markdown",
   "metadata": {
    "id": "LArcTR6euJn5"
   },
   "source": [
    "#Multiple data return with Function"
   ]
  },
  {
   "cell_type": "code",
   "execution_count": null,
   "metadata": {
    "colab": {
     "base_uri": "https://localhost:8080/"
    },
    "id": "vKnLaWjCuGtJ",
    "outputId": "64acce2c-bc03-48ec-d11e-33cc06eb9a41"
   },
   "outputs": [
    {
     "name": "stdout",
     "output_type": "stream",
     "text": [
      "5\n",
      "-1\n"
     ]
    }
   ],
   "source": [
    "def add_sub(a,b):\n",
    "  return a+b,a-b\n",
    "\n",
    "add,sub=add_sub(2,3)\n",
    "\n",
    "print(add)\n",
    "print(sub)"
   ]
  },
  {
   "cell_type": "markdown",
   "metadata": {
    "id": "emZE3ccXuMk4"
   },
   "source": [
    "#Lambda"
   ]
  },
  {
   "cell_type": "code",
   "execution_count": 1,
   "metadata": {
    "colab": {
     "base_uri": "https://localhost:8080/"
    },
    "id": "hyqnKGtJuQOh",
    "outputId": "35fcfa17-7118-454c-9a1a-cff9aa0a4c85"
   },
   "outputs": [
    {
     "data": {
      "text/plain": [
       "3"
      ]
     },
     "execution_count": 1,
     "metadata": {},
     "output_type": "execute_result"
    }
   ],
   "source": [
    "add=lambda a,b:a+b\n",
    "\n",
    "add(1,2)"
   ]
  },
  {
   "cell_type": "code",
   "execution_count": 2,
   "metadata": {
    "colab": {
     "base_uri": "https://localhost:8080/"
    },
    "id": "nvxo0dFM4h2i",
    "outputId": "abec6e76-8a86-4f83-86ac-6824a6adc9c7"
   },
   "outputs": [
    {
     "data": {
      "text/plain": [
       "12"
      ]
     },
     "execution_count": 2,
     "metadata": {},
     "output_type": "execute_result"
    }
   ],
   "source": [
    "add_abc=lambda a,b,c:a+b+c\n",
    "\n",
    "add_abc(2,4,6)"
   ]
  },
  {
   "cell_type": "code",
   "execution_count": null,
   "metadata": {
    "colab": {
     "base_uri": "https://localhost:8080/"
    },
    "id": "cDK1fLZcuV6p",
    "outputId": "4cafda5c-4f30-471f-de70-61468d38a787"
   },
   "outputs": [
    {
     "data": {
      "text/plain": [
       "6"
      ]
     },
     "execution_count": 17,
     "metadata": {},
     "output_type": "execute_result"
    }
   ],
   "source": [
    "mul=lambda a,b:a*b\n",
    "\n",
    "mul(2,3)"
   ]
  },
  {
   "cell_type": "code",
   "execution_count": null,
   "metadata": {
    "colab": {
     "base_uri": "https://localhost:8080/",
     "height": 35
    },
    "id": "71mmvO18uYQa",
    "outputId": "e950dfae-d413-4d1e-b735-c0a5a8d0c346"
   },
   "outputs": [
    {
     "data": {
      "application/vnd.google.colaboratory.intrinsic+json": {
       "type": "string"
      },
      "text/plain": [
       "'Munch'"
      ]
     },
     "execution_count": 19,
     "metadata": {},
     "output_type": "execute_result"
    }
   ],
   "source": [
    "lam_list=lambda lst,i:lst[i]\n",
    "\n",
    "chocolate=['Dairy Milk',\"5 star\",\"Bournville\",\"Kit Kat\",\"Choco Eclair\",\"Munch\",\"Snikers\",\"Fuse\"]\n",
    "\n",
    "lam_list(chocolate,5)"
   ]
  },
  {
   "cell_type": "code",
   "execution_count": null,
   "metadata": {
    "colab": {
     "base_uri": "https://localhost:8080/"
    },
    "id": "1p8MgVXu5Mym",
    "outputId": "fa08a38a-8897-40ad-c7b5-b24df7fb3cce"
   },
   "outputs": [
    {
     "name": "stdout",
     "output_type": "stream",
     "text": [
      "Dairy Milk\n",
      "5 star\n",
      "Bournville\n",
      "Kit Kat\n",
      "Choco Eclair\n",
      "Munch\n",
      "Snikers\n",
      "Fuse\n"
     ]
    }
   ],
   "source": [
    "for i in range(len(chocolate)):\n",
    "  print(lam_list(chocolate,i))"
   ]
  },
  {
   "cell_type": "code",
   "execution_count": null,
   "metadata": {
    "colab": {
     "base_uri": "https://localhost:8080/"
    },
    "id": "WnwzZ_mjuaMp",
    "outputId": "31a79c93-4a6e-4e72-8856-7cf1a7e26b86"
   },
   "outputs": [
    {
     "data": {
      "text/plain": [
       "6"
      ]
     },
     "execution_count": 21,
     "metadata": {},
     "output_type": "execute_result"
    }
   ],
   "source": [
    "max_list=lambda lst:max(lst)\n",
    "\n",
    "lst=[5,4,3,6,1]\n",
    "max_list(lst)"
   ]
  },
  {
   "cell_type": "markdown",
   "metadata": {
    "id": "w_laEAsEugXZ"
   },
   "source": [
    "# Using Lambda in Functions"
   ]
  },
  {
   "cell_type": "code",
   "execution_count": null,
   "metadata": {
    "id": "lz2U1wY_ujr5"
   },
   "outputs": [],
   "source": [
    "def max_int_list(data):\n",
    "  max_list=lambda lst:max(lst)\n",
    "  print(max_list(data))"
   ]
  },
  {
   "cell_type": "code",
   "execution_count": null,
   "metadata": {
    "colab": {
     "base_uri": "https://localhost:8080/"
    },
    "id": "klaYRYViulsV",
    "outputId": "8f410d58-47db-4e04-e7cc-f540c16ab94e"
   },
   "outputs": [
    {
     "name": "stdout",
     "output_type": "stream",
     "text": [
      "6\n"
     ]
    }
   ],
   "source": [
    "max_int_list(lst)"
   ]
  },
  {
   "cell_type": "markdown",
   "metadata": {
    "id": "Nfir0Qpvv3ay"
   },
   "source": [
    "#Iterators"
   ]
  },
  {
   "cell_type": "code",
   "execution_count": null,
   "metadata": {
    "colab": {
     "base_uri": "https://localhost:8080/"
    },
    "id": "WI3zkOUzv2sZ",
    "outputId": "52ebee25-c7e1-47a2-e767-1b9f568d7c9b"
   },
   "outputs": [
    {
     "name": "stdout",
     "output_type": "stream",
     "text": [
      "idli\n",
      "chapathi\n",
      "Dosa\n"
     ]
    }
   ],
   "source": [
    "dish_tuple = (\"idli\", \"chapathi\", \"Dosa\")\n",
    "myit = iter(dish_tuple)\n",
    "\n",
    "print(next(myit))\n",
    "print(next(myit))\n",
    "print(next(myit))"
   ]
  },
  {
   "cell_type": "code",
   "execution_count": null,
   "metadata": {
    "colab": {
     "base_uri": "https://localhost:8080/"
    },
    "id": "2DOrhcnBv9iZ",
    "outputId": "5315c5d7-cfa6-4377-93f5-ccef7c9a8791"
   },
   "outputs": [
    {
     "name": "stdout",
     "output_type": "stream",
     "text": [
      "idli\n",
      "chapathi\n",
      "Dosa\n"
     ]
    }
   ],
   "source": [
    "dish_list = [\"idli\", \"chapathi\", \"Dosa\"]\n",
    "myit = iter(dish_list)\n",
    "\n",
    "print(next(myit))\n",
    "print(next(myit))\n",
    "print(next(myit))"
   ]
  },
  {
   "cell_type": "markdown",
   "metadata": {
    "id": "WxZLk1LAwTCx"
   },
   "source": [
    "#Regular Expression\n",
    "![reg exp.png](data:image/png;base64,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)\n",
    "\n",
    "\n",
    "![reg_func.png](data:image/png;base64,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)"
   ]
  },
  {
   "cell_type": "code",
   "execution_count": null,
   "metadata": {
    "colab": {
     "base_uri": "https://localhost:8080/"
    },
    "id": "m1Hrq6GvwSgZ",
    "outputId": "1b1b85f4-253f-4557-e363-50e06622241f"
   },
   "outputs": [
    {
     "name": "stdout",
     "output_type": "stream",
     "text": [
      "YES! We have a match!\n"
     ]
    }
   ],
   "source": [
    "import re\n",
    "\n",
    "txt = \"The rain in Spain\"\n",
    "x = re.search(\"^The.*Spain$\", txt)\n",
    "if x:\n",
    "  print(\"YES! We have a match!\")\n",
    "else:\n",
    "  print(\"No match\")"
   ]
  },
  {
   "cell_type": "code",
   "execution_count": null,
   "metadata": {
    "colab": {
     "base_uri": "https://localhost:8080/"
    },
    "id": "eRSLqdva1rg6",
    "outputId": "08c81ae5-9f5b-470a-8288-7c304c37115e"
   },
   "outputs": [
    {
     "name": "stdout",
     "output_type": "stream",
     "text": [
      "YES! We have a match!\n"
     ]
    }
   ],
   "source": [
    "txt = \"I am Learning Python, because it is easy\"\n",
    "x = re.search(\"am.*Python\", txt)\n",
    "if x:\n",
    "  print(\"YES! We have a match!\")\n",
    "else:\n",
    "  print(\"No match\")"
   ]
  },
  {
   "cell_type": "code",
   "execution_count": null,
   "metadata": {
    "colab": {
     "base_uri": "https://localhost:8080/"
    },
    "id": "iDrdNvKvACK8",
    "outputId": "6e69b8e6-349d-447a-c2a6-f11c7b5af129"
   },
   "outputs": [
    {
     "name": "stdout",
     "output_type": "stream",
     "text": [
      "No match\n"
     ]
    }
   ],
   "source": [
    "txt = \"I am Learning Python, because it is easy\"\n",
    "x = re.search(\"am.*Python$\", txt)\n",
    "if x:\n",
    "  print(\"YES! We have a match!\")\n",
    "else:\n",
    "  print(\"No match\")"
   ]
  },
  {
   "cell_type": "code",
   "execution_count": null,
   "metadata": {
    "colab": {
     "base_uri": "https://localhost:8080/"
    },
    "id": "bErlXcfJ2jWj",
    "outputId": "d109fb52-77a6-43be-ef22-9617f9be7d27"
   },
   "outputs": [
    {
     "name": "stdout",
     "output_type": "stream",
     "text": [
      "['Python']\n"
     ]
    }
   ],
   "source": [
    "txt = \"I am Learning Python, because it is easy\"\n",
    "x = re.findall(\"Python\", txt)\n",
    "print(x)"
   ]
  },
  {
   "cell_type": "code",
   "execution_count": null,
   "metadata": {
    "colab": {
     "base_uri": "https://localhost:8080/"
    },
    "id": "2fOeQ1A220yw",
    "outputId": "ef8eceee-48d6-4787-8b52-f557e01e2af9"
   },
   "outputs": [
    {
     "name": "stdout",
     "output_type": "stream",
     "text": [
      "[]\n"
     ]
    }
   ],
   "source": [
    "txt = \"I am Learning Python, because it is easy\"\n",
    "x = re.findall(\"Jython\", txt)\n",
    "print(x)"
   ]
  },
  {
   "cell_type": "code",
   "execution_count": null,
   "metadata": {
    "colab": {
     "base_uri": "https://localhost:8080/"
    },
    "id": "9A-4N8xP3API",
    "outputId": "8dda30d1-014b-4f37-b26f-40e5e6c8ce36"
   },
   "outputs": [
    {
     "name": "stdout",
     "output_type": "stream",
     "text": [
      "['I', 'am', 'Learning', 'Python,', 'because', 'it', 'is', 'easy']\n"
     ]
    }
   ],
   "source": [
    "txt = \"I am Learning Python, because it is easy\"\n",
    "x = re.split(\"\\s\", txt)\n",
    "print(x)"
   ]
  },
  {
   "cell_type": "code",
   "execution_count": null,
   "metadata": {
    "colab": {
     "base_uri": "https://localhost:8080/"
    },
    "id": "SsE1cQ293HO1",
    "outputId": "04807b19-e77a-472c-ce81-e6722b6a0ed7"
   },
   "outputs": [
    {
     "name": "stdout",
     "output_type": "stream",
     "text": [
      "['I', 'am Learning Python, because it is easy']\n"
     ]
    }
   ],
   "source": [
    "\n",
    "txt = \"I am Learning Python, because it is easy\"\n",
    "x = re.split(\"\\s\", txt, 1)\n",
    "print(x)"
   ]
  },
  {
   "cell_type": "code",
   "execution_count": null,
   "metadata": {
    "colab": {
     "base_uri": "https://localhost:8080/"
    },
    "id": "Tais0DuL3UK8",
    "outputId": "596984a8-8327-4e64-e58d-b2383dc70819"
   },
   "outputs": [
    {
     "name": "stdout",
     "output_type": "stream",
     "text": [
      "['I', 'am', 'Learning', 'Python, because it is easy']\n"
     ]
    }
   ],
   "source": [
    "txt = \"I am Learning Python, because it is easy\"\n",
    "x = re.split(\"\\s\", txt, 3)\n",
    "print(x)"
   ]
  },
  {
   "cell_type": "code",
   "execution_count": null,
   "metadata": {
    "colab": {
     "base_uri": "https://localhost:8080/"
    },
    "id": "JgaX5uTt3bgc",
    "outputId": "cd7ed7c8-5798-4779-a249-c1b811e2320b"
   },
   "outputs": [
    {
     "name": "stdout",
     "output_type": "stream",
     "text": [
      "I---am---Learning---Python,---because---it---is---easy\n"
     ]
    }
   ],
   "source": [
    "txt = \"I am Learning Python, because it is easy\"\n",
    "x = re.sub(\"\\s\",\"---\", txt)\n",
    "print(x)"
   ]
  },
  {
   "cell_type": "code",
   "execution_count": null,
   "metadata": {
    "colab": {
     "base_uri": "https://localhost:8080/"
    },
    "id": "QMBydTY73svl",
    "outputId": "e4beea36-7dcb-44cb-b112-75f5fc60ccf9"
   },
   "outputs": [
    {
     "name": "stdout",
     "output_type": "stream",
     "text": [
      "I-*-am-*-Learning-*-Python,-*-because-*-it-*-is-*-easy\n"
     ]
    }
   ],
   "source": [
    "txt = \"I am Learning Python, because it is easy\"\n",
    "x = re.sub(\"\\s\",\"-*-\", txt)\n",
    "print(x)"
   ]
  },
  {
   "cell_type": "markdown",
   "metadata": {
    "id": "uZPu8rVtbBwI"
   },
   "source": [
    "# Python Tutorial\n",
    "\n",
    "##Day 8"
   ]
  },
  {
   "cell_type": "markdown",
   "metadata": {
    "id": "f9d1yiZwbSak"
   },
   "source": [
    "#Object Oriented Programming\n",
    "\n",
    "1. Class\n",
    "2. Inheritance\n",
    "3. Polymorphism\n",
    "4. Encapsulation\n",
    "5. Abstraction"
   ]
  },
  {
   "cell_type": "markdown",
   "metadata": {
    "id": "5wJL1dJIbXVO"
   },
   "source": [
    "#Class"
   ]
  },
  {
   "cell_type": "code",
   "execution_count": 3,
   "metadata": {
    "colab": {
     "base_uri": "https://localhost:8080/"
    },
    "id": "ENM7InLfa5YZ",
    "outputId": "fb9ca65b-ddbc-4698-e5ff-7ae60e4c977b"
   },
   "outputs": [
    {
     "name": "stdout",
     "output_type": "stream",
     "text": [
      "5\n"
     ]
    }
   ],
   "source": [
    "class add:\n",
    "  def ADD(a,b):\n",
    "    print(a+b)\n",
    "\n",
    "a=add.ADD(2,3)"
   ]
  },
  {
   "cell_type": "code",
   "execution_count": null,
   "metadata": {
    "id": "QX7tzs64fKVS"
   },
   "outputs": [],
   "source": [
    "\n",
    "class Arithmatic:\n",
    "  def ADD(a,b):\n",
    "    return a+b\n",
    "  def SUB(a,b):\n",
    "    return a-b\n",
    "  def MUL(a,b):\n",
    "    return a*b\n",
    "  def All_ops(a,b):\n",
    "    return a+b, a-b, a*b"
   ]
  },
  {
   "cell_type": "code",
   "execution_count": null,
   "metadata": {
    "colab": {
     "base_uri": "https://localhost:8080/"
    },
    "id": "vrXqgRrkgHUH",
    "outputId": "8263a071-19ee-4399-96b2-acd4b937e800"
   },
   "outputs": [
    {
     "name": "stdout",
     "output_type": "stream",
     "text": [
      "5\n"
     ]
    }
   ],
   "source": [
    "a=Arithmatic.ADD(2,3)\n",
    "print(a)"
   ]
  },
  {
   "cell_type": "code",
   "execution_count": null,
   "metadata": {
    "colab": {
     "base_uri": "https://localhost:8080/"
    },
    "id": "nBK3PEm4gdpj",
    "outputId": "475e98f2-8f4f-4a8d-cd7c-b17424b239db"
   },
   "outputs": [
    {
     "name": "stdout",
     "output_type": "stream",
     "text": [
      "-1\n"
     ]
    }
   ],
   "source": [
    "a=Arithmatic.SUB(2,3)\n",
    "print(a)"
   ]
  },
  {
   "cell_type": "code",
   "execution_count": null,
   "metadata": {
    "colab": {
     "base_uri": "https://localhost:8080/"
    },
    "id": "qCPKR-Jdgn7_",
    "outputId": "d80f34fe-455e-4858-bf12-42844255408a"
   },
   "outputs": [
    {
     "name": "stdout",
     "output_type": "stream",
     "text": [
      "6\n"
     ]
    }
   ],
   "source": [
    "a=Arithmatic.MUL(2,3)\n",
    "print(a)"
   ]
  },
  {
   "cell_type": "code",
   "execution_count": null,
   "metadata": {
    "colab": {
     "base_uri": "https://localhost:8080/"
    },
    "id": "fORK_DWKgtHW",
    "outputId": "9ac94fa2-0cfc-42b9-d60e-3665d26cff43"
   },
   "outputs": [
    {
     "name": "stdout",
     "output_type": "stream",
     "text": [
      "5 -1 6\n"
     ]
    }
   ],
   "source": [
    "a,b,c=Arithmatic.All_ops(2,3)\n",
    "print(a,b,c)"
   ]
  },
  {
   "cell_type": "markdown",
   "metadata": {
    "id": "LzPJYPzQspmv"
   },
   "source": [
    "# Class with Constructor or Initializer\n",
    "\n",
    "\\__init__()"
   ]
  },
  {
   "cell_type": "code",
   "execution_count": null,
   "metadata": {
    "colab": {
     "base_uri": "https://localhost:8080/"
    },
    "id": "N4xn6qhlso_Z",
    "outputId": "b64b2ac2-48fc-4cf5-b028-398aa5ead18e"
   },
   "outputs": [
    {
     "name": "stdout",
     "output_type": "stream",
     "text": [
      "5\n"
     ]
    }
   ],
   "source": [
    "class add:\n",
    "  def __init__(self,A,B):\n",
    "    self.k=A\n",
    "    self.l=B\n",
    "  def ADD(self):\n",
    "    print(self.k+self.l)\n",
    "\n",
    "a=add(2,3)\n",
    "a.ADD()"
   ]
  },
  {
   "cell_type": "code",
   "execution_count": null,
   "metadata": {
    "colab": {
     "base_uri": "https://localhost:8080/"
    },
    "id": "0fGEDE4-vbaT",
    "outputId": "3073def1-b4bb-4021-d1ba-46d6fabd1e94"
   },
   "outputs": [
    {
     "name": "stdout",
     "output_type": "stream",
     "text": [
      "7\n",
      "3\n",
      "10\n",
      "(7, 3, 10)\n"
     ]
    }
   ],
   "source": [
    "class Arithmatic:\n",
    "  def __init__(self,A,B):\n",
    "    self.a=A\n",
    "    self.b=B\n",
    "  def ADD(self):\n",
    "    return self.a+self.b\n",
    "  def SUB(self):\n",
    "    return self.a-self.b\n",
    "  def MUL(self):\n",
    "    return self.a*self.b\n",
    "  def All_ops(self):\n",
    "    return self.a+self.b, self.a-self.b, self.a*self.b\n",
    "\n",
    "arith=Arithmatic(5,2)\n",
    "print(arith.ADD())\n",
    "print(arith.SUB())\n",
    "print(arith.MUL())\n",
    "print(arith.All_ops())\n"
   ]
  },
  {
   "cell_type": "markdown",
   "metadata": {
    "id": "-OGBJSShw9TR"
   },
   "source": [
    "#Inheritance\n",
    "\n",
    "1. Single level\n",
    "2. Multilevel\n",
    "3. Multiple"
   ]
  },
  {
   "cell_type": "markdown",
   "metadata": {
    "id": "FBpBFria2nh6"
   },
   "source": [
    "#Single Level Inheritance"
   ]
  },
  {
   "cell_type": "code",
   "execution_count": null,
   "metadata": {
    "colab": {
     "base_uri": "https://localhost:8080/"
    },
    "id": "6XeqBEOR2QMa",
    "outputId": "3a0aacc7-6ad0-405f-a382-0d1024d1a6a9"
   },
   "outputs": [
    {
     "name": "stdout",
     "output_type": "stream",
     "text": [
      "dog barking\n",
      "Animal Speaking\n"
     ]
    }
   ],
   "source": [
    "class Animal:\n",
    "    def speak(self):\n",
    "        print(\"Animal Speaking\")\n",
    "\n",
    "#child class Dog inherits the base class Animal\n",
    "class Dog(Animal):\n",
    "    def bark(self):\n",
    "        print(\"dog barking\")\n",
    "\n",
    "d = Dog()\n",
    "d.bark()\n",
    "d.speak()"
   ]
  },
  {
   "cell_type": "code",
   "execution_count": null,
   "metadata": {
    "colab": {
     "base_uri": "https://localhost:8080/"
    },
    "id": "12VnjkU9223s",
    "outputId": "f1bf134d-0b83-4c45-ac5d-0ee65e443ee5"
   },
   "outputs": [
    {
     "name": "stdout",
     "output_type": "stream",
     "text": [
      "printing from Parent class\n",
      "Bitter\n",
      "printing from derived class\n",
      "Sweet Bitter\n",
      "Bitter\n"
     ]
    }
   ],
   "source": [
    "class Caffeine:\n",
    "    def bitter(self):\n",
    "        print(\"Bitter\")\n",
    "\n",
    "class Chocolate(Caffeine):\n",
    "    def sweet_bit(self):\n",
    "        print(\"Sweet Bitter\")\n",
    "\n",
    "print(\"printing from Parent class\")\n",
    "Caf=Caffeine()\n",
    "Caf.bitter()\n",
    "\n",
    "print(\"printing from derived class\")\n",
    "Choco=Chocolate()\n",
    "Choco.sweet_bit()\n",
    "Choco.bitter()"
   ]
  },
  {
   "cell_type": "markdown",
   "metadata": {
    "id": "tPh7hyHY4xn2"
   },
   "source": [
    "#Multilevel Inheritance"
   ]
  },
  {
   "cell_type": "code",
   "execution_count": null,
   "metadata": {
    "colab": {
     "base_uri": "https://localhost:8080/"
    },
    "id": "rEJiNbQD4woF",
    "outputId": "7cedf948-15b5-4207-efc7-0f754cceb9a9"
   },
   "outputs": [
    {
     "name": "stdout",
     "output_type": "stream",
     "text": [
      "dog barking\n",
      "Animal Speaking\n",
      "Eating bread...\n"
     ]
    }
   ],
   "source": [
    "class Animal:\n",
    "    def speak(self):\n",
    "        print(\"Animal Speaking\")\n",
    "\n",
    "#The child class Dog inherits the base class Animal\n",
    "class Dog(Animal):\n",
    "    def bark(self):\n",
    "        print(\"dog barking\")\n",
    "\n",
    "#The child class Dogchild inherits another child class Dog\n",
    "class DogChild(Dog):\n",
    "    def eat(self):\n",
    "        print(\"Eating bread...\")\n",
    "d = DogChild()\n",
    "d.bark()\n",
    "d.speak()\n",
    "d.eat()"
   ]
  },
  {
   "cell_type": "code",
   "execution_count": null,
   "metadata": {
    "colab": {
     "base_uri": "https://localhost:8080/"
    },
    "id": "bx7ngX1x5pxP",
    "outputId": "925f4858-0096-4040-ada1-369967841f39"
   },
   "outputs": [
    {
     "name": "stdout",
     "output_type": "stream",
     "text": [
      "Bitter\n",
      "Sweet Bitter\n",
      "Chco delight\n",
      "Chco delight with frits and nuts\n"
     ]
    }
   ],
   "source": [
    "class Caffeine:\n",
    "    def bitter(self):\n",
    "        print(\"Bitter\")\n",
    "\n",
    "class Chocolate(Caffeine):\n",
    "    def sweet_bit(self):\n",
    "        print(\"Sweet Bitter\")\n",
    "\n",
    "class dairymilk(Chocolate):\n",
    "    def choco_taste(self):\n",
    "        print(\"Chco delight\")\n",
    "\n",
    "class dairymilk_f_and_n(dairymilk):\n",
    "    def choco_taste_fn(self):\n",
    "        print(\"Chco delight with frits and nuts\")\n",
    "\n",
    "\n",
    "dm=dairymilk_f_and_n()\n",
    "dm.bitter()\n",
    "dm.sweet_bit()\n",
    "dm.choco_taste()\n",
    "dm.choco_taste_fn()"
   ]
  },
  {
   "cell_type": "markdown",
   "metadata": {
    "id": "8Kc1fzB17NL3"
   },
   "source": [
    "#Multiple inheritance"
   ]
  },
  {
   "cell_type": "code",
   "execution_count": null,
   "metadata": {
    "colab": {
     "base_uri": "https://localhost:8080/"
    },
    "id": "R-Pr7ZEi7Kkd",
    "outputId": "aca1eb82-7e23-4577-f0ea-d5b73f47753d"
   },
   "outputs": [
    {
     "name": "stdout",
     "output_type": "stream",
     "text": [
      "30\n",
      "200\n",
      "0.5\n"
     ]
    }
   ],
   "source": [
    "class Calculation1:\n",
    "    def Summation(self,a,b):\n",
    "        return a+b\n",
    "\n",
    "class Calculation2:\n",
    "    def Multiplication(self,a,b):\n",
    "        return a*b\n",
    "\n",
    "class Derived(Calculation1,Calculation2):\n",
    "    def Divide(self,a,b):\n",
    "        return a/b\n",
    "d = Derived()\n",
    "print(d.Summation(10,20))\n",
    "print(d.Multiplication(10,20))\n",
    "print(d.Divide(10,20))"
   ]
  },
  {
   "cell_type": "code",
   "execution_count": null,
   "metadata": {
    "colab": {
     "base_uri": "https://localhost:8080/"
    },
    "id": "AJ2fUrPP87YB",
    "outputId": "3e4a2c8c-b51b-4e9f-9df7-2cbdd7b7a029"
   },
   "outputs": [
    {
     "name": "stdout",
     "output_type": "stream",
     "text": [
      "Choco delight\n",
      "fruity nut\n",
      "Chco delight with frits and nuts\n"
     ]
    }
   ],
   "source": [
    "class dairymilk:\n",
    "    def choco_taste(self):\n",
    "        print(\"Choco delight\")\n",
    "\n",
    "class fruit_and_nut:\n",
    "    def f_and_n(self):\n",
    "        print(\"fruity nut\")\n",
    "\n",
    "class dairymilk_f_and_n(dairymilk,fruit_and_nut):\n",
    "    def choco_taste_fn(self):\n",
    "        print(\"Chco delight with frits and nuts\")\n",
    "\n",
    "dm=dairymilk_f_and_n()\n",
    "\n",
    "dm.choco_taste()\n",
    "dm.f_and_n()\n",
    "dm.choco_taste_fn()"
   ]
  },
  {
   "cell_type": "markdown",
   "metadata": {
    "id": "PUEKFAOX_tEP"
   },
   "source": [
    "#Highbreed Inheritance"
   ]
  },
  {
   "cell_type": "code",
   "execution_count": null,
   "metadata": {
    "colab": {
     "base_uri": "https://localhost:8080/"
    },
    "id": "Mzeb6V51_fiC",
    "outputId": "c6aa3bf0-2696-47ee-dedb-2725cd971a1b"
   },
   "outputs": [
    {
     "name": "stdout",
     "output_type": "stream",
     "text": [
      "dog barking\n",
      "meals\n"
     ]
    }
   ],
   "source": [
    "#Multilevel\n",
    "class Caffeine:\n",
    "    def bitter(self):\n",
    "        print(\"Bitter\")\n",
    "\n",
    "class Chocolate(Caffeine):\n",
    "    def sweet_bit(self):\n",
    "        print(\"Sweet Bitter\")\n",
    "\n",
    "class dairymilk(Chocolate):\n",
    "    def choco_taste(self):\n",
    "        print(\"Chco delight\")\n",
    "\n",
    "class dairymilk_f_and_n(dairymilk):\n",
    "    def choco_taste_fn(self):\n",
    "        print(\"Chco delight with frits and nuts\")\n",
    "\n",
    "#Single Level\n",
    "class Animal:\n",
    "    def speak():\n",
    "        print(\"Animal Speaking\")\n",
    "\n",
    "class Dog(Animal):\n",
    "    def bark():\n",
    "        print(\"dog barking\")\n",
    "\n",
    "#Multiple\n",
    "class breakfast:\n",
    "    def pr_breakfast():\n",
    "        print(\"breakfast\")\n",
    "\n",
    "class lunch:\n",
    "    def pr_lunch():\n",
    "        print(\"lunch\")\n",
    "\n",
    "class meals(breakfast,lunch):\n",
    "    def pr_meals():\n",
    "        print(\"meals\")\n",
    "\n",
    "# Single class\n",
    "class hazelnut:\n",
    "  def haze_taste():\n",
    "    print(\"haze\")\n",
    "\n",
    "# Hybreed\n",
    "\n",
    "class hybrid(dairymilk_f_and_n,hazelnut,meals,Dog):\n",
    "  def Hyb():\n",
    "    print(\"hibreed\")\n",
    "\n",
    "\n",
    "h=hybrid\n",
    "h.bark()\n",
    "h.pr_meals()"
   ]
  },
  {
   "cell_type": "markdown",
   "metadata": {
    "id": "x--ZVreYDqGy"
   },
   "source": [
    "#Polymorphism"
   ]
  },
  {
   "cell_type": "code",
   "execution_count": null,
   "metadata": {
    "colab": {
     "base_uri": "https://localhost:8080/"
    },
    "id": "0kaLQAHuDpYA",
    "outputId": "d725548d-f697-4ea5-8027-87fd0cd7bccc"
   },
   "outputs": [
    {
     "name": "stdout",
     "output_type": "stream",
     "text": [
      "Vegetable\n",
      "Red\n",
      "Fruit\n",
      "Red\n"
     ]
    }
   ],
   "source": [
    "class Tomato():\n",
    "     def type(self):\n",
    "       print(\"Vegetable\")\n",
    "     def color(self):\n",
    "       print(\"Red\")\n",
    "class Apple():\n",
    "     def type(self):\n",
    "       print(\"Fruit\")\n",
    "     def color(self):\n",
    "       print(\"Red\")\n",
    "\n",
    "def func(obj):\n",
    "       obj.type()\n",
    "       obj.color()\n",
    "\n",
    "obj_tomato = Tomato()\n",
    "obj_apple = Apple()\n",
    "func(obj_tomato)\n",
    "func(obj_apple)"
   ]
  },
  {
   "cell_type": "code",
   "execution_count": null,
   "metadata": {
    "colab": {
     "base_uri": "https://localhost:8080/"
    },
    "id": "sqmqxhYOFxRy",
    "outputId": "015d3b3f-cec8-44ea-e062-ce4241eb3d44"
   },
   "outputs": [
    {
     "name": "stdout",
     "output_type": "stream",
     "text": [
      "New Delhi\n",
      "Hindi and English\n",
      "Washington, D.C.\n",
      "English\n"
     ]
    }
   ],
   "source": [
    "class India():\n",
    "     def capital(self):\n",
    "       print(\"New Delhi\")\n",
    "\n",
    "     def language(self):\n",
    "       print(\"Hindi and English\")\n",
    "\n",
    "class USA():\n",
    "     def capital(self):\n",
    "       print(\"Washington, D.C.\")\n",
    "\n",
    "     def language(self):\n",
    "       print(\"English\")\n",
    "\n",
    "obj_ind = India()\n",
    "obj_usa = USA()\n",
    "for country in (obj_ind, obj_usa):\n",
    "       country.capital()\n",
    "       country.language()"
   ]
  },
  {
   "cell_type": "markdown",
   "metadata": {
    "id": "wr89rb2rHZ73"
   },
   "source": [
    "#Acccess Modifiers\n",
    "\n",
    "1. Public\n",
    "2. Private (__)\n",
    "3. Protected (_)"
   ]
  },
  {
   "cell_type": "markdown",
   "metadata": {
    "id": "I0_e8-fFIRnH"
   },
   "source": [
    "#Public"
   ]
  },
  {
   "cell_type": "code",
   "execution_count": null,
   "metadata": {
    "id": "xsh75AYYGCu4"
   },
   "outputs": [],
   "source": [
    "class Employee:\n",
    "    # constructor\n",
    "    def __init__(self, name, sal):\n",
    "        self.name = name\n",
    "        self.sal = sal"
   ]
  },
  {
   "cell_type": "code",
   "execution_count": null,
   "metadata": {
    "colab": {
     "base_uri": "https://localhost:8080/"
    },
    "id": "CFXZ6c4PH4wv",
    "outputId": "fbfa2c8b-a8c6-485a-aa77-ff66d005c9e1"
   },
   "outputs": [
    {
     "data": {
      "text/plain": [
       "123456"
      ]
     },
     "execution_count": 35,
     "metadata": {},
     "output_type": "execute_result"
    }
   ],
   "source": [
    "emp = Employee(\"Ironman\", 123456)\n",
    "emp.sal"
   ]
  },
  {
   "cell_type": "markdown",
   "metadata": {
    "id": "4r2_QNPZIOtH"
   },
   "source": [
    "#Protected"
   ]
  },
  {
   "cell_type": "code",
   "execution_count": null,
   "metadata": {
    "id": "M4eH02J7IT83"
   },
   "outputs": [],
   "source": [
    "class Employee:\n",
    "    # constructor\n",
    "    def __init__(self, name, sal):\n",
    "        self._name = name   # protected attribute\n",
    "        self._sal = sal     # protected attribute\n",
    "\n",
    "class HR(Employee):\n",
    "\n",
    "    # member function task\n",
    "    def task(self):\n",
    "        print(\"We manage Employees\")"
   ]
  },
  {
   "cell_type": "code",
   "execution_count": null,
   "metadata": {
    "colab": {
     "base_uri": "https://localhost:8080/"
    },
    "id": "1bMrb385I58h",
    "outputId": "6f181812-4de5-4ae7-a2fb-26013fc8b313"
   },
   "outputs": [
    {
     "name": "stdout",
     "output_type": "stream",
     "text": [
      "123456\n",
      "We manage Employees\n"
     ]
    }
   ],
   "source": [
    "hr = HR(\"Ironman\", 123456)\n",
    "print(hr._sal)\n",
    "hr.task()"
   ]
  },
  {
   "cell_type": "markdown",
   "metadata": {
    "id": "zwUeqgCQJkpA"
   },
   "source": [
    "#Private"
   ]
  },
  {
   "cell_type": "code",
   "execution_count": null,
   "metadata": {
    "id": "ZebS_rKoJnEf"
   },
   "outputs": [],
   "source": [
    "class Employee:\n",
    "    def __init__(self, name, sal):\n",
    "        self.__name = name;    # private attribute\n",
    "        self.__sal = sal;      # private attribute\n",
    "    def det(self):\n",
    "      print(self.__name,self.__sal)"
   ]
  },
  {
   "cell_type": "code",
   "execution_count": null,
   "metadata": {
    "colab": {
     "base_uri": "https://localhost:8080/",
     "height": 217
    },
    "id": "Xzh94a3HJqkH",
    "outputId": "b6a30f6c-a59d-4bf5-cf9a-3ecabb6d710c"
   },
   "outputs": [
    {
     "name": "stdout",
     "output_type": "stream",
     "text": [
      "Bill 10000\n"
     ]
    },
    {
     "ename": "AttributeError",
     "evalue": "ignored",
     "output_type": "error",
     "traceback": [
      "\u001b[0;31m---------------------------------------------------------------------------\u001b[0m",
      "\u001b[0;31mAttributeError\u001b[0m                            Traceback (most recent call last)",
      "\u001b[0;32m<ipython-input-43-cc717b857c7b>\u001b[0m in \u001b[0;36m<module>\u001b[0;34m()\u001b[0m\n\u001b[1;32m      1\u001b[0m \u001b[0memp\u001b[0m \u001b[0;34m=\u001b[0m \u001b[0mEmployee\u001b[0m\u001b[0;34m(\u001b[0m\u001b[0;34m\"Bill\"\u001b[0m\u001b[0;34m,\u001b[0m \u001b[0;36m10000\u001b[0m\u001b[0;34m)\u001b[0m\u001b[0;34m\u001b[0m\u001b[0;34m\u001b[0m\u001b[0m\n\u001b[1;32m      2\u001b[0m \u001b[0memp\u001b[0m\u001b[0;34m.\u001b[0m\u001b[0mdet\u001b[0m\u001b[0;34m(\u001b[0m\u001b[0;34m)\u001b[0m\u001b[0;34m\u001b[0m\u001b[0;34m\u001b[0m\u001b[0m\n\u001b[0;32m----> 3\u001b[0;31m \u001b[0memp\u001b[0m\u001b[0;34m.\u001b[0m\u001b[0m__sal\u001b[0m\u001b[0;34m\u001b[0m\u001b[0;34m\u001b[0m\u001b[0m\n\u001b[0m",
      "\u001b[0;31mAttributeError\u001b[0m: 'Employee' object has no attribute '__sal'"
     ]
    }
   ],
   "source": [
    "emp = Employee(\"Bill\", 10000)\n",
    "emp.det()\n",
    "emp.__sal"
   ]
  },
  {
   "cell_type": "markdown",
   "metadata": {
    "id": "xLEYCFcIjiM6"
   },
   "source": [
    "#Encapsulation"
   ]
  },
  {
   "cell_type": "code",
   "execution_count": null,
   "metadata": {
    "colab": {
     "base_uri": "https://localhost:8080/"
    },
    "id": "MLPcvt-djk4x",
    "outputId": "4b507891-67a0-4c26-af8d-c661d3b54f71"
   },
   "outputs": [
    {
     "name": "stdout",
     "output_type": "stream",
     "text": [
      "xyz abc\n"
     ]
    }
   ],
   "source": [
    "class company:\n",
    "  def __init__(self,profit,name,headquar):\n",
    "    self.__profit=profit\n",
    "    self.name=name\n",
    "    self.headquar=headquar\n",
    "  def print_details(self):\n",
    "    print(self.name,self.headquar)\n",
    "\n",
    "\n",
    "c=company(2000,\"xyz\",\"abc\")\n",
    "c.print_details()"
   ]
  },
  {
   "cell_type": "code",
   "execution_count": null,
   "metadata": {
    "colab": {
     "base_uri": "https://localhost:8080/",
     "height": 165
    },
    "id": "b_Zg6oVkLVSs",
    "outputId": "87143e27-b1f9-4466-a5ae-46e47f1f9e76"
   },
   "outputs": [
    {
     "ename": "AttributeError",
     "evalue": "ignored",
     "output_type": "error",
     "traceback": [
      "\u001b[0;31m---------------------------------------------------------------------------\u001b[0m",
      "\u001b[0;31mAttributeError\u001b[0m                            Traceback (most recent call last)",
      "\u001b[0;32m<ipython-input-2-b2f4d7534492>\u001b[0m in \u001b[0;36m<module>\u001b[0;34m()\u001b[0m\n\u001b[0;32m----> 1\u001b[0;31m \u001b[0mc\u001b[0m\u001b[0;34m.\u001b[0m\u001b[0m__profit\u001b[0m\u001b[0;34m\u001b[0m\u001b[0;34m\u001b[0m\u001b[0m\n\u001b[0m",
      "\u001b[0;31mAttributeError\u001b[0m: 'company' object has no attribute '__profit'"
     ]
    }
   ],
   "source": [
    "c.__profit"
   ]
  },
  {
   "cell_type": "markdown",
   "metadata": {
    "id": "WFpR9lagqJYX"
   },
   "source": [
    "#Abstraction"
   ]
  },
  {
   "cell_type": "code",
   "execution_count": null,
   "metadata": {
    "colab": {
     "base_uri": "https://localhost:8080/"
    },
    "id": "-uxVOOYHqLrD",
    "outputId": "e92f8ecd-07c8-43ec-9414-84ea022f69a3"
   },
   "outputs": [
    {
     "name": "stdout",
     "output_type": "stream",
     "text": [
      "The mileage is 30kmph\n",
      "The mileage is 27kmph \n",
      "The mileage is 25kmph \n",
      "The mileage is 24kmph \n"
     ]
    }
   ],
   "source": [
    "# Python program demonstrate\n",
    "# abstract base class work\n",
    "from abc import ABC\n",
    "class Car(ABC):\n",
    "    def mileage(self):\n",
    "        pass\n",
    "\n",
    "class Tesla(Car):\n",
    "    def mileage(self):\n",
    "        print(\"The mileage is 30kmph\")\n",
    "class Suzuki(Car):\n",
    "    def mileage(self):\n",
    "        print(\"The mileage is 25kmph \")\n",
    "class Duster(Car):\n",
    "     def mileage(self):\n",
    "          print(\"The mileage is 24kmph \")\n",
    "\n",
    "class Renault(Car):\n",
    "    def mileage(self):\n",
    "            print(\"The mileage is 27kmph \")\n",
    "\n",
    "# Driver code\n",
    "t= Tesla ()\n",
    "t.mileage()\n",
    "\n",
    "r = Renault()\n",
    "r.mileage()\n",
    "\n",
    "s = Suzuki()\n",
    "s.mileage()\n",
    "d = Duster()\n",
    "d.mileage()"
   ]
  },
  {
   "cell_type": "markdown",
   "metadata": {
    "id": "agl3FueLtWPh"
   },
   "source": [
    "#Exception Handling\n",
    "\n",
    "try: <br>\n",
    "catch: <br>\n",
    "finally: <br>\n",
    "raise:"
   ]
  },
  {
   "cell_type": "code",
   "execution_count": null,
   "metadata": {
    "colab": {
     "base_uri": "https://localhost:8080/"
    },
    "id": "0UyufekKtZ4J",
    "outputId": "07274717-6b61-4c12-e945-47817ec3068b"
   },
   "outputs": [
    {
     "name": "stdout",
     "output_type": "stream",
     "text": [
      "An exception occurred\n"
     ]
    }
   ],
   "source": [
    "a=10\n",
    "try:\n",
    "  print(x)\n",
    "except:\n",
    "  print(\"An exception occurred\")"
   ]
  },
  {
   "cell_type": "code",
   "execution_count": null,
   "metadata": {
    "colab": {
     "base_uri": "https://localhost:8080/"
    },
    "id": "-ZyymZabt9EP",
    "outputId": "d85db3e7-7e77-4f7d-e2b1-90d9489baa24"
   },
   "outputs": [
    {
     "name": "stdout",
     "output_type": "stream",
     "text": [
      "Variable x is not defined\n"
     ]
    }
   ],
   "source": [
    "try:\n",
    "  print(x)\n",
    "except NameError:\n",
    "  print(\"Variable x is not defined\")\n",
    "except:\n",
    "  print(\"Something else went wrong\")"
   ]
  },
  {
   "cell_type": "code",
   "execution_count": null,
   "metadata": {
    "colab": {
     "base_uri": "https://localhost:8080/"
    },
    "id": "EFy82p9kuMc4",
    "outputId": "14a908d4-74e9-4f0d-ebcb-c5a0b0675483"
   },
   "outputs": [
    {
     "name": "stdout",
     "output_type": "stream",
     "text": [
      "Hello\n",
      "Nothing went wrong\n"
     ]
    }
   ],
   "source": [
    "try:\n",
    "  print(\"Hello\")\n",
    "except:\n",
    "  print(\"Something went wrong\")\n",
    "else:\n",
    "  print(\"Nothing went wrong\")"
   ]
  },
  {
   "cell_type": "code",
   "execution_count": null,
   "metadata": {
    "colab": {
     "base_uri": "https://localhost:8080/"
    },
    "id": "_cd-5mNcuPEz",
    "outputId": "8124d833-6eb7-4e7e-90e7-f76ad17622d9"
   },
   "outputs": [
    {
     "name": "stdout",
     "output_type": "stream",
     "text": [
      "Something went wrong\n"
     ]
    }
   ],
   "source": [
    "try:\n",
    "  print(x)\n",
    "except:\n",
    "  print(\"Something went wrong\")\n",
    "else:\n",
    "  print(\"Nothing went wrong\")"
   ]
  },
  {
   "cell_type": "code",
   "execution_count": null,
   "metadata": {
    "colab": {
     "base_uri": "https://localhost:8080/"
    },
    "id": "4dusJ3ImuRgj",
    "outputId": "6d6e0136-5d91-489c-c392-d2725cb870e3"
   },
   "outputs": [
    {
     "name": "stdout",
     "output_type": "stream",
     "text": [
      "Something went wrong\n",
      "The 'try except' is finished\n"
     ]
    }
   ],
   "source": [
    "try:\n",
    "  print(x)\n",
    "except:\n",
    "  print(\"Something went wrong\")\n",
    "finally:\n",
    "  print(\"The 'try except' is finished\")"
   ]
  },
  {
   "cell_type": "code",
   "execution_count": null,
   "metadata": {
    "colab": {
     "base_uri": "https://localhost:8080/"
    },
    "id": "JMPv-ZGYuYdz",
    "outputId": "be06eee5-3504-4a42-8ad6-f022245a7a29"
   },
   "outputs": [
    {
     "name": "stdout",
     "output_type": "stream",
     "text": [
      "10\n",
      "The 'try except' is finished\n"
     ]
    }
   ],
   "source": [
    "try:\n",
    "  print(a)\n",
    "except:\n",
    "  print(\"Something went wrong\")\n",
    "finally:\n",
    "  print(\"The 'try except' is finished\")"
   ]
  },
  {
   "cell_type": "code",
   "execution_count": null,
   "metadata": {
    "colab": {
     "base_uri": "https://localhost:8080/",
     "height": 200
    },
    "id": "hhn4Lk30umi5",
    "outputId": "26d8c5fe-e5cc-47c3-cc71-fc5cad539a5e"
   },
   "outputs": [
    {
     "ename": "Exception",
     "evalue": "ignored",
     "output_type": "error",
     "traceback": [
      "\u001b[0;31m---------------------------------------------------------------------------\u001b[0m",
      "\u001b[0;31mException\u001b[0m                                 Traceback (most recent call last)",
      "\u001b[0;32m<ipython-input-11-2edc57024fbc>\u001b[0m in \u001b[0;36m<module>\u001b[0;34m()\u001b[0m\n\u001b[1;32m      2\u001b[0m \u001b[0;34m\u001b[0m\u001b[0m\n\u001b[1;32m      3\u001b[0m \u001b[0;32mif\u001b[0m \u001b[0mx\u001b[0m \u001b[0;34m<\u001b[0m \u001b[0;36m0\u001b[0m\u001b[0;34m:\u001b[0m\u001b[0;34m\u001b[0m\u001b[0;34m\u001b[0m\u001b[0m\n\u001b[0;32m----> 4\u001b[0;31m   \u001b[0;32mraise\u001b[0m \u001b[0mException\u001b[0m\u001b[0;34m(\u001b[0m\u001b[0;34m\"Sorry, no numbers below zero\"\u001b[0m\u001b[0;34m)\u001b[0m\u001b[0;34m\u001b[0m\u001b[0;34m\u001b[0m\u001b[0m\n\u001b[0m",
      "\u001b[0;31mException\u001b[0m: Sorry, no numbers below zero"
     ]
    }
   ],
   "source": [
    "x = -1\n",
    "\n",
    "if x < 0:\n",
    "  raise Exception(\"Sorry, no numbers below zero\")"
   ]
  },
  {
   "cell_type": "code",
   "execution_count": null,
   "metadata": {
    "colab": {
     "base_uri": "https://localhost:8080/",
     "height": 200
    },
    "id": "_Lflq1DUuyOf",
    "outputId": "a3c6b1a0-caae-4c62-cb04-46582ef06f66"
   },
   "outputs": [
    {
     "ename": "Exception",
     "evalue": "ignored",
     "output_type": "error",
     "traceback": [
      "\u001b[0;31m---------------------------------------------------------------------------\u001b[0m",
      "\u001b[0;31mException\u001b[0m                                 Traceback (most recent call last)",
      "\u001b[0;32m<ipython-input-13-4e58e65f6106>\u001b[0m in \u001b[0;36m<module>\u001b[0;34m()\u001b[0m\n\u001b[1;32m      2\u001b[0m \u001b[0;34m\u001b[0m\u001b[0m\n\u001b[1;32m      3\u001b[0m \u001b[0;32mif\u001b[0m \u001b[0mx\u001b[0m \u001b[0;34m<\u001b[0m \u001b[0;36m0\u001b[0m\u001b[0;34m:\u001b[0m\u001b[0;34m\u001b[0m\u001b[0;34m\u001b[0m\u001b[0m\n\u001b[0;32m----> 4\u001b[0;31m   \u001b[0;32mraise\u001b[0m \u001b[0mException\u001b[0m\u001b[0;34m(\u001b[0m\u001b[0;34m\"Error\"\u001b[0m\u001b[0;34m)\u001b[0m\u001b[0;34m\u001b[0m\u001b[0;34m\u001b[0m\u001b[0m\n\u001b[0m",
      "\u001b[0;31mException\u001b[0m: Error"
     ]
    }
   ],
   "source": [
    "x = -1\n",
    "\n",
    "if x < 0:\n",
    "  raise Exception(\"Error\")"
   ]
  },
  {
   "cell_type": "markdown",
   "metadata": {
    "id": "VDQzbPh3vHsK"
   },
   "source": [
    "#File Handling\n",
    "\n",
    "\"r\" - Read - Default value. Opens a file for reading, error if the file does not exist\n",
    "\n",
    "\"a\" - Append - Opens a file for appending, creates the file if it does not exist\n",
    "\n",
    "\"w\" - Write - Opens a file for writing, creates the file if it does not exist\n",
    "\n",
    "\"x\" - Create - Creates the specified file, returns an error if the file exists\n",
    "\n",
    "\n",
    "Additional handling:\n",
    "\n",
    "\"t\" - Text - Default value. Text mode\n",
    "\n",
    "\"b\" - Binary - Binary mode (e.g. images)"
   ]
  },
  {
   "cell_type": "code",
   "execution_count": null,
   "metadata": {
    "id": "So-_yQTYu6r9"
   },
   "outputs": [],
   "source": [
    "f = open(\"demofile.txt\", \"x\")"
   ]
  },
  {
   "cell_type": "code",
   "execution_count": null,
   "metadata": {
    "id": "-YtW-Sy7wd8x"
   },
   "outputs": [],
   "source": [
    "f = open(\"demofile.txt\", \"a\")\n",
    "f.write(\"Now the file has more content!\")\n",
    "f.close()"
   ]
  },
  {
   "cell_type": "code",
   "execution_count": null,
   "metadata": {
    "colab": {
     "base_uri": "https://localhost:8080/"
    },
    "id": "eAE1jatMwsbX",
    "outputId": "4c22dbfd-0782-4de5-d7a8-a899ff945c55"
   },
   "outputs": [
    {
     "name": "stdout",
     "output_type": "stream",
     "text": [
      "Now the file has more content!\n"
     ]
    }
   ],
   "source": [
    "f = open(\"demofile.txt\", \"r\")\n",
    "print(f.read())"
   ]
  },
  {
   "cell_type": "code",
   "execution_count": null,
   "metadata": {
    "colab": {
     "base_uri": "https://localhost:8080/"
    },
    "id": "4OkfNuEuxCEB",
    "outputId": "ea04e158-6cc5-49a7-ab1e-eb2838cc277d"
   },
   "outputs": [
    {
     "name": "stdout",
     "output_type": "stream",
     "text": [
      "The file does not exist\n"
     ]
    }
   ],
   "source": [
    "import os\n",
    "if os.path.exists(\"demofile.txt\"):\n",
    "  os.remove(\"demofile.txt\")\n",
    "  print(\"File is deleted\")\n",
    "else:\n",
    "  print(\"The file does not exist\")"
   ]
  }
 ],
 "metadata": {
  "colab": {
   "collapsed_sections": [
    "u6TyNI33vxVo",
    "1FlGuGuLzlEn",
    "1d3HsQf_0nO3",
    "OPFXjpRZ1Xkk"
   ],
   "provenance": []
  },
  "kernelspec": {
   "display_name": "Python 3 (ipykernel)",
   "language": "python",
   "name": "python3"
  },
  "language_info": {
   "codemirror_mode": {
    "name": "ipython",
    "version": 3
   },
   "file_extension": ".py",
   "mimetype": "text/x-python",
   "name": "python",
   "nbconvert_exporter": "python",
   "pygments_lexer": "ipython3",
   "version": "3.11.4"
  }
 },
 "nbformat": 4,
 "nbformat_minor": 4
}
